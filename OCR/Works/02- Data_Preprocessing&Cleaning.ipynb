{
 "cells": [
  {
   "cell_type": "code",
   "execution_count": 105,
   "id": "funky-spider",
   "metadata": {},
   "outputs": [],
   "source": [
    "import pandas as pd\n",
    "import numpy as np\n",
    "import string\n",
    "import re"
   ]
  },
  {
   "cell_type": "code",
   "execution_count": 106,
   "id": "catholic-firmware",
   "metadata": {},
   "outputs": [],
   "source": [
    "with open(\"./Folder/businessCard.txt\",mode = \"r\", encoding = \"utf8\",errors = \"ignore\") as file:\n",
    "    text = file.read()\n",
    "file.close()"
   ]
  },
  {
   "cell_type": "code",
   "execution_count": 107,
   "id": "friendly-awareness",
   "metadata": {},
   "outputs": [
    {
     "data": {
      "text/html": [
       "<div>\n",
       "<style scoped>\n",
       "    .dataframe tbody tr th:only-of-type {\n",
       "        vertical-align: middle;\n",
       "    }\n",
       "\n",
       "    .dataframe tbody tr th {\n",
       "        vertical-align: top;\n",
       "    }\n",
       "\n",
       "    .dataframe thead th {\n",
       "        text-align: right;\n",
       "    }\n",
       "</style>\n",
       "<table border=\"1\" class=\"dataframe\">\n",
       "  <thead>\n",
       "    <tr style=\"text-align: right;\">\n",
       "      <th></th>\n",
       "      <th>id</th>\n",
       "      <th>text</th>\n",
       "      <th>tag</th>\n",
       "    </tr>\n",
       "  </thead>\n",
       "  <tbody>\n",
       "    <tr>\n",
       "      <th>0</th>\n",
       "      <td>000.jpeg</td>\n",
       "      <td></td>\n",
       "      <td>O</td>\n",
       "    </tr>\n",
       "    <tr>\n",
       "      <th>1</th>\n",
       "      <td>000.jpeg</td>\n",
       "      <td>.</td>\n",
       "      <td>O</td>\n",
       "    </tr>\n",
       "    <tr>\n",
       "      <th>2</th>\n",
       "      <td>000.jpeg</td>\n",
       "      <td>040-4852</td>\n",
       "      <td>B-PHONE</td>\n",
       "    </tr>\n",
       "    <tr>\n",
       "      <th>3</th>\n",
       "      <td>000.jpeg</td>\n",
       "      <td>\"8881,\"</td>\n",
       "      <td>I-PHONE</td>\n",
       "    </tr>\n",
       "    <tr>\n",
       "      <th>4</th>\n",
       "      <td>000.jpeg</td>\n",
       "      <td>90309</td>\n",
       "      <td>B-PHONE</td>\n",
       "    </tr>\n",
       "  </tbody>\n",
       "</table>\n",
       "</div>"
      ],
      "text/plain": [
       "         id      text      tag\n",
       "0  000.jpeg                  O\n",
       "1  000.jpeg         .        O\n",
       "2  000.jpeg  040-4852  B-PHONE\n",
       "3  000.jpeg   \"8881,\"  I-PHONE\n",
       "4  000.jpeg     90309  B-PHONE"
      ]
     },
     "execution_count": 107,
     "metadata": {},
     "output_type": "execute_result"
    }
   ],
   "source": [
    "data = list(map(lambda x : x.split(\"\\t\"), text.split(\"\\n\")))\n",
    "df = pd.DataFrame(data[1:],columns = data[0])\n",
    "df.head()"
   ]
  },
  {
   "cell_type": "markdown",
   "id": "american-ratio",
   "metadata": {},
   "source": [
    "## Cleaning Text\n",
    "- Remove white space\n",
    "- Remove Unwanted special characters\n"
   ]
  },
  {
   "cell_type": "code",
   "execution_count": 108,
   "id": "israeli-schema",
   "metadata": {},
   "outputs": [
    {
     "data": {
      "text/plain": [
       "' \\t\\n\\r\\x0b\\x0c'"
      ]
     },
     "execution_count": 108,
     "metadata": {},
     "output_type": "execute_result"
    }
   ],
   "source": [
    "whitespace = string.whitespace\n",
    "whitespace"
   ]
  },
  {
   "cell_type": "code",
   "execution_count": 109,
   "id": "latest-circus",
   "metadata": {},
   "outputs": [
    {
     "data": {
      "text/plain": [
       "'!\"#$%&\\'()*+,-./:;<=>?@[\\\\]^_`{|}~'"
      ]
     },
     "execution_count": 109,
     "metadata": {},
     "output_type": "execute_result"
    }
   ],
   "source": [
    "string.punctuation"
   ]
  },
  {
   "cell_type": "code",
   "execution_count": 110,
   "id": "changing-adolescent",
   "metadata": {},
   "outputs": [
    {
     "data": {
      "text/plain": [
       "\"!#$%&'()*+:;<=>?[\\\\]^`{|}~\""
      ]
     },
     "execution_count": 110,
     "metadata": {},
     "output_type": "execute_result"
    }
   ],
   "source": [
    "punctuation = '!#$%&\\'()*+:;<=>?[\\\\]^`{|}~'\n",
    "punctuation"
   ]
  },
  {
   "cell_type": "code",
   "execution_count": 111,
   "id": "dying-semester",
   "metadata": {},
   "outputs": [],
   "source": [
    "whitespace = string.whitespace\n",
    "punctuation = '!#$%&\\'()*+:;<=>?[\\\\]^`{|}~'\n",
    "tableWhitespace = str.maketrans(\"\",\"\",whitespace)\n",
    "tablePunctuation = str.maketrans(\"\",\"\",punctuation)\n",
    "\n",
    "def cleanText(txt):\n",
    "    \n",
    "    text = str(txt)\n",
    "    # remove text.lower()\n",
    "    #text = text.lower()\n",
    "    removewhitespace = text.translate(tableWhitespace)\n",
    "    removepunctuation = removewhitespace.translate(tablePunctuation)\n",
    "    \n",
    "    return str(removepunctuation)"
   ]
  },
  {
   "cell_type": "code",
   "execution_count": 112,
   "id": "reflected-fraud",
   "metadata": {},
   "outputs": [],
   "source": [
    "df[\"text\"] = df[\"text\"].apply(cleanText)\n",
    "dataClean = df.query(\"text != '' \")\n",
    "dataClean = dataClean.query(\"text != ' ' \")\n",
    "dataClean.dropna(inplace = True)"
   ]
  },
  {
   "cell_type": "code",
   "execution_count": 113,
   "id": "collected-senior",
   "metadata": {},
   "outputs": [
    {
     "data": {
      "text/html": [
       "<div>\n",
       "<style scoped>\n",
       "    .dataframe tbody tr th:only-of-type {\n",
       "        vertical-align: middle;\n",
       "    }\n",
       "\n",
       "    .dataframe tbody tr th {\n",
       "        vertical-align: top;\n",
       "    }\n",
       "\n",
       "    .dataframe thead th {\n",
       "        text-align: right;\n",
       "    }\n",
       "</style>\n",
       "<table border=\"1\" class=\"dataframe\">\n",
       "  <thead>\n",
       "    <tr style=\"text-align: right;\">\n",
       "      <th></th>\n",
       "      <th>id</th>\n",
       "      <th>text</th>\n",
       "      <th>tag</th>\n",
       "    </tr>\n",
       "  </thead>\n",
       "  <tbody>\n",
       "    <tr>\n",
       "      <th>1</th>\n",
       "      <td>000.jpeg</td>\n",
       "      <td>.</td>\n",
       "      <td>O</td>\n",
       "    </tr>\n",
       "    <tr>\n",
       "      <th>2</th>\n",
       "      <td>000.jpeg</td>\n",
       "      <td>040-4852</td>\n",
       "      <td>B-PHONE</td>\n",
       "    </tr>\n",
       "    <tr>\n",
       "      <th>3</th>\n",
       "      <td>000.jpeg</td>\n",
       "      <td>\"8881,\"</td>\n",
       "      <td>I-PHONE</td>\n",
       "    </tr>\n",
       "    <tr>\n",
       "      <th>4</th>\n",
       "      <td>000.jpeg</td>\n",
       "      <td>90309</td>\n",
       "      <td>B-PHONE</td>\n",
       "    </tr>\n",
       "    <tr>\n",
       "      <th>5</th>\n",
       "      <td>000.jpeg</td>\n",
       "      <td>52549</td>\n",
       "      <td>I-PHONE</td>\n",
       "    </tr>\n",
       "  </tbody>\n",
       "</table>\n",
       "</div>"
      ],
      "text/plain": [
       "         id      text      tag\n",
       "1  000.jpeg         .        O\n",
       "2  000.jpeg  040-4852  B-PHONE\n",
       "3  000.jpeg   \"8881,\"  I-PHONE\n",
       "4  000.jpeg     90309  B-PHONE\n",
       "5  000.jpeg     52549  I-PHONE"
      ]
     },
     "execution_count": 113,
     "metadata": {},
     "output_type": "execute_result"
    }
   ],
   "source": [
    "dataClean.head()"
   ]
  },
  {
   "cell_type": "code",
   "execution_count": 114,
   "id": "banner-plaza",
   "metadata": {},
   "outputs": [
    {
     "name": "stdout",
     "output_type": "stream",
     "text": [
      "Before Shape : (10446, 3)\n",
      "After Shape : (8288, 3)\n"
     ]
    }
   ],
   "source": [
    "print(\"Before Shape :\",df.shape)\n",
    "print(\"After Shape :\",dataClean.shape)"
   ]
  },
  {
   "cell_type": "markdown",
   "id": "lonely-vanilla",
   "metadata": {},
   "source": [
    "## Convert Data Into Spacy Format"
   ]
  },
  {
   "cell_type": "code",
   "execution_count": 115,
   "id": "rational-decimal",
   "metadata": {},
   "outputs": [
    {
     "data": {
      "text/plain": [
       "array([['.', 'O'],\n",
       "       ['040-4852', 'B-PHONE'],\n",
       "       ['\"8881,\"', 'I-PHONE']], dtype=object)"
      ]
     },
     "execution_count": 115,
     "metadata": {},
     "output_type": "execute_result"
    }
   ],
   "source": [
    "group = dataClean.groupby(by = \"id\")\n",
    "group.get_group(\"000.jpeg\")[[\"text\",\"tag\"]].values[:3]"
   ]
  },
  {
   "cell_type": "code",
   "execution_count": 94,
   "id": "medium-simon",
   "metadata": {},
   "outputs": [],
   "source": [
    "grouparray = group.get_group(\"000.jpeg\")[[\"text\",\"tag\"]].values\n",
    "content = ''\n",
    "annotations = {\"entities\" : []}\n",
    "start = 0\n",
    "end = 0\n",
    "for text,label in grouparray:\n",
    "    text = str(text)\n",
    "    stringLength = len(text) + 1\n",
    "    \n",
    "    start =  end \n",
    "    end = start + stringLength\n",
    "    \n",
    "    if label != \"O\":\n",
    "        annot = (start,end-1,label)\n",
    "        annotations[\"entities\"].append(annot)\n",
    "        \n",
    "    content = content + text + \" \""
   ]
  },
  {
   "cell_type": "code",
   "execution_count": 95,
   "id": "romantic-namibia",
   "metadata": {},
   "outputs": [
    {
     "name": "stdout",
     "output_type": "stream",
     "text": [
      ". 040-4852 \"8881,\" 90309 52549 fi /laurelsoverseaseducation @ laurels overseas educational consultancy pvt. ltd. sea u.k australia canada ireland www.laurelseducation.com info@laurelseducation.com \n",
      "\n",
      "{'entities': [(2, 10, 'B-PHONE'), (11, 18, 'I-PHONE'), (19, 24, 'B-PHONE'), (25, 30, 'I-PHONE'), (62, 69, 'B-ORG'), (70, 78, 'I-ORG'), (79, 90, 'I-ORG'), (91, 102, 'I-ORG'), (103, 107, 'I-ORG'), (108, 112, 'I-ORG'), (146, 170, 'B-WEB'), (171, 196, 'B-EMAIL')]}\n"
     ]
    }
   ],
   "source": [
    "print(content)\n",
    "print()\n",
    "print(annotations)"
   ]
  },
  {
   "cell_type": "code",
   "execution_count": 96,
   "id": "killing-waterproof",
   "metadata": {},
   "outputs": [
    {
     "data": {
      "text/plain": [
       "(2, 10)"
      ]
     },
     "execution_count": 96,
     "metadata": {},
     "output_type": "execute_result"
    }
   ],
   "source": [
    "content.find(\"040-4852\"),content.find(\"040-4852\") + len(\"040-4852\")"
   ]
  },
  {
   "cell_type": "code",
   "execution_count": 97,
   "id": "western-deputy",
   "metadata": {},
   "outputs": [
    {
     "data": {
      "text/plain": [
       "(146, 170)"
      ]
     },
     "execution_count": 97,
     "metadata": {},
     "output_type": "execute_result"
    }
   ],
   "source": [
    "content.find(\"www.laurelseducation.com\"),content.find(\"www.laurelseducation.com\") + len(\"www.laurelseducation.com\")"
   ]
  },
  {
   "cell_type": "code",
   "execution_count": 98,
   "id": "congressional-darwin",
   "metadata": {},
   "outputs": [],
   "source": [
    "cards = group.groups.keys() # dict_keys(['000.jpeg', '001.jpeg', ...]\n",
    "\n",
    "allCardsData = []\n",
    "\n",
    "for card in cards:\n",
    "    \n",
    "    cardData = []\n",
    "    \n",
    "    grouparray = group.get_group(card)[[\"text\",\"tag\"]].values\n",
    "    content = \"\"\n",
    "    annotations = {\"entities\" : []} \n",
    "    start = 0\n",
    "    end = 0\n",
    "    \n",
    "    for text,label in grouparray:\n",
    "        text = str(text)\n",
    "        stringLength = len(text) + 1\n",
    "        \n",
    "        start = end\n",
    "        end = start + stringLength\n",
    "        \n",
    "        if label != \"O\":\n",
    "            annot = (start,end-1,label)\n",
    "            annotations[\"entities\"].append(annot)\n",
    "            \n",
    "        content = content + text + \" \"\n",
    "        \n",
    "    cardData = (content,annotations)\n",
    "    \n",
    "    allCardsData.append(cardData)"
   ]
  },
  {
   "cell_type": "code",
   "execution_count": 99,
   "id": "liable-mediterranean",
   "metadata": {},
   "outputs": [
    {
     "data": {
      "text/plain": [
       "('. 040-4852 \"8881,\" 90309 52549 fi /laurelsoverseaseducation @ laurels overseas educational consultancy pvt. ltd. sea u.k australia canada ireland www.laurelseducation.com info@laurelseducation.com ',\n",
       " {'entities': [(2, 10, 'B-PHONE'),\n",
       "   (11, 18, 'I-PHONE'),\n",
       "   (19, 24, 'B-PHONE'),\n",
       "   (25, 30, 'I-PHONE'),\n",
       "   (62, 69, 'B-ORG'),\n",
       "   (70, 78, 'I-ORG'),\n",
       "   (79, 90, 'I-ORG'),\n",
       "   (91, 102, 'I-ORG'),\n",
       "   (103, 107, 'I-ORG'),\n",
       "   (108, 112, 'I-ORG'),\n",
       "   (146, 170, 'B-WEB'),\n",
       "   (171, 196, 'B-EMAIL')]})"
      ]
     },
     "execution_count": 99,
     "metadata": {},
     "output_type": "execute_result"
    }
   ],
   "source": [
    "allCardsData[0]"
   ]
  },
  {
   "cell_type": "code",
   "execution_count": 100,
   "id": "average-pipeline",
   "metadata": {},
   "outputs": [
    {
     "name": "stdout",
     "output_type": "stream",
     "text": [
      "Lenght :  267\n"
     ]
    }
   ],
   "source": [
    "print(\"Lenght : \", len(allCardsData))"
   ]
  },
  {
   "cell_type": "markdown",
   "id": "perfect-florence",
   "metadata": {},
   "source": [
    "## Split The Data Into Training and Testing Set"
   ]
  },
  {
   "cell_type": "code",
   "execution_count": 101,
   "id": "accredited-presentation",
   "metadata": {},
   "outputs": [],
   "source": [
    "import random\n",
    "\n",
    "random.shuffle(allCardsData)"
   ]
  },
  {
   "cell_type": "code",
   "execution_count": 102,
   "id": "variable-building",
   "metadata": {},
   "outputs": [],
   "source": [
    "#allCardsData[0]"
   ]
  },
  {
   "cell_type": "code",
   "execution_count": 103,
   "id": "innovative-spare",
   "metadata": {},
   "outputs": [],
   "source": [
    "TrainData = allCardsData[:240]\n",
    "TestData = allCardsData[240:]"
   ]
  },
  {
   "cell_type": "code",
   "execution_count": 104,
   "id": "bottom-electronics",
   "metadata": {},
   "outputs": [],
   "source": [
    "import pickle\n",
    "\n",
    "pickle.dump(TrainData,open(\"./data/TrainData.pickle\", mode = \"wb\"))\n",
    "pickle.dump(TestData,open(\"./data/TestData.pickle\", mode = \"wb\"))"
   ]
  },
  {
   "cell_type": "code",
   "execution_count": null,
   "id": "integrated-aircraft",
   "metadata": {},
   "outputs": [],
   "source": []
  }
 ],
 "metadata": {
  "kernelspec": {
   "display_name": "Python 3",
   "language": "python",
   "name": "python3"
  },
  "language_info": {
   "codemirror_mode": {
    "name": "ipython",
    "version": 3
   },
   "file_extension": ".py",
   "mimetype": "text/x-python",
   "name": "python",
   "nbconvert_exporter": "python",
   "pygments_lexer": "ipython3",
   "version": "3.7.7"
  }
 },
 "nbformat": 4,
 "nbformat_minor": 5
}

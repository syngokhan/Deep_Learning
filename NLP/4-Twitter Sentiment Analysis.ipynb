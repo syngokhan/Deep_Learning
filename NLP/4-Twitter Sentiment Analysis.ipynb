{
 "cells": [
  {
   "cell_type": "code",
   "execution_count": 1,
   "id": "05c5b6b9",
   "metadata": {},
   "outputs": [],
   "source": [
    "#!wget https://raw.githubusercontent.com/laxmimerit/twitter-data/master/twitt30k.csv"
   ]
  },
  {
   "cell_type": "code",
   "execution_count": 2,
   "id": "0f0a25ac",
   "metadata": {},
   "outputs": [],
   "source": [
    "import pandas as pd\n",
    "import numpy as np\n",
    "import seaborn as sns\n",
    "import matplotlib.pyplot as plt\n",
    "%matplotlib inline"
   ]
  },
  {
   "cell_type": "code",
   "execution_count": 3,
   "id": "b323a89a",
   "metadata": {},
   "outputs": [],
   "source": [
    "from sklearn.model_selection import train_test_split, GridSearchCV\n",
    "from sklearn.svm import SVC,LinearSVC\n",
    "from sklearn.ensemble import RandomForestClassifier\n",
    "\n",
    "from sklearn.metrics import accuracy_score,confusion_matrix,classification_report\n",
    "from sklearn.feature_extraction.text import TfidfVectorizer"
   ]
  },
  {
   "cell_type": "code",
   "execution_count": 4,
   "id": "66fe2295",
   "metadata": {},
   "outputs": [
    {
     "data": {
      "text/html": [
       "<div>\n",
       "<style scoped>\n",
       "    .dataframe tbody tr th:only-of-type {\n",
       "        vertical-align: middle;\n",
       "    }\n",
       "\n",
       "    .dataframe tbody tr th {\n",
       "        vertical-align: top;\n",
       "    }\n",
       "\n",
       "    .dataframe thead th {\n",
       "        text-align: right;\n",
       "    }\n",
       "</style>\n",
       "<table border=\"1\" class=\"dataframe\">\n",
       "  <thead>\n",
       "    <tr style=\"text-align: right;\">\n",
       "      <th></th>\n",
       "      <th>twitts</th>\n",
       "      <th>sentiment</th>\n",
       "    </tr>\n",
       "  </thead>\n",
       "  <tbody>\n",
       "    <tr>\n",
       "      <th>0</th>\n",
       "      <td>@robbiebronniman Sounds like a great night.</td>\n",
       "      <td>1</td>\n",
       "    </tr>\n",
       "    <tr>\n",
       "      <th>1</th>\n",
       "      <td>Damn the person who stolde my wallet !!!!!  Ma...</td>\n",
       "      <td>1</td>\n",
       "    </tr>\n",
       "    <tr>\n",
       "      <th>2</th>\n",
       "      <td>Greetings from the piano bench  (photo) http:/...</td>\n",
       "      <td>1</td>\n",
       "    </tr>\n",
       "    <tr>\n",
       "      <th>3</th>\n",
       "      <td>@drewryanscott i love it!! i love you!! haha f...</td>\n",
       "      <td>1</td>\n",
       "    </tr>\n",
       "    <tr>\n",
       "      <th>4</th>\n",
       "      <td>@kissthestars Pretty pretty pretty please, pak...</td>\n",
       "      <td>0</td>\n",
       "    </tr>\n",
       "  </tbody>\n",
       "</table>\n",
       "</div>"
      ],
      "text/plain": [
       "                                              twitts  sentiment\n",
       "0       @robbiebronniman Sounds like a great night.           1\n",
       "1  Damn the person who stolde my wallet !!!!!  Ma...          1\n",
       "2  Greetings from the piano bench  (photo) http:/...          1\n",
       "3  @drewryanscott i love it!! i love you!! haha f...          1\n",
       "4  @kissthestars Pretty pretty pretty please, pak...          0"
      ]
     },
     "execution_count": 4,
     "metadata": {},
     "output_type": "execute_result"
    }
   ],
   "source": [
    "df = pd.read_csv(\"twitt30k.csv\")\n",
    "df.head()"
   ]
  },
  {
   "cell_type": "code",
   "execution_count": 5,
   "id": "fe8447b9",
   "metadata": {},
   "outputs": [
    {
     "data": {
      "text/plain": [
       "(30000, 2)"
      ]
     },
     "execution_count": 5,
     "metadata": {},
     "output_type": "execute_result"
    }
   ],
   "source": [
    "df.shape"
   ]
  },
  {
   "cell_type": "code",
   "execution_count": 6,
   "id": "6920e11f",
   "metadata": {},
   "outputs": [
    {
     "data": {
      "text/plain": [
       "1    15000\n",
       "0    15000\n",
       "Name: sentiment, dtype: int64"
      ]
     },
     "execution_count": 6,
     "metadata": {},
     "output_type": "execute_result"
    }
   ],
   "source": [
    "df[\"sentiment\"].value_counts()"
   ]
  },
  {
   "cell_type": "markdown",
   "id": "4893b4dc",
   "metadata": {},
   "source": [
    "## SVM Model and Data Preparation"
   ]
  },
  {
   "cell_type": "code",
   "execution_count": 7,
   "id": "7757de4b",
   "metadata": {},
   "outputs": [],
   "source": [
    "def run_svm(df):\n",
    "    \n",
    "    X = df[\"twitts\"]\n",
    "    y = df[\"sentiment\"]\n",
    "\n",
    "    tfidf = TfidfVectorizer()\n",
    "    X = tfidf.fit_transform(X)\n",
    "\n",
    "    X_train,X_test,y_train,y_test = \\\n",
    "        train_test_split(X,y ,test_size=0.2,random_state=0,stratify=y)\n",
    "\n",
    "    print(\"X Shape : {}\".format(X.shape))\n",
    "\n",
    "    clf = LinearSVC()\n",
    "    clf.fit(X_train, y_train)\n",
    "\n",
    "    y_pred = clf.predict(X_test)\n",
    "    \n",
    "    print()\n",
    "    print(\"Report\")\n",
    "    print(classification_report(y_test, y_pred))\n",
    "    \n",
    "    return tfidf,clf"
   ]
  },
  {
   "cell_type": "code",
   "execution_count": 8,
   "id": "66d749ee",
   "metadata": {},
   "outputs": [
    {
     "name": "stdout",
     "output_type": "stream",
     "text": [
      "X Shape : (30000, 40854)\n",
      "\n",
      "Report\n",
      "              precision    recall  f1-score   support\n",
      "\n",
      "           0       0.75      0.74      0.75      3000\n",
      "           1       0.74      0.75      0.75      3000\n",
      "\n",
      "    accuracy                           0.75      6000\n",
      "   macro avg       0.75      0.75      0.75      6000\n",
      "weighted avg       0.75      0.75      0.75      6000\n",
      "\n",
      "CPU times: user 361 ms, sys: 9.34 ms, total: 370 ms\n",
      "Wall time: 369 ms\n"
     ]
    }
   ],
   "source": [
    "%%time\n",
    "tfidf,clf = run_svm(df)"
   ]
  },
  {
   "cell_type": "code",
   "execution_count": 9,
   "id": "4b0bb874",
   "metadata": {},
   "outputs": [
    {
     "data": {
      "text/plain": [
       "array([1])"
      ]
     },
     "execution_count": 9,
     "metadata": {},
     "output_type": "execute_result"
    }
   ],
   "source": [
    "x = \"i am really happy. thanks a lot for coming with me\"\n",
    "\n",
    "clf.predict(tfidf.transform([x]))"
   ]
  },
  {
   "cell_type": "markdown",
   "id": "1e2d3865",
   "metadata": {},
   "source": [
    "## Data Cleaning and Retraining SVM"
   ]
  },
  {
   "cell_type": "code",
   "execution_count": 10,
   "id": "2d208f1a",
   "metadata": {},
   "outputs": [],
   "source": [
    "import Preprocess_gokhanEr as pp"
   ]
  },
  {
   "cell_type": "code",
   "execution_count": 11,
   "id": "6c424cbc",
   "metadata": {},
   "outputs": [
    {
     "data": {
      "text/html": [
       "<div>\n",
       "<style scoped>\n",
       "    .dataframe tbody tr th:only-of-type {\n",
       "        vertical-align: middle;\n",
       "    }\n",
       "\n",
       "    .dataframe tbody tr th {\n",
       "        vertical-align: top;\n",
       "    }\n",
       "\n",
       "    .dataframe thead th {\n",
       "        text-align: right;\n",
       "    }\n",
       "</style>\n",
       "<table border=\"1\" class=\"dataframe\">\n",
       "  <thead>\n",
       "    <tr style=\"text-align: right;\">\n",
       "      <th></th>\n",
       "      <th>twitts</th>\n",
       "      <th>sentiment</th>\n",
       "    </tr>\n",
       "  </thead>\n",
       "  <tbody>\n",
       "    <tr>\n",
       "      <th>0</th>\n",
       "      <td>@robbiebronniman Sounds like a great night.</td>\n",
       "      <td>1</td>\n",
       "    </tr>\n",
       "    <tr>\n",
       "      <th>1</th>\n",
       "      <td>Damn the person who stolde my wallet !!!!!  Ma...</td>\n",
       "      <td>1</td>\n",
       "    </tr>\n",
       "    <tr>\n",
       "      <th>2</th>\n",
       "      <td>Greetings from the piano bench  (photo) http:/...</td>\n",
       "      <td>1</td>\n",
       "    </tr>\n",
       "    <tr>\n",
       "      <th>3</th>\n",
       "      <td>@drewryanscott i love it!! i love you!! haha f...</td>\n",
       "      <td>1</td>\n",
       "    </tr>\n",
       "    <tr>\n",
       "      <th>4</th>\n",
       "      <td>@kissthestars Pretty pretty pretty please, pak...</td>\n",
       "      <td>0</td>\n",
       "    </tr>\n",
       "  </tbody>\n",
       "</table>\n",
       "</div>"
      ],
      "text/plain": [
       "                                              twitts  sentiment\n",
       "0       @robbiebronniman Sounds like a great night.           1\n",
       "1  Damn the person who stolde my wallet !!!!!  Ma...          1\n",
       "2  Greetings from the piano bench  (photo) http:/...          1\n",
       "3  @drewryanscott i love it!! i love you!! haha f...          1\n",
       "4  @kissthestars Pretty pretty pretty please, pak...          0"
      ]
     },
     "execution_count": 11,
     "metadata": {},
     "output_type": "execute_result"
    }
   ],
   "source": [
    "df.head()"
   ]
  },
  {
   "cell_type": "code",
   "execution_count": 12,
   "id": "d2344436",
   "metadata": {},
   "outputs": [
    {
     "data": {
      "text/html": [
       "<div>\n",
       "<style scoped>\n",
       "    .dataframe tbody tr th:only-of-type {\n",
       "        vertical-align: middle;\n",
       "    }\n",
       "\n",
       "    .dataframe tbody tr th {\n",
       "        vertical-align: top;\n",
       "    }\n",
       "\n",
       "    .dataframe thead th {\n",
       "        text-align: right;\n",
       "    }\n",
       "</style>\n",
       "<table border=\"1\" class=\"dataframe\">\n",
       "  <thead>\n",
       "    <tr style=\"text-align: right;\">\n",
       "      <th></th>\n",
       "      <th>twitts</th>\n",
       "      <th>sentiment</th>\n",
       "    </tr>\n",
       "  </thead>\n",
       "  <tbody>\n",
       "    <tr>\n",
       "      <th>0</th>\n",
       "      <td>@robbiebronniman sounds like a great night.</td>\n",
       "      <td>1</td>\n",
       "    </tr>\n",
       "    <tr>\n",
       "      <th>1</th>\n",
       "      <td>damn the person who stolde my wallet !!!!!  ma...</td>\n",
       "      <td>1</td>\n",
       "    </tr>\n",
       "    <tr>\n",
       "      <th>2</th>\n",
       "      <td>greetings from the piano bench  (photo) http:/...</td>\n",
       "      <td>1</td>\n",
       "    </tr>\n",
       "    <tr>\n",
       "      <th>3</th>\n",
       "      <td>@drewryanscott i love it!! i love you!! haha f...</td>\n",
       "      <td>1</td>\n",
       "    </tr>\n",
       "    <tr>\n",
       "      <th>4</th>\n",
       "      <td>@kissthestars pretty pretty pretty please, pak...</td>\n",
       "      <td>0</td>\n",
       "    </tr>\n",
       "  </tbody>\n",
       "</table>\n",
       "</div>"
      ],
      "text/plain": [
       "                                              twitts  sentiment\n",
       "0       @robbiebronniman sounds like a great night.           1\n",
       "1  damn the person who stolde my wallet !!!!!  ma...          1\n",
       "2  greetings from the piano bench  (photo) http:/...          1\n",
       "3  @drewryanscott i love it!! i love you!! haha f...          1\n",
       "4  @kissthestars pretty pretty pretty please, pak...          0"
      ]
     },
     "execution_count": 12,
     "metadata": {},
     "output_type": "execute_result"
    }
   ],
   "source": [
    "df[\"twitts\"] = df[\"twitts\"].apply(lambda words : pp.get_lower_convert(words))\n",
    "df.head()"
   ]
  },
  {
   "cell_type": "code",
   "execution_count": 13,
   "id": "86679a2b",
   "metadata": {},
   "outputs": [
    {
     "data": {
      "text/html": [
       "<div>\n",
       "<style scoped>\n",
       "    .dataframe tbody tr th:only-of-type {\n",
       "        vertical-align: middle;\n",
       "    }\n",
       "\n",
       "    .dataframe tbody tr th {\n",
       "        vertical-align: top;\n",
       "    }\n",
       "\n",
       "    .dataframe thead th {\n",
       "        text-align: right;\n",
       "    }\n",
       "</style>\n",
       "<table border=\"1\" class=\"dataframe\">\n",
       "  <thead>\n",
       "    <tr style=\"text-align: right;\">\n",
       "      <th></th>\n",
       "      <th>twitts</th>\n",
       "      <th>sentiment</th>\n",
       "    </tr>\n",
       "  </thead>\n",
       "  <tbody>\n",
       "    <tr>\n",
       "      <th>0</th>\n",
       "      <td>@robbiebronniman sounds like a great night.</td>\n",
       "      <td>1</td>\n",
       "    </tr>\n",
       "    <tr>\n",
       "      <th>1</th>\n",
       "      <td>damn the person who stolde my wallet !!!!!  ma...</td>\n",
       "      <td>1</td>\n",
       "    </tr>\n",
       "    <tr>\n",
       "      <th>2</th>\n",
       "      <td>greetings from the piano bench  (photo) http:/...</td>\n",
       "      <td>1</td>\n",
       "    </tr>\n",
       "    <tr>\n",
       "      <th>3</th>\n",
       "      <td>@drewryanscott i love it!! i love you!! haha f...</td>\n",
       "      <td>1</td>\n",
       "    </tr>\n",
       "    <tr>\n",
       "      <th>4</th>\n",
       "      <td>@kissthestars pretty pretty pretty please, pak...</td>\n",
       "      <td>0</td>\n",
       "    </tr>\n",
       "  </tbody>\n",
       "</table>\n",
       "</div>"
      ],
      "text/plain": [
       "                                              twitts  sentiment\n",
       "0       @robbiebronniman sounds like a great night.           1\n",
       "1  damn the person who stolde my wallet !!!!!  ma...          1\n",
       "2  greetings from the piano bench  (photo) http:/...          1\n",
       "3  @drewryanscott i love it!! i love you!! haha f...          1\n",
       "4  @kissthestars pretty pretty pretty please, pak...          0"
      ]
     },
     "execution_count": 13,
     "metadata": {},
     "output_type": "execute_result"
    }
   ],
   "source": [
    "df[\"twitts\"] = df[\"twitts\"].apply(lambda words : pp.cont_exp(words))\n",
    "df.head()"
   ]
  },
  {
   "cell_type": "code",
   "execution_count": 18,
   "id": "be1ef5c1",
   "metadata": {},
   "outputs": [],
   "source": [
    "df[\"twitts\"] = df[\"twitts\"].apply(lambda words : pp.remove_emails(words))\n",
    "df[\"twitts\"] = df[\"twitts\"].apply(lambda words : pp.remove_urls(words))\n",
    "df[\"twitts\"] = df[\"twitts\"].apply(lambda words : pp.remove_rt(words))\n",
    "df[\"twitts\"] = df[\"twitts\"].apply(lambda words : pp.remove_html_tags(words))\n",
    "df[\"twitts\"] = df[\"twitts\"].apply(lambda words : pp.remove_special_chars(words))\n",
    "df[\"twitts\"] = df[\"twitts\"].apply(lambda words : pp.remove_accented_chars(words))"
   ]
  },
  {
   "cell_type": "code",
   "execution_count": 19,
   "id": "48cf1130",
   "metadata": {},
   "outputs": [
    {
     "data": {
      "text/html": [
       "<div>\n",
       "<style scoped>\n",
       "    .dataframe tbody tr th:only-of-type {\n",
       "        vertical-align: middle;\n",
       "    }\n",
       "\n",
       "    .dataframe tbody tr th {\n",
       "        vertical-align: top;\n",
       "    }\n",
       "\n",
       "    .dataframe thead th {\n",
       "        text-align: right;\n",
       "    }\n",
       "</style>\n",
       "<table border=\"1\" class=\"dataframe\">\n",
       "  <thead>\n",
       "    <tr style=\"text-align: right;\">\n",
       "      <th></th>\n",
       "      <th>twitts</th>\n",
       "      <th>sentiment</th>\n",
       "    </tr>\n",
       "  </thead>\n",
       "  <tbody>\n",
       "    <tr>\n",
       "      <th>0</th>\n",
       "      <td>robbiebronniman sounds like a great night</td>\n",
       "      <td>1</td>\n",
       "    </tr>\n",
       "    <tr>\n",
       "      <th>1</th>\n",
       "      <td>damn the person who stolde my wallet may karma...</td>\n",
       "      <td>1</td>\n",
       "    </tr>\n",
       "    <tr>\n",
       "      <th>2</th>\n",
       "      <td>greetings from the piano bench photo</td>\n",
       "      <td>1</td>\n",
       "    </tr>\n",
       "    <tr>\n",
       "      <th>3</th>\n",
       "      <td>drewryanscott i love it i love you haha forget...</td>\n",
       "      <td>1</td>\n",
       "    </tr>\n",
       "    <tr>\n",
       "      <th>4</th>\n",
       "      <td>kissthestars pretty pretty pretty please pakid...</td>\n",
       "      <td>0</td>\n",
       "    </tr>\n",
       "  </tbody>\n",
       "</table>\n",
       "</div>"
      ],
      "text/plain": [
       "                                              twitts  sentiment\n",
       "0          robbiebronniman sounds like a great night          1\n",
       "1  damn the person who stolde my wallet may karma...          1\n",
       "2               greetings from the piano bench photo          1\n",
       "3  drewryanscott i love it i love you haha forget...          1\n",
       "4  kissthestars pretty pretty pretty please pakid...          0"
      ]
     },
     "execution_count": 19,
     "metadata": {},
     "output_type": "execute_result"
    }
   ],
   "source": [
    "df.head()"
   ]
  },
  {
   "cell_type": "markdown",
   "id": "4f2b061e",
   "metadata": {},
   "source": [
    "## Fine Tune Your ML Model"
   ]
  },
  {
   "cell_type": "code",
   "execution_count": 37,
   "id": "dfd50bd9",
   "metadata": {},
   "outputs": [
    {
     "name": "stdout",
     "output_type": "stream",
     "text": [
      "X Shape : (30000, 219355)\n",
      "\n",
      "Report\n",
      "              precision    recall  f1-score   support\n",
      "\n",
      "           0       0.76      0.75      0.76      3000\n",
      "           1       0.76      0.77      0.76      3000\n",
      "\n",
      "    accuracy                           0.76      6000\n",
      "   macro avg       0.76      0.76      0.76      6000\n",
      "weighted avg       0.76      0.76      0.76      6000\n",
      "\n"
     ]
    }
   ],
   "source": [
    "def run_svm(df):\n",
    "    \n",
    "    X = df[\"twitts\"]\n",
    "    y = df[\"sentiment\"]\n",
    "\n",
    "    tfidf = TfidfVectorizer(norm = \"l2\", ngram_range=(1,2),analyzer=\"word\")\n",
    "    X = tfidf.fit_transform(X)\n",
    "\n",
    "    X_train,X_test,y_train,y_test = \\\n",
    "        train_test_split(X,y ,test_size=0.2,random_state=0,stratify=y)\n",
    "\n",
    "    print(\"X Shape : {}\".format(X.shape))\n",
    "\n",
    "    clf = LinearSVC()\n",
    "    clf.fit(X_train, y_train)\n",
    "\n",
    "    y_pred = clf.predict(X_test)\n",
    "    \n",
    "    print()\n",
    "    print(\"Report\")\n",
    "    print(classification_report(y_test, y_pred))\n",
    "    \n",
    "    return tfidf,clf\n",
    "\n",
    "tfidf, clf = run_svm(df)"
   ]
  },
  {
   "cell_type": "markdown",
   "id": "7b30a800",
   "metadata": {},
   "source": [
    "## Saving and Loading ML Model"
   ]
  },
  {
   "cell_type": "code",
   "execution_count": 39,
   "id": "aa0cec70",
   "metadata": {},
   "outputs": [],
   "source": [
    "import pickle"
   ]
  },
  {
   "cell_type": "code",
   "execution_count": 40,
   "id": "72c232d2",
   "metadata": {},
   "outputs": [],
   "source": [
    "pickle.dump(clf, open(\"clf.pkl\",\"wb\"))\n",
    "pickle.dump(tfidf, open(\"tfidf.pkl\",\"wb\"))"
   ]
  },
  {
   "cell_type": "code",
   "execution_count": 41,
   "id": "d9e024a8",
   "metadata": {},
   "outputs": [],
   "source": [
    "del clf,tfidf"
   ]
  },
  {
   "cell_type": "code",
   "execution_count": 42,
   "id": "01eae172",
   "metadata": {},
   "outputs": [],
   "source": [
    "clf = pickle.load(open(\"clf.pkl\",\"rb\"))\n",
    "tfidf = pickle.load(open(\"tfidf.pkl\",\"rb\"))"
   ]
  },
  {
   "cell_type": "code",
   "execution_count": 44,
   "id": "ee97c156",
   "metadata": {},
   "outputs": [
    {
     "data": {
      "text/plain": [
       "'i am really happy. thanks a lot for coming with me'"
      ]
     },
     "execution_count": 44,
     "metadata": {},
     "output_type": "execute_result"
    }
   ],
   "source": [
    "x = 'i am really happy. thanks a lot for coming with me'"
   ]
  },
  {
   "cell_type": "code",
   "execution_count": 47,
   "id": "b87e5287",
   "metadata": {},
   "outputs": [
    {
     "data": {
      "text/plain": [
       "array([1])"
      ]
     },
     "execution_count": 47,
     "metadata": {},
     "output_type": "execute_result"
    }
   ],
   "source": [
    "clf.predict(tfidf.transform([x]))"
   ]
  },
  {
   "cell_type": "markdown",
   "id": "257359a3",
   "metadata": {},
   "source": [
    "---"
   ]
  },
  {
   "cell_type": "code",
   "execution_count": 48,
   "id": "f9219c44",
   "metadata": {},
   "outputs": [],
   "source": [
    "consumer_key = 'R7DGimRNkT11sbngA0MRqLmNE'\n",
    "consumer_secret = 'w5Axtw43feejwgmPIhqPhPOt1aHso1Guw1yuFwlmijtlh0vguK'\n",
    "access_token = '1279486577656295425-l3gaKqKuHQdKl44rPXUc0WYcc26wgq'\n",
    "access_token_secret = '80dGAdcx6LuoWM1mSt669V5NESP0EOuX1dK8Mianjqxi2'"
   ]
  },
  {
   "cell_type": "code",
   "execution_count": 50,
   "id": "67df9612",
   "metadata": {},
   "outputs": [],
   "source": [
    "import tweepy\n",
    "\n",
    "auth = tweepy.OAuthHandler(consumer_key, consumer_secret)\n",
    "auth.set_access_token(access_token, access_token_secret)\n",
    "\n",
    "api = tweepy.API(auth)\n",
    "\n",
    "public_tweets = api.home_timeline()"
   ]
  },
  {
   "cell_type": "code",
   "execution_count": 54,
   "id": "c5e6a77d",
   "metadata": {
    "scrolled": true
   },
   "outputs": [
    {
     "name": "stdout",
     "output_type": "stream",
     "text": [
      "🎙 Briefing by Foreign Ministry Spokeswoman Maria #Zakharova, October 14, 2021.\n",
      "\n",
      "🔸#Lavrov\n",
      "🔸#EWF\n",
      "🔸#Afghanistan\n",
      "🔸… https://t.co/v6jpQTfniL\n",
      "An encounter has started at Wahibug area of Pulwama. Police &amp; security forces are on the job. Details shall follow:… https://t.co/sUwN05VOXf\n",
      "RT @RussianEmbassy: Just imagine how many more bright sides of #Russia @BBC &amp; Co. have been keeping secret from the British public! https:/…\n",
      "#HaryanaPolice said on Friday that an FIR was lodged in connection with the murder of a man belonging to #Punjab ne… https://t.co/HO4PcWpYy0\n",
      "RT @SuperJaxicle: @netflix When you about to leave the family function, but they bring out a fresh pan of mac &amp; cheese... https://t.co/NmH2…\n",
      "\"The study is significant in that it points to the increased infection risk that coughing in the same direction as… https://t.co/9lRSa18ROp\n",
      "AI for Earth Monitoring Massive Open Online Course https://t.co/BuFP62oTVR\n",
      "The condition of former Prime Minister #ManmohanSingh, who is admitted to #AIIMS, is stable and improving, a hospit… https://t.co/zwEcQ5ClF6\n",
      "They're not only raiding the gurdwara but also the entire premises of community school attached next to it. The pvt… https://t.co/nDT614o7nu\n",
      "NCB zonal director Sameer Wankhede told journalists that he would not be able to respond to Malik's allegations as… https://t.co/LuUUCWnkI7\n",
      "Today heavily armed officials claiming to be from Spl Unit of Islamic Emirate of Afghanistan forcibly entered Gurdw… https://t.co/6SxG23YtZP\n",
      "RT @StevenLenton: Was so busy travelling around last week I didn't realise we were @thebookseller cover boys @Baddiel! See you tomorrow at…\n",
      "#Bitcoin hit $60,000 for the first time in six months on Friday, nearing its record high, as traders grew confident… https://t.co/phHRDmaOmz\n",
      "RT @saochair: 🎙️My pleasure to welcome the participants of #Women’s Dialogue on Developing the #Arctic today at @EAWF and highlight the rol…\n",
      "Maharashtra Govt announces special monthly allowance for students of minority communities staying in minority devel… https://t.co/MYUZANQhHN\n",
      "11 people, including four children, killed after tractor overturns in #UttarPradesh's #Jhansi: SSP Shivhari Meena\n",
      "(… https://t.co/oLFlLFkfcN\n",
      "Russian President #VladimirPutin signaled tolerance of #cryptocurrencies, which are drawing increasing scrutiny fro… https://t.co/Ds5UzcAKfV\n",
      "#Chhattisgarh: Car reportedly mows down 20 people during Dussehra rally in #Jashpur \n",
      "(TimesNow)\n",
      "Catch the day's lat… https://t.co/O83MqImhc2\n",
      "RT @dgurdasani1: So, it appears that the private lab which wrongly gave out 43,000 PCR negative results was Immensa, a company with no expe…\n",
      "RT @ETEconomyNews: Sebi forms 4-member high powered advisory committee on settlement orders https://t.co/5pqJEGjGdW\n",
      "#ETEconomyNews #Economy\n"
     ]
    }
   ],
   "source": [
    "for tweet in public_tweets:\n",
    "    print(tweet.text)"
   ]
  }
 ],
 "metadata": {
  "kernelspec": {
   "display_name": "Python 3",
   "language": "python",
   "name": "python3"
  },
  "language_info": {
   "codemirror_mode": {
    "name": "ipython",
    "version": 3
   },
   "file_extension": ".py",
   "mimetype": "text/x-python",
   "name": "python",
   "nbconvert_exporter": "python",
   "pygments_lexer": "ipython3",
   "version": "3.7.7"
  }
 },
 "nbformat": 4,
 "nbformat_minor": 5
}

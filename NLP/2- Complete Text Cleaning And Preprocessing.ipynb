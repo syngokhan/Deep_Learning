{
 "cells": [
  {
   "cell_type": "code",
   "execution_count": 1,
   "id": "stuffed-mexico",
   "metadata": {},
   "outputs": [],
   "source": [
    "# https://raw.githubusercontent.com/laxmimerit/twitter-data/master/twitter4000.csv\n",
    "\n",
    "import pandas as pd\n",
    "import seaborn as sns\n",
    "import re\n",
    "import matplotlib.pyplot as plt\n",
    "%matplotlib inline"
   ]
  },
  {
   "cell_type": "code",
   "execution_count": 2,
   "id": "second-asset",
   "metadata": {},
   "outputs": [
    {
     "data": {
      "text/html": [
       "<div>\n",
       "<style scoped>\n",
       "    .dataframe tbody tr th:only-of-type {\n",
       "        vertical-align: middle;\n",
       "    }\n",
       "\n",
       "    .dataframe tbody tr th {\n",
       "        vertical-align: top;\n",
       "    }\n",
       "\n",
       "    .dataframe thead th {\n",
       "        text-align: right;\n",
       "    }\n",
       "</style>\n",
       "<table border=\"1\" class=\"dataframe\">\n",
       "  <thead>\n",
       "    <tr style=\"text-align: right;\">\n",
       "      <th></th>\n",
       "      <th>twitts</th>\n",
       "      <th>sentiment</th>\n",
       "    </tr>\n",
       "  </thead>\n",
       "  <tbody>\n",
       "    <tr>\n",
       "      <th>0</th>\n",
       "      <td>is bored and wants to watch a movie  any sugge...</td>\n",
       "      <td>0</td>\n",
       "    </tr>\n",
       "    <tr>\n",
       "      <th>1</th>\n",
       "      <td>back in miami.  waiting to unboard ship</td>\n",
       "      <td>0</td>\n",
       "    </tr>\n",
       "    <tr>\n",
       "      <th>2</th>\n",
       "      <td>@misskpey awwww dnt dis brng bak memoriessss, ...</td>\n",
       "      <td>0</td>\n",
       "    </tr>\n",
       "    <tr>\n",
       "      <th>3</th>\n",
       "      <td>ughhh i am so tired  blahhhhhhhhh</td>\n",
       "      <td>0</td>\n",
       "    </tr>\n",
       "    <tr>\n",
       "      <th>4</th>\n",
       "      <td>@mandagoforth me bad! It's funny though. Zacha...</td>\n",
       "      <td>0</td>\n",
       "    </tr>\n",
       "  </tbody>\n",
       "</table>\n",
       "</div>"
      ],
      "text/plain": [
       "                                              twitts  sentiment\n",
       "0  is bored and wants to watch a movie  any sugge...          0\n",
       "1           back in miami.  waiting to unboard ship           0\n",
       "2  @misskpey awwww dnt dis brng bak memoriessss, ...          0\n",
       "3                  ughhh i am so tired  blahhhhhhhhh          0\n",
       "4  @mandagoforth me bad! It's funny though. Zacha...          0"
      ]
     },
     "execution_count": 2,
     "metadata": {},
     "output_type": "execute_result"
    }
   ],
   "source": [
    "path = \"https://raw.githubusercontent.com/laxmimerit/twitter-data/master/twitter4000.csv\"\n",
    "\n",
    "df = pd.read_csv(path,encoding=\"latin1\")\n",
    "df.head()"
   ]
  },
  {
   "cell_type": "code",
   "execution_count": 3,
   "id": "superior-visitor",
   "metadata": {},
   "outputs": [
    {
     "data": {
      "text/plain": [
       "0    2000\n",
       "1    2000\n",
       "Name: sentiment, dtype: int64"
      ]
     },
     "execution_count": 3,
     "metadata": {},
     "output_type": "execute_result"
    }
   ],
   "source": [
    "df[\"sentiment\"].value_counts()"
   ]
  },
  {
   "cell_type": "markdown",
   "id": "spread-therapist",
   "metadata": {},
   "source": [
    "## Word Counts"
   ]
  },
  {
   "cell_type": "code",
   "execution_count": 4,
   "id": "reserved-winter",
   "metadata": {},
   "outputs": [
    {
     "data": {
      "text/plain": [
       "'is bored and wants to watch a movie  any suggestions?'"
      ]
     },
     "execution_count": 4,
     "metadata": {},
     "output_type": "execute_result"
    }
   ],
   "source": [
    "df[\"twitts\"][0]"
   ]
  },
  {
   "cell_type": "code",
   "execution_count": 5,
   "id": "latin-remark",
   "metadata": {},
   "outputs": [
    {
     "data": {
      "text/plain": [
       "10"
      ]
     },
     "execution_count": 5,
     "metadata": {},
     "output_type": "execute_result"
    }
   ],
   "source": [
    "len(str(df[\"twitts\"][0]).split())"
   ]
  },
  {
   "cell_type": "code",
   "execution_count": 6,
   "id": "right-alpha",
   "metadata": {},
   "outputs": [
    {
     "data": {
      "text/html": [
       "<div>\n",
       "<style scoped>\n",
       "    .dataframe tbody tr th:only-of-type {\n",
       "        vertical-align: middle;\n",
       "    }\n",
       "\n",
       "    .dataframe tbody tr th {\n",
       "        vertical-align: top;\n",
       "    }\n",
       "\n",
       "    .dataframe thead th {\n",
       "        text-align: right;\n",
       "    }\n",
       "</style>\n",
       "<table border=\"1\" class=\"dataframe\">\n",
       "  <thead>\n",
       "    <tr style=\"text-align: right;\">\n",
       "      <th></th>\n",
       "      <th>twitts</th>\n",
       "      <th>sentiment</th>\n",
       "      <th>Word_Counts</th>\n",
       "    </tr>\n",
       "  </thead>\n",
       "  <tbody>\n",
       "    <tr>\n",
       "      <th>0</th>\n",
       "      <td>is bored and wants to watch a movie  any sugge...</td>\n",
       "      <td>0</td>\n",
       "      <td>10</td>\n",
       "    </tr>\n",
       "    <tr>\n",
       "      <th>1</th>\n",
       "      <td>back in miami.  waiting to unboard ship</td>\n",
       "      <td>0</td>\n",
       "      <td>7</td>\n",
       "    </tr>\n",
       "    <tr>\n",
       "      <th>2</th>\n",
       "      <td>@misskpey awwww dnt dis brng bak memoriessss, ...</td>\n",
       "      <td>0</td>\n",
       "      <td>12</td>\n",
       "    </tr>\n",
       "    <tr>\n",
       "      <th>3</th>\n",
       "      <td>ughhh i am so tired  blahhhhhhhhh</td>\n",
       "      <td>0</td>\n",
       "      <td>6</td>\n",
       "    </tr>\n",
       "    <tr>\n",
       "      <th>4</th>\n",
       "      <td>@mandagoforth me bad! It's funny though. Zacha...</td>\n",
       "      <td>0</td>\n",
       "      <td>26</td>\n",
       "    </tr>\n",
       "  </tbody>\n",
       "</table>\n",
       "</div>"
      ],
      "text/plain": [
       "                                              twitts  sentiment  Word_Counts\n",
       "0  is bored and wants to watch a movie  any sugge...          0           10\n",
       "1           back in miami.  waiting to unboard ship           0            7\n",
       "2  @misskpey awwww dnt dis brng bak memoriessss, ...          0           12\n",
       "3                  ughhh i am so tired  blahhhhhhhhh          0            6\n",
       "4  @mandagoforth me bad! It's funny though. Zacha...          0           26"
      ]
     },
     "execution_count": 6,
     "metadata": {},
     "output_type": "execute_result"
    }
   ],
   "source": [
    "df[\"Word_Counts\"] = df[\"twitts\"].apply(lambda words : len(str(words).split()))\n",
    "df.head()"
   ]
  },
  {
   "cell_type": "code",
   "execution_count": 7,
   "id": "guided-virginia",
   "metadata": {},
   "outputs": [
    {
     "name": "stdout",
     "output_type": "stream",
     "text": [
      "Max Word_Counts : 32\n",
      "Min Word_Counts : 1\n"
     ]
    }
   ],
   "source": [
    "print(\"Max Word_Counts : {}\".format(df[\"Word_Counts\"].max()))\n",
    "print(\"Min Word_Counts : {}\".format(df[\"Word_Counts\"].min()))"
   ]
  },
  {
   "cell_type": "markdown",
   "id": "speaking-portland",
   "metadata": {},
   "source": [
    "## Characters Counts"
   ]
  },
  {
   "cell_type": "code",
   "execution_count": 8,
   "id": "municipal-vampire",
   "metadata": {},
   "outputs": [],
   "source": [
    "# Boşluk Var !!!"
   ]
  },
  {
   "cell_type": "code",
   "execution_count": 9,
   "id": "spoken-glasgow",
   "metadata": {},
   "outputs": [
    {
     "data": {
      "text/plain": [
       "7"
      ]
     },
     "execution_count": 9,
     "metadata": {},
     "output_type": "execute_result"
    }
   ],
   "source": [
    "example = \"This is\"\n",
    "len(example)"
   ]
  },
  {
   "cell_type": "code",
   "execution_count": 10,
   "id": "labeled-spain",
   "metadata": {},
   "outputs": [],
   "source": [
    "def char_counts(words):\n",
    "    \n",
    "    s = words.split()\n",
    "    \n",
    "    last_words = \"\".join(s)\n",
    "    \n",
    "    return len(last_words)"
   ]
  },
  {
   "cell_type": "code",
   "execution_count": 11,
   "id": "ahead-distribution",
   "metadata": {},
   "outputs": [
    {
     "data": {
      "text/plain": [
       "6"
      ]
     },
     "execution_count": 11,
     "metadata": {},
     "output_type": "execute_result"
    }
   ],
   "source": [
    "char_counts(example)"
   ]
  },
  {
   "cell_type": "code",
   "execution_count": 12,
   "id": "united-district",
   "metadata": {},
   "outputs": [
    {
     "data": {
      "text/html": [
       "<div>\n",
       "<style scoped>\n",
       "    .dataframe tbody tr th:only-of-type {\n",
       "        vertical-align: middle;\n",
       "    }\n",
       "\n",
       "    .dataframe tbody tr th {\n",
       "        vertical-align: top;\n",
       "    }\n",
       "\n",
       "    .dataframe thead th {\n",
       "        text-align: right;\n",
       "    }\n",
       "</style>\n",
       "<table border=\"1\" class=\"dataframe\">\n",
       "  <thead>\n",
       "    <tr style=\"text-align: right;\">\n",
       "      <th></th>\n",
       "      <th>twitts</th>\n",
       "      <th>sentiment</th>\n",
       "      <th>Word_Counts</th>\n",
       "      <th>Characters_Counts</th>\n",
       "    </tr>\n",
       "  </thead>\n",
       "  <tbody>\n",
       "    <tr>\n",
       "      <th>0</th>\n",
       "      <td>is bored and wants to watch a movie  any sugge...</td>\n",
       "      <td>0</td>\n",
       "      <td>10</td>\n",
       "      <td>43</td>\n",
       "    </tr>\n",
       "    <tr>\n",
       "      <th>1</th>\n",
       "      <td>back in miami.  waiting to unboard ship</td>\n",
       "      <td>0</td>\n",
       "      <td>7</td>\n",
       "      <td>32</td>\n",
       "    </tr>\n",
       "    <tr>\n",
       "      <th>2</th>\n",
       "      <td>@misskpey awwww dnt dis brng bak memoriessss, ...</td>\n",
       "      <td>0</td>\n",
       "      <td>12</td>\n",
       "      <td>54</td>\n",
       "    </tr>\n",
       "    <tr>\n",
       "      <th>3</th>\n",
       "      <td>ughhh i am so tired  blahhhhhhhhh</td>\n",
       "      <td>0</td>\n",
       "      <td>6</td>\n",
       "      <td>27</td>\n",
       "    </tr>\n",
       "    <tr>\n",
       "      <th>4</th>\n",
       "      <td>@mandagoforth me bad! It's funny though. Zacha...</td>\n",
       "      <td>0</td>\n",
       "      <td>26</td>\n",
       "      <td>116</td>\n",
       "    </tr>\n",
       "  </tbody>\n",
       "</table>\n",
       "</div>"
      ],
      "text/plain": [
       "                                              twitts  sentiment  Word_Counts  \\\n",
       "0  is bored and wants to watch a movie  any sugge...          0           10   \n",
       "1           back in miami.  waiting to unboard ship           0            7   \n",
       "2  @misskpey awwww dnt dis brng bak memoriessss, ...          0           12   \n",
       "3                  ughhh i am so tired  blahhhhhhhhh          0            6   \n",
       "4  @mandagoforth me bad! It's funny though. Zacha...          0           26   \n",
       "\n",
       "   Characters_Counts  \n",
       "0                 43  \n",
       "1                 32  \n",
       "2                 54  \n",
       "3                 27  \n",
       "4                116  "
      ]
     },
     "execution_count": 12,
     "metadata": {},
     "output_type": "execute_result"
    }
   ],
   "source": [
    "df[\"Characters_Counts\"] = df[\"twitts\"].apply(lambda words : char_counts(str(words)))\n",
    "df.head()"
   ]
  },
  {
   "cell_type": "code",
   "execution_count": 13,
   "id": "responsible-fantasy",
   "metadata": {},
   "outputs": [
    {
     "name": "stdout",
     "output_type": "stream",
     "text": [
      "Max Characters_Counts : 330\n",
      "Min Characters_Counts : 5\n"
     ]
    }
   ],
   "source": [
    "print(\"Max Characters_Counts : {}\".format(df[\"Characters_Counts\"].max()))\n",
    "print(\"Min Characters_Counts : {}\".format(df[\"Characters_Counts\"].min()))"
   ]
  },
  {
   "cell_type": "markdown",
   "id": "chemical-russell",
   "metadata": {},
   "source": [
    "## Average Word Length"
   ]
  },
  {
   "cell_type": "code",
   "execution_count": 14,
   "id": "driven-knife",
   "metadata": {},
   "outputs": [
    {
     "data": {
      "text/plain": [
       "(7, 13)"
      ]
     },
     "execution_count": 14,
     "metadata": {},
     "output_type": "execute_result"
    }
   ],
   "source": [
    "x = \"this is\"  #6 / 2 \n",
    "y = \"thankyou guys\" # 12 / 2\n",
    "\n",
    "len(x),len(y)"
   ]
  },
  {
   "cell_type": "code",
   "execution_count": 15,
   "id": "located-london",
   "metadata": {},
   "outputs": [],
   "source": [
    "def avg_word_len(words):\n",
    "    \n",
    "    s = str(words).split()\n",
    "    length = len(s)\n",
    "    \n",
    "    last_words =  \"\".join(s)\n",
    "    counts = len(last_words)\n",
    "    \n",
    "    return counts / length"
   ]
  },
  {
   "cell_type": "code",
   "execution_count": 16,
   "id": "traditional-declaration",
   "metadata": {},
   "outputs": [
    {
     "data": {
      "text/plain": [
       "(3.0, 6.0)"
      ]
     },
     "execution_count": 16,
     "metadata": {},
     "output_type": "execute_result"
    }
   ],
   "source": [
    "avg_word_len(x),avg_word_len(y)"
   ]
  },
  {
   "cell_type": "code",
   "execution_count": 17,
   "id": "alpine-country",
   "metadata": {},
   "outputs": [
    {
     "data": {
      "text/html": [
       "<div>\n",
       "<style scoped>\n",
       "    .dataframe tbody tr th:only-of-type {\n",
       "        vertical-align: middle;\n",
       "    }\n",
       "\n",
       "    .dataframe tbody tr th {\n",
       "        vertical-align: top;\n",
       "    }\n",
       "\n",
       "    .dataframe thead th {\n",
       "        text-align: right;\n",
       "    }\n",
       "</style>\n",
       "<table border=\"1\" class=\"dataframe\">\n",
       "  <thead>\n",
       "    <tr style=\"text-align: right;\">\n",
       "      <th></th>\n",
       "      <th>twitts</th>\n",
       "      <th>sentiment</th>\n",
       "      <th>Word_Counts</th>\n",
       "      <th>Characters_Counts</th>\n",
       "      <th>Avg_Word_Len</th>\n",
       "    </tr>\n",
       "  </thead>\n",
       "  <tbody>\n",
       "    <tr>\n",
       "      <th>0</th>\n",
       "      <td>is bored and wants to watch a movie  any sugge...</td>\n",
       "      <td>0</td>\n",
       "      <td>10</td>\n",
       "      <td>43</td>\n",
       "      <td>4.300000</td>\n",
       "    </tr>\n",
       "    <tr>\n",
       "      <th>1</th>\n",
       "      <td>back in miami.  waiting to unboard ship</td>\n",
       "      <td>0</td>\n",
       "      <td>7</td>\n",
       "      <td>32</td>\n",
       "      <td>4.571429</td>\n",
       "    </tr>\n",
       "    <tr>\n",
       "      <th>2</th>\n",
       "      <td>@misskpey awwww dnt dis brng bak memoriessss, ...</td>\n",
       "      <td>0</td>\n",
       "      <td>12</td>\n",
       "      <td>54</td>\n",
       "      <td>4.500000</td>\n",
       "    </tr>\n",
       "    <tr>\n",
       "      <th>3</th>\n",
       "      <td>ughhh i am so tired  blahhhhhhhhh</td>\n",
       "      <td>0</td>\n",
       "      <td>6</td>\n",
       "      <td>27</td>\n",
       "      <td>4.500000</td>\n",
       "    </tr>\n",
       "    <tr>\n",
       "      <th>4</th>\n",
       "      <td>@mandagoforth me bad! It's funny though. Zacha...</td>\n",
       "      <td>0</td>\n",
       "      <td>26</td>\n",
       "      <td>116</td>\n",
       "      <td>4.461538</td>\n",
       "    </tr>\n",
       "  </tbody>\n",
       "</table>\n",
       "</div>"
      ],
      "text/plain": [
       "                                              twitts  sentiment  Word_Counts  \\\n",
       "0  is bored and wants to watch a movie  any sugge...          0           10   \n",
       "1           back in miami.  waiting to unboard ship           0            7   \n",
       "2  @misskpey awwww dnt dis brng bak memoriessss, ...          0           12   \n",
       "3                  ughhh i am so tired  blahhhhhhhhh          0            6   \n",
       "4  @mandagoforth me bad! It's funny though. Zacha...          0           26   \n",
       "\n",
       "   Characters_Counts  Avg_Word_Len  \n",
       "0                 43      4.300000  \n",
       "1                 32      4.571429  \n",
       "2                 54      4.500000  \n",
       "3                 27      4.500000  \n",
       "4                116      4.461538  "
      ]
     },
     "execution_count": 17,
     "metadata": {},
     "output_type": "execute_result"
    }
   ],
   "source": [
    "df[\"Avg_Word_Len\"] = df[\"twitts\"].apply(lambda words : avg_word_len(words))\n",
    "df.head()"
   ]
  },
  {
   "cell_type": "markdown",
   "id": "finite-spiritual",
   "metadata": {},
   "source": [
    "## Stop Words Counts"
   ]
  },
  {
   "cell_type": "code",
   "execution_count": 18,
   "id": "warming-steel",
   "metadata": {},
   "outputs": [],
   "source": [
    "from spacy.lang.en.stop_words import STOP_WORDS as Stopwords"
   ]
  },
  {
   "cell_type": "code",
   "execution_count": 19,
   "id": "square-failing",
   "metadata": {},
   "outputs": [],
   "source": [
    "from nltk.corpus import stopwords"
   ]
  },
  {
   "cell_type": "code",
   "execution_count": 20,
   "id": "sticky-talent",
   "metadata": {},
   "outputs": [
    {
     "data": {
      "text/plain": [
       "179"
      ]
     },
     "execution_count": 20,
     "metadata": {},
     "output_type": "execute_result"
    }
   ],
   "source": [
    "# NLTK\n",
    "\n",
    "len(stopwords.words(\"english\"))"
   ]
  },
  {
   "cell_type": "code",
   "execution_count": 21,
   "id": "simplified-principle",
   "metadata": {},
   "outputs": [
    {
     "data": {
      "text/plain": [
       "326"
      ]
     },
     "execution_count": 21,
     "metadata": {},
     "output_type": "execute_result"
    }
   ],
   "source": [
    "# Spacy\n",
    "\n",
    "len(Stopwords)"
   ]
  },
  {
   "cell_type": "code",
   "execution_count": 22,
   "id": "widespread-gregory",
   "metadata": {},
   "outputs": [],
   "source": [
    "def stopwords_counts(words):\n",
    "    \n",
    "    from spacy.lang.en.stop_words import STOP_WORDS as Stopwords\n",
    "    \n",
    "    s = str(words).split()\n",
    "    \n",
    "    counts = [word for word in s if word in Stopwords]\n",
    "    \n",
    "    return len(counts)"
   ]
  },
  {
   "cell_type": "code",
   "execution_count": 23,
   "id": "comparable-advantage",
   "metadata": {},
   "outputs": [
    {
     "data": {
      "text/html": [
       "<div>\n",
       "<style scoped>\n",
       "    .dataframe tbody tr th:only-of-type {\n",
       "        vertical-align: middle;\n",
       "    }\n",
       "\n",
       "    .dataframe tbody tr th {\n",
       "        vertical-align: top;\n",
       "    }\n",
       "\n",
       "    .dataframe thead th {\n",
       "        text-align: right;\n",
       "    }\n",
       "</style>\n",
       "<table border=\"1\" class=\"dataframe\">\n",
       "  <thead>\n",
       "    <tr style=\"text-align: right;\">\n",
       "      <th></th>\n",
       "      <th>twitts</th>\n",
       "      <th>sentiment</th>\n",
       "      <th>Word_Counts</th>\n",
       "      <th>Characters_Counts</th>\n",
       "      <th>Avg_Word_Len</th>\n",
       "      <th>StopWords_Counts</th>\n",
       "    </tr>\n",
       "  </thead>\n",
       "  <tbody>\n",
       "    <tr>\n",
       "      <th>0</th>\n",
       "      <td>is bored and wants to watch a movie  any sugge...</td>\n",
       "      <td>0</td>\n",
       "      <td>10</td>\n",
       "      <td>43</td>\n",
       "      <td>4.300000</td>\n",
       "      <td>5</td>\n",
       "    </tr>\n",
       "    <tr>\n",
       "      <th>1</th>\n",
       "      <td>back in miami.  waiting to unboard ship</td>\n",
       "      <td>0</td>\n",
       "      <td>7</td>\n",
       "      <td>32</td>\n",
       "      <td>4.571429</td>\n",
       "      <td>3</td>\n",
       "    </tr>\n",
       "    <tr>\n",
       "      <th>2</th>\n",
       "      <td>@misskpey awwww dnt dis brng bak memoriessss, ...</td>\n",
       "      <td>0</td>\n",
       "      <td>12</td>\n",
       "      <td>54</td>\n",
       "      <td>4.500000</td>\n",
       "      <td>0</td>\n",
       "    </tr>\n",
       "    <tr>\n",
       "      <th>3</th>\n",
       "      <td>ughhh i am so tired  blahhhhhhhhh</td>\n",
       "      <td>0</td>\n",
       "      <td>6</td>\n",
       "      <td>27</td>\n",
       "      <td>4.500000</td>\n",
       "      <td>3</td>\n",
       "    </tr>\n",
       "    <tr>\n",
       "      <th>4</th>\n",
       "      <td>@mandagoforth me bad! It's funny though. Zacha...</td>\n",
       "      <td>0</td>\n",
       "      <td>26</td>\n",
       "      <td>116</td>\n",
       "      <td>4.461538</td>\n",
       "      <td>13</td>\n",
       "    </tr>\n",
       "  </tbody>\n",
       "</table>\n",
       "</div>"
      ],
      "text/plain": [
       "                                              twitts  sentiment  Word_Counts  \\\n",
       "0  is bored and wants to watch a movie  any sugge...          0           10   \n",
       "1           back in miami.  waiting to unboard ship           0            7   \n",
       "2  @misskpey awwww dnt dis brng bak memoriessss, ...          0           12   \n",
       "3                  ughhh i am so tired  blahhhhhhhhh          0            6   \n",
       "4  @mandagoforth me bad! It's funny though. Zacha...          0           26   \n",
       "\n",
       "   Characters_Counts  Avg_Word_Len  StopWords_Counts  \n",
       "0                 43      4.300000                 5  \n",
       "1                 32      4.571429                 3  \n",
       "2                 54      4.500000                 0  \n",
       "3                 27      4.500000                 3  \n",
       "4                116      4.461538                13  "
      ]
     },
     "execution_count": 23,
     "metadata": {},
     "output_type": "execute_result"
    }
   ],
   "source": [
    "df[\"StopWords_Counts\"] = df[\"twitts\"].apply(lambda words : stopwords_counts(words))\n",
    "df.head()"
   ]
  },
  {
   "cell_type": "markdown",
   "id": "linear-likelihood",
   "metadata": {},
   "source": [
    "## Count ##HashTags and @Mentions"
   ]
  },
  {
   "cell_type": "code",
   "execution_count": 24,
   "id": "interesting-disclaimer",
   "metadata": {},
   "outputs": [],
   "source": [
    "x = \"This is #hashtags and this is @Mentions\""
   ]
  },
  {
   "cell_type": "code",
   "execution_count": 25,
   "id": "metallic-thanksgiving",
   "metadata": {},
   "outputs": [
    {
     "data": {
      "text/plain": [
       "True"
      ]
     },
     "execution_count": 25,
     "metadata": {},
     "output_type": "execute_result"
    }
   ],
   "source": [
    "\"#has\".startswith(\"#\")"
   ]
  },
  {
   "cell_type": "code",
   "execution_count": 26,
   "id": "grave-feeding",
   "metadata": {},
   "outputs": [
    {
     "name": "stdout",
     "output_type": "stream",
     "text": [
      "#hashtags\n",
      "@Mentions\n"
     ]
    }
   ],
   "source": [
    "for word in x.split():\n",
    "    \n",
    "    if word.startswith(\"#\") or word.startswith(\"@\"):\n",
    "        print(word)"
   ]
  },
  {
   "cell_type": "code",
   "execution_count": 27,
   "id": "ready-digit",
   "metadata": {},
   "outputs": [],
   "source": [
    "def hashtags_counts(words):\n",
    "    \n",
    "    s = str(words).split()\n",
    "    \n",
    "    hashtags_counts = [word for word in s if word.startswith(\"#\")]\n",
    "    \n",
    "    return len(hashtags_counts)\n",
    "\n",
    "def mention_counts(words):\n",
    "    \n",
    "    s = str(words).split()\n",
    "    \n",
    "    mention_counts = [word for word in s if word.startswith(\"@\")]\n",
    "    \n",
    "    return len(mention_counts)"
   ]
  },
  {
   "cell_type": "code",
   "execution_count": 28,
   "id": "responsible-consultancy",
   "metadata": {},
   "outputs": [
    {
     "data": {
      "text/html": [
       "<div>\n",
       "<style scoped>\n",
       "    .dataframe tbody tr th:only-of-type {\n",
       "        vertical-align: middle;\n",
       "    }\n",
       "\n",
       "    .dataframe tbody tr th {\n",
       "        vertical-align: top;\n",
       "    }\n",
       "\n",
       "    .dataframe thead th {\n",
       "        text-align: right;\n",
       "    }\n",
       "</style>\n",
       "<table border=\"1\" class=\"dataframe\">\n",
       "  <thead>\n",
       "    <tr style=\"text-align: right;\">\n",
       "      <th></th>\n",
       "      <th>twitts</th>\n",
       "      <th>sentiment</th>\n",
       "      <th>Word_Counts</th>\n",
       "      <th>Characters_Counts</th>\n",
       "      <th>Avg_Word_Len</th>\n",
       "      <th>StopWords_Counts</th>\n",
       "      <th>Hashtags_Counts</th>\n",
       "      <th>Mentions_Counts</th>\n",
       "    </tr>\n",
       "  </thead>\n",
       "  <tbody>\n",
       "    <tr>\n",
       "      <th>0</th>\n",
       "      <td>is bored and wants to watch a movie  any sugge...</td>\n",
       "      <td>0</td>\n",
       "      <td>10</td>\n",
       "      <td>43</td>\n",
       "      <td>4.300000</td>\n",
       "      <td>5</td>\n",
       "      <td>0</td>\n",
       "      <td>0</td>\n",
       "    </tr>\n",
       "    <tr>\n",
       "      <th>1</th>\n",
       "      <td>back in miami.  waiting to unboard ship</td>\n",
       "      <td>0</td>\n",
       "      <td>7</td>\n",
       "      <td>32</td>\n",
       "      <td>4.571429</td>\n",
       "      <td>3</td>\n",
       "      <td>0</td>\n",
       "      <td>0</td>\n",
       "    </tr>\n",
       "    <tr>\n",
       "      <th>2</th>\n",
       "      <td>@misskpey awwww dnt dis brng bak memoriessss, ...</td>\n",
       "      <td>0</td>\n",
       "      <td>12</td>\n",
       "      <td>54</td>\n",
       "      <td>4.500000</td>\n",
       "      <td>0</td>\n",
       "      <td>0</td>\n",
       "      <td>1</td>\n",
       "    </tr>\n",
       "    <tr>\n",
       "      <th>3</th>\n",
       "      <td>ughhh i am so tired  blahhhhhhhhh</td>\n",
       "      <td>0</td>\n",
       "      <td>6</td>\n",
       "      <td>27</td>\n",
       "      <td>4.500000</td>\n",
       "      <td>3</td>\n",
       "      <td>0</td>\n",
       "      <td>0</td>\n",
       "    </tr>\n",
       "    <tr>\n",
       "      <th>4</th>\n",
       "      <td>@mandagoforth me bad! It's funny though. Zacha...</td>\n",
       "      <td>0</td>\n",
       "      <td>26</td>\n",
       "      <td>116</td>\n",
       "      <td>4.461538</td>\n",
       "      <td>13</td>\n",
       "      <td>0</td>\n",
       "      <td>2</td>\n",
       "    </tr>\n",
       "  </tbody>\n",
       "</table>\n",
       "</div>"
      ],
      "text/plain": [
       "                                              twitts  sentiment  Word_Counts  \\\n",
       "0  is bored and wants to watch a movie  any sugge...          0           10   \n",
       "1           back in miami.  waiting to unboard ship           0            7   \n",
       "2  @misskpey awwww dnt dis brng bak memoriessss, ...          0           12   \n",
       "3                  ughhh i am so tired  blahhhhhhhhh          0            6   \n",
       "4  @mandagoforth me bad! It's funny though. Zacha...          0           26   \n",
       "\n",
       "   Characters_Counts  Avg_Word_Len  StopWords_Counts  Hashtags_Counts  \\\n",
       "0                 43      4.300000                 5                0   \n",
       "1                 32      4.571429                 3                0   \n",
       "2                 54      4.500000                 0                0   \n",
       "3                 27      4.500000                 3                0   \n",
       "4                116      4.461538                13                0   \n",
       "\n",
       "   Mentions_Counts  \n",
       "0                0  \n",
       "1                0  \n",
       "2                1  \n",
       "3                0  \n",
       "4                2  "
      ]
     },
     "execution_count": 28,
     "metadata": {},
     "output_type": "execute_result"
    }
   ],
   "source": [
    "df[\"Hashtags_Counts\"] = df[\"twitts\"].apply(lambda words : hashtags_counts(words))\n",
    "df[\"Mentions_Counts\"] = df[\"twitts\"].apply(lambda words : mention_counts(words))\n",
    "\n",
    "df.head()"
   ]
  },
  {
   "cell_type": "markdown",
   "id": "cheap-biodiversity",
   "metadata": {},
   "source": [
    "## Numeric Digits are present in twitts"
   ]
  },
  {
   "cell_type": "code",
   "execution_count": 29,
   "id": "unusual-december",
   "metadata": {},
   "outputs": [],
   "source": [
    "def numeric_counts(words):\n",
    "    \n",
    "    s = str(words).split()\n",
    "    \n",
    "    numerics = [word for word in s if word.isdigit()]\n",
    "    \n",
    "    return len(numerics)"
   ]
  },
  {
   "cell_type": "code",
   "execution_count": 30,
   "id": "considered-harmony",
   "metadata": {},
   "outputs": [
    {
     "data": {
      "text/html": [
       "<div>\n",
       "<style scoped>\n",
       "    .dataframe tbody tr th:only-of-type {\n",
       "        vertical-align: middle;\n",
       "    }\n",
       "\n",
       "    .dataframe tbody tr th {\n",
       "        vertical-align: top;\n",
       "    }\n",
       "\n",
       "    .dataframe thead th {\n",
       "        text-align: right;\n",
       "    }\n",
       "</style>\n",
       "<table border=\"1\" class=\"dataframe\">\n",
       "  <thead>\n",
       "    <tr style=\"text-align: right;\">\n",
       "      <th></th>\n",
       "      <th>twitts</th>\n",
       "      <th>Numeric_Counts</th>\n",
       "    </tr>\n",
       "  </thead>\n",
       "  <tbody>\n",
       "    <tr>\n",
       "      <th>16</th>\n",
       "      <td>@BrianQuest I made 1 fo u 2: http://bit.ly/eId...</td>\n",
       "      <td>1</td>\n",
       "    </tr>\n",
       "    <tr>\n",
       "      <th>22</th>\n",
       "      <td>Back niggly again today (boo) so couldn't trai...</td>\n",
       "      <td>1</td>\n",
       "    </tr>\n",
       "    <tr>\n",
       "      <th>25</th>\n",
       "      <td>Eeeeep! New Moon is only 172 days away... Actu...</td>\n",
       "      <td>1</td>\n",
       "    </tr>\n",
       "    <tr>\n",
       "      <th>53</th>\n",
       "      <td>@Gen215 ROFL following Jesus! Found 1 th othr ...</td>\n",
       "      <td>3</td>\n",
       "    </tr>\n",
       "    <tr>\n",
       "      <th>62</th>\n",
       "      <td>@xxbrry yes, you spell it obituary... why?? so...</td>\n",
       "      <td>1</td>\n",
       "    </tr>\n",
       "  </tbody>\n",
       "</table>\n",
       "</div>"
      ],
      "text/plain": [
       "                                               twitts  Numeric_Counts\n",
       "16  @BrianQuest I made 1 fo u 2: http://bit.ly/eId...               1\n",
       "22  Back niggly again today (boo) so couldn't trai...               1\n",
       "25  Eeeeep! New Moon is only 172 days away... Actu...               1\n",
       "53  @Gen215 ROFL following Jesus! Found 1 th othr ...               3\n",
       "62  @xxbrry yes, you spell it obituary... why?? so...               1"
      ]
     },
     "execution_count": 30,
     "metadata": {},
     "output_type": "execute_result"
    }
   ],
   "source": [
    "df[\"Numeric_Counts\"] = df[\"twitts\"].apply(lambda words : numeric_counts(words))\n",
    "\n",
    "df[df[\"Numeric_Counts\"] > 0][[\"twitts\",\"Numeric_Counts\"]].head()"
   ]
  },
  {
   "cell_type": "markdown",
   "id": "editorial-major",
   "metadata": {},
   "source": [
    "## Upper Case Words Count"
   ]
  },
  {
   "cell_type": "code",
   "execution_count": 31,
   "id": "lesbian-group",
   "metadata": {},
   "outputs": [
    {
     "data": {
      "text/plain": [
       "('I AM HAPPY', 'i am happy')"
      ]
     },
     "execution_count": 31,
     "metadata": {},
     "output_type": "execute_result"
    }
   ],
   "source": [
    "x = \"I AM HAPPY\"\n",
    "y = \"i am happy\"\n",
    "x,y"
   ]
  },
  {
   "cell_type": "code",
   "execution_count": 32,
   "id": "antique-anthony",
   "metadata": {},
   "outputs": [],
   "source": [
    "def upper_counts(words):\n",
    "    \n",
    "    s = str(words).split()\n",
    "    \n",
    "    upper_counts = [word for word in s if word.isupper()]\n",
    "    \n",
    "    return len(upper_counts)"
   ]
  },
  {
   "cell_type": "code",
   "execution_count": 33,
   "id": "verbal-lancaster",
   "metadata": {},
   "outputs": [
    {
     "data": {
      "text/plain": [
       "(3, 0)"
      ]
     },
     "execution_count": 33,
     "metadata": {},
     "output_type": "execute_result"
    }
   ],
   "source": [
    "upper_counts(x),upper_counts(y)"
   ]
  },
  {
   "cell_type": "code",
   "execution_count": 34,
   "id": "appropriate-delicious",
   "metadata": {},
   "outputs": [
    {
     "data": {
      "text/html": [
       "<div>\n",
       "<style scoped>\n",
       "    .dataframe tbody tr th:only-of-type {\n",
       "        vertical-align: middle;\n",
       "    }\n",
       "\n",
       "    .dataframe tbody tr th {\n",
       "        vertical-align: top;\n",
       "    }\n",
       "\n",
       "    .dataframe thead th {\n",
       "        text-align: right;\n",
       "    }\n",
       "</style>\n",
       "<table border=\"1\" class=\"dataframe\">\n",
       "  <thead>\n",
       "    <tr style=\"text-align: right;\">\n",
       "      <th></th>\n",
       "      <th>twitts</th>\n",
       "      <th>Upper_Counts</th>\n",
       "    </tr>\n",
       "  </thead>\n",
       "  <tbody>\n",
       "    <tr>\n",
       "      <th>0</th>\n",
       "      <td>is bored and wants to watch a movie  any sugge...</td>\n",
       "      <td>0</td>\n",
       "    </tr>\n",
       "    <tr>\n",
       "      <th>1</th>\n",
       "      <td>back in miami.  waiting to unboard ship</td>\n",
       "      <td>0</td>\n",
       "    </tr>\n",
       "    <tr>\n",
       "      <th>2</th>\n",
       "      <td>@misskpey awwww dnt dis brng bak memoriessss, ...</td>\n",
       "      <td>1</td>\n",
       "    </tr>\n",
       "    <tr>\n",
       "      <th>3</th>\n",
       "      <td>ughhh i am so tired  blahhhhhhhhh</td>\n",
       "      <td>0</td>\n",
       "    </tr>\n",
       "    <tr>\n",
       "      <th>4</th>\n",
       "      <td>@mandagoforth me bad! It's funny though. Zacha...</td>\n",
       "      <td>0</td>\n",
       "    </tr>\n",
       "  </tbody>\n",
       "</table>\n",
       "</div>"
      ],
      "text/plain": [
       "                                              twitts  Upper_Counts\n",
       "0  is bored and wants to watch a movie  any sugge...             0\n",
       "1           back in miami.  waiting to unboard ship              0\n",
       "2  @misskpey awwww dnt dis brng bak memoriessss, ...             1\n",
       "3                  ughhh i am so tired  blahhhhhhhhh             0\n",
       "4  @mandagoforth me bad! It's funny though. Zacha...             0"
      ]
     },
     "execution_count": 34,
     "metadata": {},
     "output_type": "execute_result"
    }
   ],
   "source": [
    "df[\"Upper_Counts\"] = df[\"twitts\"].apply(lambda words : upper_counts(words))\n",
    "\n",
    "df[[\"twitts\",\"Upper_Counts\"]].head()"
   ]
  },
  {
   "cell_type": "markdown",
   "id": "focal-smart",
   "metadata": {},
   "source": [
    "## Preprocessing And Cleaning"
   ]
  },
  {
   "cell_type": "markdown",
   "id": "beautiful-dallas",
   "metadata": {},
   "source": [
    "## Lower Case Conversion"
   ]
  },
  {
   "cell_type": "code",
   "execution_count": 35,
   "id": "twelve-lawrence",
   "metadata": {},
   "outputs": [
    {
     "data": {
      "text/html": [
       "<div>\n",
       "<style scoped>\n",
       "    .dataframe tbody tr th:only-of-type {\n",
       "        vertical-align: middle;\n",
       "    }\n",
       "\n",
       "    .dataframe tbody tr th {\n",
       "        vertical-align: top;\n",
       "    }\n",
       "\n",
       "    .dataframe thead th {\n",
       "        text-align: right;\n",
       "    }\n",
       "</style>\n",
       "<table border=\"1\" class=\"dataframe\">\n",
       "  <thead>\n",
       "    <tr style=\"text-align: right;\">\n",
       "      <th></th>\n",
       "      <th>twitts</th>\n",
       "    </tr>\n",
       "  </thead>\n",
       "  <tbody>\n",
       "    <tr>\n",
       "      <th>0</th>\n",
       "      <td>is bored and wants to watch a movie  any sugge...</td>\n",
       "    </tr>\n",
       "    <tr>\n",
       "      <th>1</th>\n",
       "      <td>back in miami.  waiting to unboard ship</td>\n",
       "    </tr>\n",
       "    <tr>\n",
       "      <th>2</th>\n",
       "      <td>@misskpey awwww dnt dis brng bak memoriessss, ...</td>\n",
       "    </tr>\n",
       "    <tr>\n",
       "      <th>3</th>\n",
       "      <td>ughhh i am so tired  blahhhhhhhhh</td>\n",
       "    </tr>\n",
       "    <tr>\n",
       "      <th>4</th>\n",
       "      <td>@mandagoforth me bad! it's funny though. zacha...</td>\n",
       "    </tr>\n",
       "  </tbody>\n",
       "</table>\n",
       "</div>"
      ],
      "text/plain": [
       "                                              twitts\n",
       "0  is bored and wants to watch a movie  any sugge...\n",
       "1           back in miami.  waiting to unboard ship \n",
       "2  @misskpey awwww dnt dis brng bak memoriessss, ...\n",
       "3                  ughhh i am so tired  blahhhhhhhhh\n",
       "4  @mandagoforth me bad! it's funny though. zacha..."
      ]
     },
     "execution_count": 35,
     "metadata": {},
     "output_type": "execute_result"
    }
   ],
   "source": [
    "df[\"twitts\"] = df[\"twitts\"].apply(lambda words : str(words).lower())\n",
    "\n",
    "df[[\"twitts\"]].head()"
   ]
  },
  {
   "cell_type": "markdown",
   "id": "veterinary-frank",
   "metadata": {},
   "source": [
    "## Contraction to Expansion"
   ]
  },
  {
   "cell_type": "code",
   "execution_count": 36,
   "id": "rotary-correspondence",
   "metadata": {},
   "outputs": [],
   "source": [
    "contractions = { \n",
    "\"ain't\": \"am not\",\n",
    "\"aren't\": \"are not\",\n",
    "\"can't\": \"cannot\",\n",
    "\"can't've\": \"cannot have\",\n",
    "\"'cause\": \"because\",\n",
    "\"could've\": \"could have\",\n",
    "\"couldn't\": \"could not\",\n",
    "\"couldn't've\": \"could not have\",\n",
    "\"didn't\": \"did not\",\n",
    "\"doesn't\": \"does not\",\n",
    "\"don't\": \"do not\",\n",
    "\"hadn't\": \"had not\",\n",
    "\"hadn't've\": \"had not have\",\n",
    "\"hasn't\": \"has not\",\n",
    "\"haven't\": \"have not\",\n",
    "\"he'd\": \"he would\",\n",
    "\"he'd've\": \"he would have\",\n",
    "\"he'll\": \"he will\",\n",
    "\"he'll've\": \"he will have\",\n",
    "\"he's\": \"he is\",\n",
    "\"how'd\": \"how did\",\n",
    "\"how'd'y\": \"how do you\",\n",
    "\"how'll\": \"how will\",\n",
    "\"how's\": \"how does\",\n",
    "\"i'd\": \"i would\",\n",
    "\"i'd've\": \"i would have\",\n",
    "\"i'll\": \"i will\",\n",
    "\"i'll've\": \"i will have\",\n",
    "\"i'm\": \"i am\",\n",
    "\"i've\": \"i have\",\n",
    "\"isn't\": \"is not\",\n",
    "\"it'd\": \"it would\",\n",
    "\"it'd've\": \"it would have\",\n",
    "\"it'll\": \"it will\",\n",
    "\"it'll've\": \"it will have\",\n",
    "\"it's\": \"it is\",\n",
    "\"let's\": \"let us\",\n",
    "\"ma'am\": \"madam\",\n",
    "\"mayn't\": \"may not\",\n",
    "\"might've\": \"might have\",\n",
    "\"mightn't\": \"might not\",\n",
    "\"mightn't've\": \"might not have\",\n",
    "\"must've\": \"must have\",\n",
    "\"mustn't\": \"must not\",\n",
    "\"mustn't've\": \"must not have\",\n",
    "\"needn't\": \"need not\",\n",
    "\"needn't've\": \"need not have\",\n",
    "\"o'clock\": \"of the clock\",\n",
    "\"oughtn't\": \"ought not\",\n",
    "\"oughtn't've\": \"ought not have\",\n",
    "\"shan't\": \"shall not\",\n",
    "\"sha'n't\": \"shall not\",\n",
    "\"shan't've\": \"shall not have\",\n",
    "\"she'd\": \"she would\",\n",
    "\"she'd've\": \"she would have\",\n",
    "\"she'll\": \"she will\",\n",
    "\"she'll've\": \"she will have\",\n",
    "\"she's\": \"she is\",\n",
    "\"should've\": \"should have\",\n",
    "\"shouldn't\": \"should not\",\n",
    "\"shouldn't've\": \"should not have\",\n",
    "\"so've\": \"so have\",\n",
    "\"so's\": \"so is\",\n",
    "\"that'd\": \"that would\",\n",
    "\"that'd've\": \"that would have\",\n",
    "\"that's\": \"that is\",\n",
    "\"there'd\": \"there would\",\n",
    "\"there'd've\": \"there would have\",\n",
    "\"there's\": \"there is\",\n",
    "\"they'd\": \"they would\",\n",
    "\"they'd've\": \"they would have\",\n",
    "\"they'll\": \"they will\",\n",
    "\"they'll've\": \"they will have\",\n",
    "\"they're\": \"they are\",\n",
    "\"they've\": \"they have\",\n",
    "\"to've\": \"to have\",\n",
    "\"wasn't\": \"was not\",\n",
    "\" u \": \" you \",\n",
    "\" ur \": \" your \",\n",
    "\" n \": \" and \",\n",
    "\"won't\": \"would not\",\n",
    "'dis': 'this',\n",
    "'bak': 'back',\n",
    "'brng': 'bring'}"
   ]
  },
  {
   "cell_type": "code",
   "execution_count": 37,
   "id": "utility-education",
   "metadata": {},
   "outputs": [
    {
     "data": {
      "text/plain": [
       "str"
      ]
     },
     "execution_count": 37,
     "metadata": {},
     "output_type": "execute_result"
    }
   ],
   "source": [
    "x = \" i'm don't he'll \"\n",
    "type(x)"
   ]
  },
  {
   "cell_type": "code",
   "execution_count": 38,
   "id": "endless-ideal",
   "metadata": {},
   "outputs": [],
   "source": [
    "def cont_to_exp(words,contractions):\n",
    "    \n",
    "    if type(words) is str:\n",
    "        \n",
    "        for key in contractions:\n",
    "            \n",
    "            value = contractions[key]\n",
    "            \n",
    "            words = words.replace(key,value)\n",
    "            \n",
    "        return words\n",
    "    \n",
    "    else:\n",
    "        \n",
    "        return words"
   ]
  },
  {
   "cell_type": "code",
   "execution_count": 39,
   "id": "canadian-debut",
   "metadata": {},
   "outputs": [
    {
     "data": {
      "text/plain": [
       "' i am do not he will '"
      ]
     },
     "execution_count": 39,
     "metadata": {},
     "output_type": "execute_result"
    }
   ],
   "source": [
    "cont_to_exp(x,contractions)"
   ]
  },
  {
   "cell_type": "code",
   "execution_count": 40,
   "id": "rising-given",
   "metadata": {},
   "outputs": [
    {
     "data": {
      "text/plain": [
       "\" i am don't he'll \""
      ]
     },
     "execution_count": 40,
     "metadata": {},
     "output_type": "execute_result"
    }
   ],
   "source": [
    "x.replace(\"i'm\",\"i am\")"
   ]
  },
  {
   "cell_type": "code",
   "execution_count": 41,
   "id": "weird-person",
   "metadata": {},
   "outputs": [
    {
     "data": {
      "text/html": [
       "<div>\n",
       "<style scoped>\n",
       "    .dataframe tbody tr th:only-of-type {\n",
       "        vertical-align: middle;\n",
       "    }\n",
       "\n",
       "    .dataframe tbody tr th {\n",
       "        vertical-align: top;\n",
       "    }\n",
       "\n",
       "    .dataframe thead th {\n",
       "        text-align: right;\n",
       "    }\n",
       "</style>\n",
       "<table border=\"1\" class=\"dataframe\">\n",
       "  <thead>\n",
       "    <tr style=\"text-align: right;\">\n",
       "      <th></th>\n",
       "      <th>twitts</th>\n",
       "      <th>sentiment</th>\n",
       "      <th>Word_Counts</th>\n",
       "      <th>Characters_Counts</th>\n",
       "      <th>Avg_Word_Len</th>\n",
       "      <th>StopWords_Counts</th>\n",
       "      <th>Hashtags_Counts</th>\n",
       "      <th>Mentions_Counts</th>\n",
       "      <th>Numeric_Counts</th>\n",
       "      <th>Upper_Counts</th>\n",
       "    </tr>\n",
       "  </thead>\n",
       "  <tbody>\n",
       "    <tr>\n",
       "      <th>0</th>\n",
       "      <td>is bored and wants to watch a movie  any sugge...</td>\n",
       "      <td>0</td>\n",
       "      <td>10</td>\n",
       "      <td>43</td>\n",
       "      <td>4.300000</td>\n",
       "      <td>5</td>\n",
       "      <td>0</td>\n",
       "      <td>0</td>\n",
       "      <td>0</td>\n",
       "      <td>0</td>\n",
       "    </tr>\n",
       "    <tr>\n",
       "      <th>1</th>\n",
       "      <td>back in miami.  waiting to unboard ship</td>\n",
       "      <td>0</td>\n",
       "      <td>7</td>\n",
       "      <td>32</td>\n",
       "      <td>4.571429</td>\n",
       "      <td>3</td>\n",
       "      <td>0</td>\n",
       "      <td>0</td>\n",
       "      <td>0</td>\n",
       "      <td>0</td>\n",
       "    </tr>\n",
       "    <tr>\n",
       "      <th>2</th>\n",
       "      <td>@misskpey awwww dnt this bring back memoriesss...</td>\n",
       "      <td>0</td>\n",
       "      <td>12</td>\n",
       "      <td>54</td>\n",
       "      <td>4.500000</td>\n",
       "      <td>0</td>\n",
       "      <td>0</td>\n",
       "      <td>1</td>\n",
       "      <td>0</td>\n",
       "      <td>1</td>\n",
       "    </tr>\n",
       "    <tr>\n",
       "      <th>3</th>\n",
       "      <td>ughhh i am so tired  blahhhhhhhhh</td>\n",
       "      <td>0</td>\n",
       "      <td>6</td>\n",
       "      <td>27</td>\n",
       "      <td>4.500000</td>\n",
       "      <td>3</td>\n",
       "      <td>0</td>\n",
       "      <td>0</td>\n",
       "      <td>0</td>\n",
       "      <td>0</td>\n",
       "    </tr>\n",
       "    <tr>\n",
       "      <th>4</th>\n",
       "      <td>@mandagoforth me bad! it is funny though. zach...</td>\n",
       "      <td>0</td>\n",
       "      <td>26</td>\n",
       "      <td>116</td>\n",
       "      <td>4.461538</td>\n",
       "      <td>13</td>\n",
       "      <td>0</td>\n",
       "      <td>2</td>\n",
       "      <td>0</td>\n",
       "      <td>0</td>\n",
       "    </tr>\n",
       "  </tbody>\n",
       "</table>\n",
       "</div>"
      ],
      "text/plain": [
       "                                              twitts  sentiment  Word_Counts  \\\n",
       "0  is bored and wants to watch a movie  any sugge...          0           10   \n",
       "1           back in miami.  waiting to unboard ship           0            7   \n",
       "2  @misskpey awwww dnt this bring back memoriesss...          0           12   \n",
       "3                  ughhh i am so tired  blahhhhhhhhh          0            6   \n",
       "4  @mandagoforth me bad! it is funny though. zach...          0           26   \n",
       "\n",
       "   Characters_Counts  Avg_Word_Len  StopWords_Counts  Hashtags_Counts  \\\n",
       "0                 43      4.300000                 5                0   \n",
       "1                 32      4.571429                 3                0   \n",
       "2                 54      4.500000                 0                0   \n",
       "3                 27      4.500000                 3                0   \n",
       "4                116      4.461538                13                0   \n",
       "\n",
       "   Mentions_Counts  Numeric_Counts  Upper_Counts  \n",
       "0                0               0             0  \n",
       "1                0               0             0  \n",
       "2                1               0             1  \n",
       "3                0               0             0  \n",
       "4                2               0             0  "
      ]
     },
     "execution_count": 41,
     "metadata": {},
     "output_type": "execute_result"
    }
   ],
   "source": [
    "df[\"twitts\"] = df[\"twitts\"].apply(lambda words : cont_to_exp(words,contractions))\n",
    "\n",
    "df.head()"
   ]
  },
  {
   "cell_type": "markdown",
   "id": "automated-parts",
   "metadata": {},
   "source": [
    "## Count And Remove Emails"
   ]
  },
  {
   "cell_type": "code",
   "execution_count": 42,
   "id": "instructional-overall",
   "metadata": {},
   "outputs": [
    {
     "data": {
      "text/plain": [
       "'@securerecs arghh me please  markbradbury_16@hotmail.com'"
      ]
     },
     "execution_count": 42,
     "metadata": {},
     "output_type": "execute_result"
    }
   ],
   "source": [
    "df[df[\"twitts\"].str.contains(\"@hotmail\")][\"twitts\"].values[0]"
   ]
  },
  {
   "cell_type": "code",
   "execution_count": 43,
   "id": "liked-catholic",
   "metadata": {},
   "outputs": [],
   "source": [
    "x = '@securerecs arghh me please  markbradbury_16@hotmail.com '"
   ]
  },
  {
   "cell_type": "code",
   "execution_count": 44,
   "id": "solid-walnut",
   "metadata": {},
   "outputs": [
    {
     "data": {
      "text/plain": [
       "['markbradbury_16@hotmail.com']"
      ]
     },
     "execution_count": 44,
     "metadata": {},
     "output_type": "execute_result"
    }
   ],
   "source": [
    "re.findall(r\"([a-z0-9+._-]+@[a-z0-9+._-]+\\.[a-z0-9+_-]+\\b)\",x)"
   ]
  },
  {
   "cell_type": "code",
   "execution_count": 45,
   "id": "athletic-surge",
   "metadata": {},
   "outputs": [],
   "source": [
    "def email(words):\n",
    "    \n",
    "    mail = re.findall(r\"([a-z0-9+._-]+@[a-z0-9+._-]+\\.[a-z0-9+_-]+\\b)\",str(words))\n",
    "    \n",
    "    return mail\n",
    "\n",
    "def remove_email(words):\n",
    "    \n",
    "    last_words = re.sub(r\"([a-z0-9+._-]+@[a-z0-9+._-]+\\.[a-z0-9+_-]+\\b)\",\"\",str(words))\n",
    "    \n",
    "    last_words = \" \".join(str(last_words).split())\n",
    "    \n",
    "    return last_words"
   ]
  },
  {
   "cell_type": "code",
   "execution_count": 46,
   "id": "enormous-smell",
   "metadata": {},
   "outputs": [
    {
     "data": {
      "text/plain": [
       "['markbradbury_16@hotmail.com']"
      ]
     },
     "execution_count": 46,
     "metadata": {},
     "output_type": "execute_result"
    }
   ],
   "source": [
    "email(x)"
   ]
  },
  {
   "cell_type": "code",
   "execution_count": 47,
   "id": "prompt-possible",
   "metadata": {},
   "outputs": [
    {
     "data": {
      "text/plain": [
       "'@securerecs arghh me please'"
      ]
     },
     "execution_count": 47,
     "metadata": {},
     "output_type": "execute_result"
    }
   ],
   "source": [
    "remove_email(x)"
   ]
  },
  {
   "cell_type": "code",
   "execution_count": 48,
   "id": "actual-algeria",
   "metadata": {},
   "outputs": [
    {
     "data": {
      "text/html": [
       "<div>\n",
       "<style scoped>\n",
       "    .dataframe tbody tr th:only-of-type {\n",
       "        vertical-align: middle;\n",
       "    }\n",
       "\n",
       "    .dataframe tbody tr th {\n",
       "        vertical-align: top;\n",
       "    }\n",
       "\n",
       "    .dataframe thead th {\n",
       "        text-align: right;\n",
       "    }\n",
       "</style>\n",
       "<table border=\"1\" class=\"dataframe\">\n",
       "  <thead>\n",
       "    <tr style=\"text-align: right;\">\n",
       "      <th></th>\n",
       "      <th>Emails_Counts</th>\n",
       "      <th>Emails</th>\n",
       "    </tr>\n",
       "  </thead>\n",
       "  <tbody>\n",
       "    <tr>\n",
       "      <th>3713</th>\n",
       "      <td>1</td>\n",
       "      <td>[markbradbury_16@hotmail.com]</td>\n",
       "    </tr>\n",
       "  </tbody>\n",
       "</table>\n",
       "</div>"
      ],
      "text/plain": [
       "      Emails_Counts                         Emails\n",
       "3713              1  [markbradbury_16@hotmail.com]"
      ]
     },
     "execution_count": 48,
     "metadata": {},
     "output_type": "execute_result"
    }
   ],
   "source": [
    "df[\"Emails\"] = df[\"twitts\"].apply(lambda words : email(words))\n",
    "df[\"Emails_Counts\"] = df[\"twitts\"].apply(lambda words : len(email(words)))\n",
    "\n",
    "df[df[\"Emails_Counts\"] > 0][[\"Emails_Counts\",\"Emails\"]]"
   ]
  },
  {
   "cell_type": "code",
   "execution_count": 49,
   "id": "durable-strengthening",
   "metadata": {},
   "outputs": [
    {
     "data": {
      "text/plain": [
       "['markbradbury_16@hotmail.com', 'rkbradbury_16@hotmail.com']"
      ]
     },
     "execution_count": 49,
     "metadata": {},
     "output_type": "execute_result"
    }
   ],
   "source": [
    "y = '@securerecs arghh me please  markbradbury_16@hotmail.com, rkbradbury_16@hotmail.com'\n",
    "\n",
    "email(y)"
   ]
  },
  {
   "cell_type": "code",
   "execution_count": 50,
   "id": "minor-aspect",
   "metadata": {},
   "outputs": [
    {
     "data": {
      "text/plain": [
       "'@securerecs arghh me please ,'"
      ]
     },
     "execution_count": 50,
     "metadata": {},
     "output_type": "execute_result"
    }
   ],
   "source": [
    "remove_email(y)"
   ]
  },
  {
   "cell_type": "code",
   "execution_count": 51,
   "id": "chronic-beginning",
   "metadata": {},
   "outputs": [
    {
     "data": {
      "text/plain": [
       "'@securerecs arghh me please'"
      ]
     },
     "execution_count": 51,
     "metadata": {},
     "output_type": "execute_result"
    }
   ],
   "source": [
    "df[\"twitts\"] = df[\"twitts\"].apply(lambda words : remove_email(words))\n",
    "\n",
    "df.loc[3713][\"twitts\"]"
   ]
  },
  {
   "cell_type": "markdown",
   "id": "proved-generation",
   "metadata": {},
   "source": [
    "## Counts URLs and Remove It"
   ]
  },
  {
   "cell_type": "code",
   "execution_count": 52,
   "id": "dimensional-volume",
   "metadata": {},
   "outputs": [
    {
     "data": {
      "text/plain": [
       "[('https', 'youtube.com', '/kgptalkie')]"
      ]
     },
     "execution_count": 52,
     "metadata": {},
     "output_type": "execute_result"
    }
   ],
   "source": [
    "x = 'hi, thanks to watching it. for more visit https://youtube.com/kgptalkie'\n",
    "\n",
    "re.findall(r'(http|https|ftp|ssh)://([\\w_-]+(?:(?:\\.[\\w_-]+)+))([\\w.,@?^=%&:/~+#-]*[\\w@?^=%&/~+#-])?', \n",
    "           str(x))"
   ]
  },
  {
   "cell_type": "code",
   "execution_count": 53,
   "id": "breeding-business",
   "metadata": {},
   "outputs": [],
   "source": [
    "def urls_counts(words):\n",
    "    \n",
    "    urls_counts = re.findall(r'(http|https|ftp|ssh)://([\\w_-]+(?:(?:\\.[\\w_-]+)+))([\\w.,@?^=%&:/~+#-]*[\\w@?^=%&/~+#-])?', \n",
    "           str(words))\n",
    "    \n",
    "    return len(urls_counts)"
   ]
  },
  {
   "cell_type": "code",
   "execution_count": 54,
   "id": "dedicated-drama",
   "metadata": {},
   "outputs": [
    {
     "data": {
      "text/plain": [
       "1"
      ]
     },
     "execution_count": 54,
     "metadata": {},
     "output_type": "execute_result"
    }
   ],
   "source": [
    "urls_counts(x)"
   ]
  },
  {
   "cell_type": "code",
   "execution_count": 55,
   "id": "younger-benjamin",
   "metadata": {},
   "outputs": [
    {
     "data": {
      "text/html": [
       "<div>\n",
       "<style scoped>\n",
       "    .dataframe tbody tr th:only-of-type {\n",
       "        vertical-align: middle;\n",
       "    }\n",
       "\n",
       "    .dataframe tbody tr th {\n",
       "        vertical-align: top;\n",
       "    }\n",
       "\n",
       "    .dataframe thead th {\n",
       "        text-align: right;\n",
       "    }\n",
       "</style>\n",
       "<table border=\"1\" class=\"dataframe\">\n",
       "  <thead>\n",
       "    <tr style=\"text-align: right;\">\n",
       "      <th></th>\n",
       "      <th>urls_counts</th>\n",
       "      <th>twitts</th>\n",
       "    </tr>\n",
       "  </thead>\n",
       "  <tbody>\n",
       "    <tr>\n",
       "      <th>16</th>\n",
       "      <td>1</td>\n",
       "      <td>@brianquest i made 1 fo you 2: http://bit.ly/e...</td>\n",
       "    </tr>\n",
       "    <tr>\n",
       "      <th>98</th>\n",
       "      <td>1</td>\n",
       "      <td>heading to work http://twitpic.com/4eojz</td>\n",
       "    </tr>\n",
       "    <tr>\n",
       "      <th>99</th>\n",
       "      <td>1</td>\n",
       "      <td>@blondeblogger http://twitpic.com/4w8hk - i am...</td>\n",
       "    </tr>\n",
       "    <tr>\n",
       "      <th>144</th>\n",
       "      <td>1</td>\n",
       "      <td>i miss you ã¢ââ« http://blip.fm/~8lc2f</td>\n",
       "    </tr>\n",
       "    <tr>\n",
       "      <th>183</th>\n",
       "      <td>1</td>\n",
       "      <td>photo: miss germany http://tumblr.com/xf825f012</td>\n",
       "    </tr>\n",
       "  </tbody>\n",
       "</table>\n",
       "</div>"
      ],
      "text/plain": [
       "     urls_counts                                             twitts\n",
       "16             1  @brianquest i made 1 fo you 2: http://bit.ly/e...\n",
       "98             1           heading to work http://twitpic.com/4eojz\n",
       "99             1  @blondeblogger http://twitpic.com/4w8hk - i am...\n",
       "144            1            i miss you ã¢ââ« http://blip.fm/~8lc2f\n",
       "183            1    photo: miss germany http://tumblr.com/xf825f012"
      ]
     },
     "execution_count": 55,
     "metadata": {},
     "output_type": "execute_result"
    }
   ],
   "source": [
    "df[\"urls_counts\"] = df[\"twitts\"].apply(lambda words : urls_counts(words))\n",
    "\n",
    "df[df[\"urls_counts\"]> 0][[\"urls_counts\",\"twitts\"]].head()"
   ]
  },
  {
   "cell_type": "code",
   "execution_count": 56,
   "id": "impressive-denial",
   "metadata": {},
   "outputs": [
    {
     "data": {
      "text/plain": [
       "185"
      ]
     },
     "execution_count": 56,
     "metadata": {},
     "output_type": "execute_result"
    }
   ],
   "source": [
    "len(df[df[\"urls_counts\"]> 0])"
   ]
  },
  {
   "cell_type": "code",
   "execution_count": 57,
   "id": "previous-hawaiian",
   "metadata": {},
   "outputs": [],
   "source": [
    "def remove_urls(words):\n",
    "    \n",
    "    last_words = re.sub(r'(http|https|ftp|ssh)://([\\w_-]+(?:(?:\\.[\\w_-]+)+))([\\w.,@?^=%&:/~+#-]*[\\w@?^=%&/~+#-])?',\n",
    "                         \"\", str(words))\n",
    "    \n",
    "    last_words = \" \".join(str(last_words).split())\n",
    "    \n",
    "    return last_words"
   ]
  },
  {
   "cell_type": "code",
   "execution_count": 58,
   "id": "superior-coordination",
   "metadata": {},
   "outputs": [
    {
     "data": {
      "text/plain": [
       "'hi, thanks to watching it. for more visit'"
      ]
     },
     "execution_count": 58,
     "metadata": {},
     "output_type": "execute_result"
    }
   ],
   "source": [
    "remove_urls(x)"
   ]
  },
  {
   "cell_type": "code",
   "execution_count": 59,
   "id": "fallen-temple",
   "metadata": {},
   "outputs": [
    {
     "data": {
      "text/html": [
       "<div>\n",
       "<style scoped>\n",
       "    .dataframe tbody tr th:only-of-type {\n",
       "        vertical-align: middle;\n",
       "    }\n",
       "\n",
       "    .dataframe tbody tr th {\n",
       "        vertical-align: top;\n",
       "    }\n",
       "\n",
       "    .dataframe thead th {\n",
       "        text-align: right;\n",
       "    }\n",
       "</style>\n",
       "<table border=\"1\" class=\"dataframe\">\n",
       "  <thead>\n",
       "    <tr style=\"text-align: right;\">\n",
       "      <th></th>\n",
       "      <th>twitts</th>\n",
       "    </tr>\n",
       "  </thead>\n",
       "  <tbody>\n",
       "    <tr>\n",
       "      <th>0</th>\n",
       "      <td>is bored and wants to watch a movie any sugges...</td>\n",
       "    </tr>\n",
       "    <tr>\n",
       "      <th>1</th>\n",
       "      <td>back in miami. waiting to unboard ship</td>\n",
       "    </tr>\n",
       "    <tr>\n",
       "      <th>2</th>\n",
       "      <td>@misskpey awwww dnt this bring back memoriesss...</td>\n",
       "    </tr>\n",
       "    <tr>\n",
       "      <th>3</th>\n",
       "      <td>ughhh i am so tired blahhhhhhhhh</td>\n",
       "    </tr>\n",
       "    <tr>\n",
       "      <th>4</th>\n",
       "      <td>@mandagoforth me bad! it is funny though. zach...</td>\n",
       "    </tr>\n",
       "  </tbody>\n",
       "</table>\n",
       "</div>"
      ],
      "text/plain": [
       "                                              twitts\n",
       "0  is bored and wants to watch a movie any sugges...\n",
       "1             back in miami. waiting to unboard ship\n",
       "2  @misskpey awwww dnt this bring back memoriesss...\n",
       "3                   ughhh i am so tired blahhhhhhhhh\n",
       "4  @mandagoforth me bad! it is funny though. zach..."
      ]
     },
     "execution_count": 59,
     "metadata": {},
     "output_type": "execute_result"
    }
   ],
   "source": [
    "df[\"twitts\"] = df[\"twitts\"].apply(lambda words : remove_urls(words))\n",
    "\n",
    "df[[\"twitts\"]].head()"
   ]
  },
  {
   "cell_type": "code",
   "execution_count": 60,
   "id": "nasty-tyler",
   "metadata": {},
   "outputs": [
    {
     "data": {
      "text/plain": [
       "'photo: miss germany'"
      ]
     },
     "execution_count": 60,
     "metadata": {},
     "output_type": "execute_result"
    }
   ],
   "source": [
    "df.loc[183][\"twitts\"]"
   ]
  },
  {
   "cell_type": "markdown",
   "id": "relevant-timing",
   "metadata": {},
   "source": [
    "## Remove RT"
   ]
  },
  {
   "cell_type": "code",
   "execution_count": 61,
   "id": "friendly-usage",
   "metadata": {},
   "outputs": [],
   "source": [
    "x = \"rt @username hello hi\""
   ]
  },
  {
   "cell_type": "code",
   "execution_count": 62,
   "id": "further-explanation",
   "metadata": {},
   "outputs": [
    {
     "data": {
      "text/plain": [
       "'@username hello hi'"
      ]
     },
     "execution_count": 62,
     "metadata": {},
     "output_type": "execute_result"
    }
   ],
   "source": [
    "re.sub(r\"\\brt\\b\",\"\",x).strip()"
   ]
  },
  {
   "cell_type": "code",
   "execution_count": 63,
   "id": "false-bible",
   "metadata": {},
   "outputs": [],
   "source": [
    "def remove_rt(words):\n",
    "    \n",
    "    last_words = re.sub(r\"\\brt\\b\",\"\",str(words))\n",
    "    \n",
    "    last_words = last_words.strip()\n",
    "    \n",
    "    return last_words"
   ]
  },
  {
   "cell_type": "code",
   "execution_count": 64,
   "id": "bigger-dance",
   "metadata": {},
   "outputs": [],
   "source": [
    "df[\"twitts\"] = df[\"twitts\"].apply(lambda words : remove_rt(words))"
   ]
  },
  {
   "cell_type": "markdown",
   "id": "sufficient-recognition",
   "metadata": {},
   "source": [
    "## Special Chars Removal Or Punctuation Removel"
   ]
  },
  {
   "cell_type": "code",
   "execution_count": 65,
   "id": "golden-bridges",
   "metadata": {},
   "outputs": [
    {
     "data": {
      "text/plain": [
       "'test test'"
      ]
     },
     "execution_count": 65,
     "metadata": {},
     "output_type": "execute_result"
    }
   ],
   "source": [
    "x = \"test test ...... !!! !!!\"\n",
    "\n",
    "re.sub(\"[^\\w ]\",\"\",x).strip()"
   ]
  },
  {
   "cell_type": "code",
   "execution_count": 66,
   "id": "married-scheduling",
   "metadata": {},
   "outputs": [],
   "source": [
    "def remove_special(words):\n",
    "    \n",
    "    last_words = re.sub(r\"[^\\w ]\",\"\",str(words)).strip()\n",
    "    \n",
    "    return last_words"
   ]
  },
  {
   "cell_type": "code",
   "execution_count": 67,
   "id": "creative-packaging",
   "metadata": {},
   "outputs": [
    {
     "data": {
      "text/plain": [
       "'test test'"
      ]
     },
     "execution_count": 67,
     "metadata": {},
     "output_type": "execute_result"
    }
   ],
   "source": [
    "remove_special(x)"
   ]
  },
  {
   "cell_type": "code",
   "execution_count": 68,
   "id": "every-poland",
   "metadata": {},
   "outputs": [],
   "source": [
    "df[\"twitts\"] = df[\"twitts\"].apply(lambda words : remove_special(words))"
   ]
  },
  {
   "cell_type": "code",
   "execution_count": 69,
   "id": "subject-amplifier",
   "metadata": {},
   "outputs": [
    {
     "data": {
      "text/html": [
       "<div>\n",
       "<style scoped>\n",
       "    .dataframe tbody tr th:only-of-type {\n",
       "        vertical-align: middle;\n",
       "    }\n",
       "\n",
       "    .dataframe tbody tr th {\n",
       "        vertical-align: top;\n",
       "    }\n",
       "\n",
       "    .dataframe thead th {\n",
       "        text-align: right;\n",
       "    }\n",
       "</style>\n",
       "<table border=\"1\" class=\"dataframe\">\n",
       "  <thead>\n",
       "    <tr style=\"text-align: right;\">\n",
       "      <th></th>\n",
       "      <th>twitts</th>\n",
       "      <th>sentiment</th>\n",
       "      <th>Word_Counts</th>\n",
       "      <th>Characters_Counts</th>\n",
       "      <th>Avg_Word_Len</th>\n",
       "      <th>StopWords_Counts</th>\n",
       "      <th>Hashtags_Counts</th>\n",
       "      <th>Mentions_Counts</th>\n",
       "      <th>Numeric_Counts</th>\n",
       "      <th>Upper_Counts</th>\n",
       "      <th>Emails</th>\n",
       "      <th>Emails_Counts</th>\n",
       "      <th>urls_counts</th>\n",
       "    </tr>\n",
       "  </thead>\n",
       "  <tbody>\n",
       "    <tr>\n",
       "      <th>0</th>\n",
       "      <td>is bored and wants to watch a movie any sugges...</td>\n",
       "      <td>0</td>\n",
       "      <td>10</td>\n",
       "      <td>43</td>\n",
       "      <td>4.300000</td>\n",
       "      <td>5</td>\n",
       "      <td>0</td>\n",
       "      <td>0</td>\n",
       "      <td>0</td>\n",
       "      <td>0</td>\n",
       "      <td>[]</td>\n",
       "      <td>0</td>\n",
       "      <td>0</td>\n",
       "    </tr>\n",
       "    <tr>\n",
       "      <th>1</th>\n",
       "      <td>back in miami waiting to unboard ship</td>\n",
       "      <td>0</td>\n",
       "      <td>7</td>\n",
       "      <td>32</td>\n",
       "      <td>4.571429</td>\n",
       "      <td>3</td>\n",
       "      <td>0</td>\n",
       "      <td>0</td>\n",
       "      <td>0</td>\n",
       "      <td>0</td>\n",
       "      <td>[]</td>\n",
       "      <td>0</td>\n",
       "      <td>0</td>\n",
       "    </tr>\n",
       "    <tr>\n",
       "      <th>2</th>\n",
       "      <td>misskpey awwww dnt this bring back memoriessss...</td>\n",
       "      <td>0</td>\n",
       "      <td>12</td>\n",
       "      <td>54</td>\n",
       "      <td>4.500000</td>\n",
       "      <td>0</td>\n",
       "      <td>0</td>\n",
       "      <td>1</td>\n",
       "      <td>0</td>\n",
       "      <td>1</td>\n",
       "      <td>[]</td>\n",
       "      <td>0</td>\n",
       "      <td>0</td>\n",
       "    </tr>\n",
       "    <tr>\n",
       "      <th>3</th>\n",
       "      <td>ughhh i am so tired blahhhhhhhhh</td>\n",
       "      <td>0</td>\n",
       "      <td>6</td>\n",
       "      <td>27</td>\n",
       "      <td>4.500000</td>\n",
       "      <td>3</td>\n",
       "      <td>0</td>\n",
       "      <td>0</td>\n",
       "      <td>0</td>\n",
       "      <td>0</td>\n",
       "      <td>[]</td>\n",
       "      <td>0</td>\n",
       "      <td>0</td>\n",
       "    </tr>\n",
       "    <tr>\n",
       "      <th>4</th>\n",
       "      <td>mandagoforth me bad it is funny though zachary...</td>\n",
       "      <td>0</td>\n",
       "      <td>26</td>\n",
       "      <td>116</td>\n",
       "      <td>4.461538</td>\n",
       "      <td>13</td>\n",
       "      <td>0</td>\n",
       "      <td>2</td>\n",
       "      <td>0</td>\n",
       "      <td>0</td>\n",
       "      <td>[]</td>\n",
       "      <td>0</td>\n",
       "      <td>0</td>\n",
       "    </tr>\n",
       "  </tbody>\n",
       "</table>\n",
       "</div>"
      ],
      "text/plain": [
       "                                              twitts  sentiment  Word_Counts  \\\n",
       "0  is bored and wants to watch a movie any sugges...          0           10   \n",
       "1              back in miami waiting to unboard ship          0            7   \n",
       "2  misskpey awwww dnt this bring back memoriessss...          0           12   \n",
       "3                   ughhh i am so tired blahhhhhhhhh          0            6   \n",
       "4  mandagoforth me bad it is funny though zachary...          0           26   \n",
       "\n",
       "   Characters_Counts  Avg_Word_Len  StopWords_Counts  Hashtags_Counts  \\\n",
       "0                 43      4.300000                 5                0   \n",
       "1                 32      4.571429                 3                0   \n",
       "2                 54      4.500000                 0                0   \n",
       "3                 27      4.500000                 3                0   \n",
       "4                116      4.461538                13                0   \n",
       "\n",
       "   Mentions_Counts  Numeric_Counts  Upper_Counts Emails  Emails_Counts  \\\n",
       "0                0               0             0     []              0   \n",
       "1                0               0             0     []              0   \n",
       "2                1               0             1     []              0   \n",
       "3                0               0             0     []              0   \n",
       "4                2               0             0     []              0   \n",
       "\n",
       "   urls_counts  \n",
       "0            0  \n",
       "1            0  \n",
       "2            0  \n",
       "3            0  \n",
       "4            0  "
      ]
     },
     "execution_count": 69,
     "metadata": {},
     "output_type": "execute_result"
    }
   ],
   "source": [
    "df.head()"
   ]
  },
  {
   "cell_type": "markdown",
   "id": "radio-stability",
   "metadata": {},
   "source": [
    "## Remove Multiple Spaces "
   ]
  },
  {
   "cell_type": "code",
   "execution_count": 70,
   "id": "secret-command",
   "metadata": {},
   "outputs": [],
   "source": [
    "x = \"hi  hello  how are you\""
   ]
  },
  {
   "cell_type": "code",
   "execution_count": 71,
   "id": "bibliographic-token",
   "metadata": {},
   "outputs": [
    {
     "data": {
      "text/plain": [
       "'hi hello how are you'"
      ]
     },
     "execution_count": 71,
     "metadata": {},
     "output_type": "execute_result"
    }
   ],
   "source": [
    "\" \".join(str(x).split())"
   ]
  },
  {
   "cell_type": "code",
   "execution_count": 72,
   "id": "neither-month",
   "metadata": {},
   "outputs": [],
   "source": [
    "def remove_multiplespaces(words):\n",
    "    \n",
    "    last_words = \" \".join(str(words).split())\n",
    "    \n",
    "    return last_words"
   ]
  },
  {
   "cell_type": "code",
   "execution_count": 73,
   "id": "liquid-deputy",
   "metadata": {},
   "outputs": [
    {
     "data": {
      "text/plain": [
       "'hi hello how are you'"
      ]
     },
     "execution_count": 73,
     "metadata": {},
     "output_type": "execute_result"
    }
   ],
   "source": [
    "remove_multiplespaces(x)"
   ]
  },
  {
   "cell_type": "code",
   "execution_count": 74,
   "id": "permanent-ambassador",
   "metadata": {},
   "outputs": [],
   "source": [
    "df[\"twitts\"] = df[\"twitts\"].apply(lambda words : remove_multiplespaces(words))"
   ]
  },
  {
   "cell_type": "markdown",
   "id": "married-anderson",
   "metadata": {},
   "source": [
    "## Remove HTML Tags"
   ]
  },
  {
   "cell_type": "code",
   "execution_count": 75,
   "id": "continuous-condition",
   "metadata": {},
   "outputs": [],
   "source": [
    "from bs4 import BeautifulSoup"
   ]
  },
  {
   "cell_type": "code",
   "execution_count": 76,
   "id": "coordinate-morgan",
   "metadata": {},
   "outputs": [],
   "source": [
    "x = '<html><h1> thanks for watching it </h1></html>'"
   ]
  },
  {
   "cell_type": "code",
   "execution_count": 77,
   "id": "synthetic-header",
   "metadata": {},
   "outputs": [
    {
     "data": {
      "text/plain": [
       "(' thanks for watching it </h1></html>',\n",
       " '<html><h1> thanks for watching it </h1></html>')"
      ]
     },
     "execution_count": 77,
     "metadata": {},
     "output_type": "execute_result"
    }
   ],
   "source": [
    "re.sub(\"<html><h1>\",\"\",x),re.sub(\"<h1><html>\",\"\",x)"
   ]
  },
  {
   "cell_type": "code",
   "execution_count": 78,
   "id": "polar-spread",
   "metadata": {},
   "outputs": [
    {
     "data": {
      "text/plain": [
       "'thanks for watching it'"
      ]
     },
     "execution_count": 78,
     "metadata": {},
     "output_type": "execute_result"
    }
   ],
   "source": [
    "BeautifulSoup(x, \"lxml\").get_text().strip()"
   ]
  },
  {
   "cell_type": "code",
   "execution_count": 79,
   "id": "italian-domestic",
   "metadata": {},
   "outputs": [],
   "source": [
    "def remove_html(words):\n",
    "    \n",
    "    last_words = BeautifulSoup(str(words), \"lxml\").get_text().strip()\n",
    "    \n",
    "    return last_words"
   ]
  },
  {
   "cell_type": "code",
   "execution_count": 80,
   "id": "color-jaguar",
   "metadata": {},
   "outputs": [
    {
     "data": {
      "text/plain": [
       "'thanks for watching it'"
      ]
     },
     "execution_count": 80,
     "metadata": {},
     "output_type": "execute_result"
    }
   ],
   "source": [
    "remove_html(x)"
   ]
  },
  {
   "cell_type": "code",
   "execution_count": 81,
   "id": "parallel-capital",
   "metadata": {},
   "outputs": [],
   "source": [
    "df[\"twitts\"] = df[\"twitts\"].apply(lambda words : remove_html(words))"
   ]
  },
  {
   "cell_type": "markdown",
   "id": "reliable-immunology",
   "metadata": {},
   "source": [
    "## Remove StopWords"
   ]
  },
  {
   "cell_type": "code",
   "execution_count": 82,
   "id": "interstate-foundation",
   "metadata": {},
   "outputs": [],
   "source": [
    "from spacy.lang.en.stop_words import STOP_WORDS as Stopwords"
   ]
  },
  {
   "cell_type": "code",
   "execution_count": 83,
   "id": "scenic-washer",
   "metadata": {},
   "outputs": [],
   "source": [
    "def remove_stopwords(words):\n",
    "    \n",
    "    s = str(words).split()\n",
    "    \n",
    "    last_words_list = [word for word in s if word not in Stopwords]\n",
    "    \n",
    "    last_words = \" \".join(last_words_list)\n",
    "    \n",
    "    return last_words"
   ]
  },
  {
   "cell_type": "code",
   "execution_count": 84,
   "id": "activated-quick",
   "metadata": {},
   "outputs": [
    {
     "data": {
      "text/plain": [
       "0    is bored and wants to watch a movie any sugges...\n",
       "1                back in miami waiting to unboard ship\n",
       "2    misskpey awwww dnt this bring back memoriessss...\n",
       "3                     ughhh i am so tired blahhhhhhhhh\n",
       "4    mandagoforth me bad it is funny though zachary...\n",
       "Name: twitts, dtype: object"
      ]
     },
     "execution_count": 84,
     "metadata": {},
     "output_type": "execute_result"
    }
   ],
   "source": [
    "df[\"twitts\"].head()"
   ]
  },
  {
   "cell_type": "code",
   "execution_count": 85,
   "id": "printable-clinic",
   "metadata": {},
   "outputs": [
    {
     "data": {
      "text/plain": [
       "0                  bored wants watch movie suggestions\n",
       "1                           miami waiting unboard ship\n",
       "2    misskpey awwww dnt bring memoriessss thnk sad lol\n",
       "3                             ughhh tired blahhhhhhhhh\n",
       "4    mandagoforth bad funny zachary quinto amp repl...\n",
       "Name: twitts, dtype: object"
      ]
     },
     "execution_count": 85,
     "metadata": {},
     "output_type": "execute_result"
    }
   ],
   "source": [
    "df[\"twitts\"] = df[\"twitts\"].apply(lambda words : remove_stopwords(words))\n",
    "\n",
    "df[\"twitts\"].head()"
   ]
  },
  {
   "cell_type": "markdown",
   "id": "weekly-processor",
   "metadata": {},
   "source": [
    "## Remove Accented Chars"
   ]
  },
  {
   "cell_type": "code",
   "execution_count": 86,
   "id": "pleased-hobby",
   "metadata": {},
   "outputs": [],
   "source": [
    "x = 'Áccěntěd těxt'"
   ]
  },
  {
   "cell_type": "code",
   "execution_count": 87,
   "id": "improved-while",
   "metadata": {},
   "outputs": [],
   "source": [
    "import unicodedata"
   ]
  },
  {
   "cell_type": "code",
   "execution_count": 88,
   "id": "governing-diamond",
   "metadata": {},
   "outputs": [],
   "source": [
    "def remove_accented_chars(words):\n",
    "    \n",
    "    words = unicodedata.normalize(\"NFKD\",words).encode(\"ascii\",\"ignore\").decode(\"utf-8\")\n",
    "    \n",
    "    return words"
   ]
  },
  {
   "cell_type": "code",
   "execution_count": 89,
   "id": "optical-equality",
   "metadata": {},
   "outputs": [
    {
     "data": {
      "text/plain": [
       "'Accented text'"
      ]
     },
     "execution_count": 89,
     "metadata": {},
     "output_type": "execute_result"
    }
   ],
   "source": [
    "remove_accented_chars(x)"
   ]
  },
  {
   "cell_type": "code",
   "execution_count": 90,
   "id": "fleet-string",
   "metadata": {},
   "outputs": [
    {
     "data": {
      "text/plain": [
       "0                  bored wants watch movie suggestions\n",
       "1                           miami waiting unboard ship\n",
       "2    misskpey awwww dnt bring memoriessss thnk sad lol\n",
       "3                             ughhh tired blahhhhhhhhh\n",
       "4    mandagoforth bad funny zachary quinto amp repl...\n",
       "Name: twitts, dtype: object"
      ]
     },
     "execution_count": 90,
     "metadata": {},
     "output_type": "execute_result"
    }
   ],
   "source": [
    "df[\"twitts\"] = df[\"twitts\"].apply(lambda words : remove_accented_chars(words))\n",
    "\n",
    "df[\"twitts\"].head()"
   ]
  },
  {
   "cell_type": "markdown",
   "id": "developed-final",
   "metadata": {},
   "source": [
    "## Convert Into Base or Root Form of Word"
   ]
  },
  {
   "cell_type": "code",
   "execution_count": 91,
   "id": "excess-rapid",
   "metadata": {},
   "outputs": [],
   "source": [
    "import spacy\n",
    "\n",
    "nlp = spacy.load(\"en_core_web_sm\")\n",
    "\n",
    "x = \"chocolates balls times\"\n",
    "\n",
    "y = \"this is chocolates. what is times? this balls\""
   ]
  },
  {
   "cell_type": "code",
   "execution_count": 92,
   "id": "boxed-mississippi",
   "metadata": {},
   "outputs": [
    {
     "name": "stdout",
     "output_type": "stream",
     "text": [
      "Text : this           , Lemma : this\n",
      "Text : is             , Lemma : be\n",
      "Text : chocolates     , Lemma : chocolate\n",
      "Text : .              , Lemma : .\n",
      "Text : what           , Lemma : what\n",
      "Text : is             , Lemma : be\n",
      "Text : times          , Lemma : time\n",
      "Text : ?              , Lemma : ?\n",
      "Text : this           , Lemma : this\n",
      "Text : balls          , Lemma : ball\n"
     ]
    }
   ],
   "source": [
    "doc = nlp(y)\n",
    "\n",
    "for token in doc:\n",
    "    \n",
    "    print(f\"Text : {token.text:{15}}, Lemma : {token.lemma_}\")"
   ]
  },
  {
   "cell_type": "code",
   "execution_count": 93,
   "id": "commercial-hayes",
   "metadata": {},
   "outputs": [],
   "source": [
    "def make_to_base(words):\n",
    "    \n",
    "    import spacy\n",
    "    \n",
    "    nlp = spacy.load(\"en_core_web_sm\")\n",
    "    \n",
    "    words_list = []\n",
    "    \n",
    "    doc = nlp(str(words))\n",
    "    \n",
    "    for token in doc:\n",
    "        \n",
    "        lemma = token.lemma_\n",
    "        \n",
    "        if lemma == \"-PRON-\" or lemma == \"be\" :\n",
    "            \n",
    "            lemma = token.text\n",
    "        \n",
    "        words_list.append(lemma)\n",
    "        \n",
    "    return \" \".join(words_list)"
   ]
  },
  {
   "cell_type": "code",
   "execution_count": 94,
   "id": "geographic-statistics",
   "metadata": {},
   "outputs": [
    {
     "data": {
      "text/plain": [
       "('this is chocolates. what is times? this balls',\n",
       " 'this is chocolate . what is time ? this ball')"
      ]
     },
     "execution_count": 94,
     "metadata": {},
     "output_type": "execute_result"
    }
   ],
   "source": [
    "y,make_to_base(y)"
   ]
  },
  {
   "cell_type": "code",
   "execution_count": 95,
   "id": "enhanced-recycling",
   "metadata": {},
   "outputs": [
    {
     "data": {
      "text/plain": [
       "0                    bored want watch movie suggestion\n",
       "1                              miami wait unboard ship\n",
       "2    misskpey awwww dnt bring memoriessss thnk sad lol\n",
       "3                             ughhh tired blahhhhhhhhh\n",
       "4    mandagoforth bad funny zachary quinto amp repl...\n",
       "Name: twitts, dtype: object"
      ]
     },
     "execution_count": 95,
     "metadata": {},
     "output_type": "execute_result"
    }
   ],
   "source": [
    "df[\"twitts\"] = df[\"twitts\"].apply(lambda words : make_to_base(words))\n",
    "\n",
    "df[\"twitts\"].head()"
   ]
  },
  {
   "cell_type": "markdown",
   "id": "juvenile-batch",
   "metadata": {},
   "source": [
    "## Commen words removal"
   ]
  },
  {
   "cell_type": "code",
   "execution_count": 96,
   "id": "residential-noise",
   "metadata": {},
   "outputs": [],
   "source": [
    "x = \"this is this okay bye\""
   ]
  },
  {
   "cell_type": "code",
   "execution_count": 97,
   "id": "located-kruger",
   "metadata": {},
   "outputs": [],
   "source": [
    "def commen_words(dataframe):\n",
    "    \n",
    "    counts = pd.Series(\" \".join(dataframe).split()).value_counts().reset_index()\n",
    "\n",
    "    counts.columns = [\"Name\",\"Counts\"]\n",
    "\n",
    "    counts = counts.sort_values(by = \"Counts\", ascending = False)\n",
    "\n",
    "    plt.figure(figsize = (15,6))\n",
    "    sns.barplot(y = \"Name\",x = \"Counts\", data = counts.head(15))\n",
    "\n",
    "    size = 15\n",
    "    plt.xlabel(\"Counts\", fontsize = size)\n",
    "    plt.ylabel(\"Name\", fontsize = size)\n",
    "    plt.title(\"Counts Graphs\", fontsize = size)\n",
    "    plt.show()\n",
    "    \n",
    "    return counts"
   ]
  },
  {
   "cell_type": "code",
   "execution_count": 98,
   "id": "auburn-wichita",
   "metadata": {},
   "outputs": [
    {
     "data": {
      "image/png": "[encoded data removed]",
      "text/plain": [
       "<Figure size 1080x432 with 1 Axes>"
      ]
     },
     "metadata": {
      "needs_background": "light"
     },
     "output_type": "display_data"
    }
   ],
   "source": [
    "data_counts = commen_words(dataframe=df[\"twitts\"])"
   ]
  },
  {
   "cell_type": "code",
   "execution_count": 99,
   "id": "prospective-warehouse",
   "metadata": {},
   "outputs": [
    {
     "data": {
      "text/html": [
       "<div>\n",
       "<style scoped>\n",
       "    .dataframe tbody tr th:only-of-type {\n",
       "        vertical-align: middle;\n",
       "    }\n",
       "\n",
       "    .dataframe tbody tr th {\n",
       "        vertical-align: top;\n",
       "    }\n",
       "\n",
       "    .dataframe thead th {\n",
       "        text-align: right;\n",
       "    }\n",
       "</style>\n",
       "<table border=\"1\" class=\"dataframe\">\n",
       "  <thead>\n",
       "    <tr style=\"text-align: right;\">\n",
       "      <th></th>\n",
       "      <th>0</th>\n",
       "      <th>1</th>\n",
       "      <th>2</th>\n",
       "      <th>3</th>\n",
       "      <th>4</th>\n",
       "      <th>5</th>\n",
       "      <th>6</th>\n",
       "      <th>7</th>\n",
       "      <th>8</th>\n",
       "      <th>9</th>\n",
       "      <th>10</th>\n",
       "      <th>11</th>\n",
       "      <th>12</th>\n",
       "      <th>13</th>\n",
       "      <th>14</th>\n",
       "      <th>15</th>\n",
       "      <th>16</th>\n",
       "      <th>17</th>\n",
       "      <th>18</th>\n",
       "      <th>19</th>\n",
       "    </tr>\n",
       "  </thead>\n",
       "  <tbody>\n",
       "    <tr>\n",
       "      <th>Name</th>\n",
       "      <td>day</td>\n",
       "      <td>good</td>\n",
       "      <td>work</td>\n",
       "      <td>love</td>\n",
       "      <td>like</td>\n",
       "      <td>get</td>\n",
       "      <td>go</td>\n",
       "      <td>today</td>\n",
       "      <td>not</td>\n",
       "      <td>time</td>\n",
       "      <td>lol</td>\n",
       "      <td>thank</td>\n",
       "      <td>think</td>\n",
       "      <td>miss</td>\n",
       "      <td>want</td>\n",
       "      <td>know</td>\n",
       "      <td>m</td>\n",
       "      <td>I</td>\n",
       "      <td>amp</td>\n",
       "      <td>look</td>\n",
       "    </tr>\n",
       "    <tr>\n",
       "      <th>Counts</th>\n",
       "      <td>265</td>\n",
       "      <td>233</td>\n",
       "      <td>200</td>\n",
       "      <td>200</td>\n",
       "      <td>197</td>\n",
       "      <td>196</td>\n",
       "      <td>196</td>\n",
       "      <td>183</td>\n",
       "      <td>154</td>\n",
       "      <td>153</td>\n",
       "      <td>149</td>\n",
       "      <td>144</td>\n",
       "      <td>144</td>\n",
       "      <td>143</td>\n",
       "      <td>141</td>\n",
       "      <td>140</td>\n",
       "      <td>136</td>\n",
       "      <td>135</td>\n",
       "      <td>125</td>\n",
       "      <td>118</td>\n",
       "    </tr>\n",
       "  </tbody>\n",
       "</table>\n",
       "</div>"
      ],
      "text/plain": [
       "         0     1     2     3     4    5    6      7    8     9    10     11  \\\n",
       "Name    day  good  work  love  like  get   go  today  not  time  lol  thank   \n",
       "Counts  265   233   200   200   197  196  196    183  154   153  149    144   \n",
       "\n",
       "           12    13    14    15   16   17   18    19  \n",
       "Name    think  miss  want  know    m    I  amp  look  \n",
       "Counts    144   143   141   140  136  135  125   118  "
      ]
     },
     "execution_count": 99,
     "metadata": {},
     "output_type": "execute_result"
    }
   ],
   "source": [
    "data_counts.head(20).T"
   ]
  },
  {
   "cell_type": "code",
   "execution_count": 100,
   "id": "controversial-alexander",
   "metadata": {},
   "outputs": [
    {
     "data": {
      "text/plain": [
       "20"
      ]
     },
     "execution_count": 100,
     "metadata": {},
     "output_type": "execute_result"
    }
   ],
   "source": [
    "freq20 = data_counts[\"Name\"][:20].tolist()\n",
    "len(freq20)"
   ]
  },
  {
   "cell_type": "code",
   "execution_count": 101,
   "id": "outdoor-period",
   "metadata": {},
   "outputs": [],
   "source": [
    "def remove_common(words,common_list):\n",
    "    \n",
    "    last_words = [word for word in str(words).split() if word not in common_list]\n",
    "    \n",
    "    last_words = \" \".join(last_words)\n",
    "    \n",
    "    return last_words"
   ]
  },
  {
   "cell_type": "code",
   "execution_count": 102,
   "id": "embedded-allen",
   "metadata": {},
   "outputs": [
    {
     "data": {
      "text/plain": [
       "'ughhh tired blahhhhhhhhh'"
      ]
     },
     "execution_count": 102,
     "metadata": {},
     "output_type": "execute_result"
    }
   ],
   "source": [
    "df[\"twitts\"][3]"
   ]
  },
  {
   "cell_type": "code",
   "execution_count": 104,
   "id": "incorporated-engineer",
   "metadata": {},
   "outputs": [
    {
     "data": {
      "text/html": [
       "<div>\n",
       "<style scoped>\n",
       "    .dataframe tbody tr th:only-of-type {\n",
       "        vertical-align: middle;\n",
       "    }\n",
       "\n",
       "    .dataframe tbody tr th {\n",
       "        vertical-align: top;\n",
       "    }\n",
       "\n",
       "    .dataframe thead th {\n",
       "        text-align: right;\n",
       "    }\n",
       "</style>\n",
       "<table border=\"1\" class=\"dataframe\">\n",
       "  <thead>\n",
       "    <tr style=\"text-align: right;\">\n",
       "      <th></th>\n",
       "      <th>0</th>\n",
       "      <th>1</th>\n",
       "      <th>2</th>\n",
       "      <th>3</th>\n",
       "      <th>4</th>\n",
       "      <th>5</th>\n",
       "      <th>6</th>\n",
       "      <th>7</th>\n",
       "      <th>8</th>\n",
       "      <th>9</th>\n",
       "      <th>10</th>\n",
       "      <th>11</th>\n",
       "      <th>12</th>\n",
       "      <th>13</th>\n",
       "      <th>14</th>\n",
       "      <th>15</th>\n",
       "      <th>16</th>\n",
       "      <th>17</th>\n",
       "      <th>18</th>\n",
       "      <th>19</th>\n",
       "    </tr>\n",
       "  </thead>\n",
       "  <tbody>\n",
       "    <tr>\n",
       "      <th>Name</th>\n",
       "      <td>day</td>\n",
       "      <td>good</td>\n",
       "      <td>work</td>\n",
       "      <td>love</td>\n",
       "      <td>like</td>\n",
       "      <td>get</td>\n",
       "      <td>go</td>\n",
       "      <td>today</td>\n",
       "      <td>not</td>\n",
       "      <td>time</td>\n",
       "      <td>lol</td>\n",
       "      <td>thank</td>\n",
       "      <td>think</td>\n",
       "      <td>miss</td>\n",
       "      <td>want</td>\n",
       "      <td>know</td>\n",
       "      <td>m</td>\n",
       "      <td>I</td>\n",
       "      <td>amp</td>\n",
       "      <td>look</td>\n",
       "    </tr>\n",
       "    <tr>\n",
       "      <th>Counts</th>\n",
       "      <td>265</td>\n",
       "      <td>233</td>\n",
       "      <td>200</td>\n",
       "      <td>200</td>\n",
       "      <td>197</td>\n",
       "      <td>196</td>\n",
       "      <td>196</td>\n",
       "      <td>183</td>\n",
       "      <td>154</td>\n",
       "      <td>153</td>\n",
       "      <td>149</td>\n",
       "      <td>144</td>\n",
       "      <td>144</td>\n",
       "      <td>143</td>\n",
       "      <td>141</td>\n",
       "      <td>140</td>\n",
       "      <td>136</td>\n",
       "      <td>135</td>\n",
       "      <td>125</td>\n",
       "      <td>118</td>\n",
       "    </tr>\n",
       "  </tbody>\n",
       "</table>\n",
       "</div>"
      ],
      "text/plain": [
       "         0     1     2     3     4    5    6      7    8     9    10     11  \\\n",
       "Name    day  good  work  love  like  get   go  today  not  time  lol  thank   \n",
       "Counts  265   233   200   200   197  196  196    183  154   153  149    144   \n",
       "\n",
       "           12    13    14    15   16   17   18    19  \n",
       "Name    think  miss  want  know    m    I  amp  look  \n",
       "Counts    144   143   141   140  136  135  125   118  "
      ]
     },
     "execution_count": 104,
     "metadata": {},
     "output_type": "execute_result"
    }
   ],
   "source": [
    "data_counts.head(20).T"
   ]
  },
  {
   "cell_type": "code",
   "execution_count": 105,
   "id": "capable-puzzle",
   "metadata": {},
   "outputs": [
    {
     "data": {
      "text/plain": [
       "0                         bored watch movie suggestion\n",
       "1                              miami wait unboard ship\n",
       "2        misskpey awwww dnt bring memoriessss thnk sad\n",
       "3                             ughhh tired blahhhhhhhhh\n",
       "4    mandagoforth bad funny zachary quinto reply sy...\n",
       "Name: twitts, dtype: object"
      ]
     },
     "execution_count": 105,
     "metadata": {},
     "output_type": "execute_result"
    }
   ],
   "source": [
    "df[\"twitts\"] = df[\"twitts\"].apply(lambda words : remove_common(words, freq20))\n",
    "\n",
    "df[\"twitts\"].head()"
   ]
  },
  {
   "cell_type": "markdown",
   "id": "detected-brazil",
   "metadata": {},
   "source": [
    "## Rare Words Removel"
   ]
  },
  {
   "cell_type": "code",
   "execution_count": 106,
   "id": "developing-haiti",
   "metadata": {},
   "outputs": [
    {
     "data": {
      "text/plain": [
       "['108',\n",
       " 'ogz',\n",
       " 'hotquot',\n",
       " 'delias',\n",
       " 'dow',\n",
       " 'itiswhatitisent',\n",
       " 'cornflake',\n",
       " 'cracker',\n",
       " 'skiing',\n",
       " 'katbow',\n",
       " 'chillingggg',\n",
       " 'thati',\n",
       " 'doppe',\n",
       " 'sweepstake',\n",
       " 'gi',\n",
       " 'fridge',\n",
       " 'nomysteryleft',\n",
       " 'onelet',\n",
       " 'beschbach',\n",
       " 'shropshirepixie',\n",
       " 'dancer',\n",
       " 'donofrio',\n",
       " 'beddie',\n",
       " 'leed',\n",
       " 'madam',\n",
       " 'markhricher',\n",
       " 'live_for_film',\n",
       " 'motivate',\n",
       " 'intl',\n",
       " 'nnoooo',\n",
       " 'littlefletcher',\n",
       " 'ligament',\n",
       " 'napping',\n",
       " 'ohwow',\n",
       " 'overness',\n",
       " 'blink',\n",
       " 'nonnie21751',\n",
       " 'voucher',\n",
       " 'nancy',\n",
       " 'rjtoronto',\n",
       " '6day',\n",
       " 'todaystorm',\n",
       " 'elbow',\n",
       " 'sickshe',\n",
       " 'obdh',\n",
       " 'quothot',\n",
       " 'gill',\n",
       " 'bluvox',\n",
       " 'popy89',\n",
       " 'officiaalnaach',\n",
       " 'briannaglenn',\n",
       " 'gow2',\n",
       " 'physic',\n",
       " 'arse',\n",
       " 'convenient',\n",
       " 'jodywatley',\n",
       " 'restructure',\n",
       " 'texasheartland',\n",
       " 'nay',\n",
       " 'luvie',\n",
       " 'mosquito',\n",
       " 'boooooooooo',\n",
       " 'travelling_wolf',\n",
       " 'reservation',\n",
       " 'tydi',\n",
       " 'renmiu',\n",
       " 'wknd',\n",
       " 'ampjessica',\n",
       " 'kewiki',\n",
       " 'orderly',\n",
       " 'fart',\n",
       " 'zoe',\n",
       " 'parentss',\n",
       " 'hoodenershorse',\n",
       " 'therealtommyg',\n",
       " 'trace',\n",
       " 'shootno',\n",
       " 'quotyou',\n",
       " 'foto',\n",
       " 'grain',\n",
       " 'atlantic',\n",
       " '5sqm',\n",
       " 'siren',\n",
       " '2morohope',\n",
       " 'emerald20',\n",
       " 'superchick',\n",
       " 'howard',\n",
       " 'tweetakeet',\n",
       " 'artemesiarae',\n",
       " 'legendary',\n",
       " 'mixtape',\n",
       " 'buildinsee',\n",
       " 'ninalorraine',\n",
       " 'joshuaradin',\n",
       " 'hound',\n",
       " 'charade',\n",
       " 'ffffrrrriiiiiddddaaaaayyyy',\n",
       " 'officer',\n",
       " 'touching',\n",
       " 'satisfied',\n",
       " 'sleepymom',\n",
       " 'outa',\n",
       " 'brisbane',\n",
       " 'rubin',\n",
       " 'jumonsmape',\n",
       " 'eldon',\n",
       " 'maloosii',\n",
       " 'wdwhappy',\n",
       " 'rannau',\n",
       " 'lululemon',\n",
       " 'delicioso',\n",
       " 'jamar',\n",
       " 'crazyhey',\n",
       " 'telephone',\n",
       " 'photoshoppe',\n",
       " 'batman_sound',\n",
       " 'lovelyand',\n",
       " 'bof',\n",
       " 'govts',\n",
       " 'bleh',\n",
       " 'linux',\n",
       " 'trinawright',\n",
       " 'nicko236',\n",
       " 'youre',\n",
       " 'nissieeeehave',\n",
       " 'guice',\n",
       " 'dorkus',\n",
       " 'gazillion',\n",
       " 'maraaa',\n",
       " 'stephynopant',\n",
       " 'jokaan',\n",
       " 'danworth',\n",
       " 'tez',\n",
       " 'lax',\n",
       " 'photographer',\n",
       " 'spook',\n",
       " 'mary',\n",
       " 'leylacarter',\n",
       " 'sairuhjayne',\n",
       " 'harp_girl',\n",
       " 'joondalup',\n",
       " 'beatbutcha',\n",
       " 'minimal',\n",
       " 'gonetotimbuktu',\n",
       " 'wayshe',\n",
       " 'sophie',\n",
       " 'tomrrowww',\n",
       " 'mesmerized',\n",
       " 'brielle',\n",
       " 'pillow',\n",
       " 'ubat',\n",
       " 'junoir',\n",
       " 'shucksyou',\n",
       " 'ninjamal',\n",
       " 'philippines',\n",
       " 'epcot',\n",
       " 'lazo',\n",
       " 'bluddy',\n",
       " 'eyelid',\n",
       " 'quotphonographyquot',\n",
       " 'induction',\n",
       " 'fookkkk',\n",
       " 'coreymekell',\n",
       " 'taven',\n",
       " 'madtv',\n",
       " 'walkin',\n",
       " 'realmattlucas',\n",
       " 'alley',\n",
       " 'joelfreak',\n",
       " 'undgerground',\n",
       " 'violate',\n",
       " 'pabsttheater',\n",
       " 'ideawhat',\n",
       " 'princeton',\n",
       " 'christina1080',\n",
       " 'wrist',\n",
       " 'wasp',\n",
       " 'letsgopat',\n",
       " 'trailerdye',\n",
       " 'jonesbaby',\n",
       " 'naam',\n",
       " 'mumwot',\n",
       " 'kaya',\n",
       " 'universe',\n",
       " 'laying',\n",
       " 'liberty',\n",
       " 'making',\n",
       " 'omelet',\n",
       " 'jolly',\n",
       " 'pungo',\n",
       " 'wout',\n",
       " 'vou',\n",
       " 'blahhh',\n",
       " 'paniya',\n",
       " 'jesusandmary',\n",
       " 'tutus',\n",
       " 'inestle',\n",
       " 'capris',\n",
       " 'virusquot',\n",
       " 'haemoglobin',\n",
       " 'tremendously',\n",
       " 'puddle',\n",
       " 'twlog',\n",
       " 'barfday',\n",
       " 'frc',\n",
       " 'xgillsx',\n",
       " 'unicornkid',\n",
       " 'bern_morley',\n",
       " 'luv_beer',\n",
       " 'silverline',\n",
       " 'lock',\n",
       " 'memy',\n",
       " 'giggle',\n",
       " 'l2b',\n",
       " 'ahahha',\n",
       " 'gville',\n",
       " 'nowearly',\n",
       " 'ladygaga',\n",
       " 'thissapointe',\n",
       " 'wearin',\n",
       " 'batton',\n",
       " 'program',\n",
       " 'geos',\n",
       " 'toffee',\n",
       " 'rachelguglielmo',\n",
       " 'damarques',\n",
       " 'shou',\n",
       " 'politic',\n",
       " 'taco_bell',\n",
       " 'hint',\n",
       " 'barbeque',\n",
       " 'repair',\n",
       " 'dwight',\n",
       " 'buzz',\n",
       " 'prototype',\n",
       " 'earlymy',\n",
       " 'tpleeza',\n",
       " 'danielr23',\n",
       " 'blond',\n",
       " 'agelol',\n",
       " 'git',\n",
       " 'provera',\n",
       " 'brianwelburn',\n",
       " 'stewartkris',\n",
       " 'maxenemagalona',\n",
       " 'postpone',\n",
       " 'laidback',\n",
       " 'anythign',\n",
       " 'ramadan',\n",
       " 'judy',\n",
       " 'hereya',\n",
       " 'sighhhhhh',\n",
       " 'litlel',\n",
       " 'instruction',\n",
       " 'unite',\n",
       " 'evlive',\n",
       " '4days',\n",
       " 'productivity',\n",
       " 'inlovewitharmy',\n",
       " 'bagpuss',\n",
       " 'theater',\n",
       " 'plastic',\n",
       " 'mewell',\n",
       " 'englang',\n",
       " 'gona',\n",
       " '45',\n",
       " 'url',\n",
       " 'alaery',\n",
       " 'embellish',\n",
       " 'thiscourage',\n",
       " 'propertiii',\n",
       " 'literature',\n",
       " 'bonnieswansong',\n",
       " 'conversation',\n",
       " '129',\n",
       " 'mjamme',\n",
       " 'samuraiox',\n",
       " 'gile',\n",
       " 'txtz',\n",
       " 'hk',\n",
       " 'astro_mike',\n",
       " 'blore',\n",
       " 'hatred',\n",
       " 'polar',\n",
       " 'deighe_d',\n",
       " 'saberi',\n",
       " 'nemore',\n",
       " 'mcgiff',\n",
       " 'steveheath',\n",
       " 'nuclear',\n",
       " 'adrianne',\n",
       " 'tiran',\n",
       " 'exercise',\n",
       " 'char',\n",
       " 'xstex',\n",
       " 'harlem',\n",
       " 'soooooon',\n",
       " 'indian',\n",
       " 'lefte',\n",
       " 'muppet',\n",
       " 'beware',\n",
       " 'isolove',\n",
       " 'brian',\n",
       " 'market',\n",
       " 'widget',\n",
       " 'sb',\n",
       " 'moro',\n",
       " 'woahitsandrew',\n",
       " 'debti',\n",
       " 'toriilovesmcfly',\n",
       " 'todayx',\n",
       " 'wolverine',\n",
       " 'adianti',\n",
       " 'nickeeeh',\n",
       " 'ship',\n",
       " 'siahoney',\n",
       " 'pronto',\n",
       " 'rustyrocket',\n",
       " 'tssexychanel',\n",
       " 'whale',\n",
       " 'macbeth',\n",
       " 'vene2ia',\n",
       " 'worldofhiglet',\n",
       " 'shining',\n",
       " 'waz',\n",
       " 'ahahah',\n",
       " 'wacth',\n",
       " 'dreaming',\n",
       " 'ortho',\n",
       " 'dforum',\n",
       " 'athens',\n",
       " 'quotaway',\n",
       " 'nutty',\n",
       " 'mustloverazzle',\n",
       " 'ummmmmi',\n",
       " 'yuhngfresh',\n",
       " 'thatnk',\n",
       " 'goody',\n",
       " 'twittwe',\n",
       " 'i_am_heather',\n",
       " 'angiasaa',\n",
       " 'obox',\n",
       " 'gbu',\n",
       " 'virtual_yoga',\n",
       " 'gente',\n",
       " 'lela_chelle',\n",
       " 'plushapo',\n",
       " 'fsphotography',\n",
       " 'sunrise',\n",
       " 'dr',\n",
       " 'sookiebontemp',\n",
       " 'hooray',\n",
       " 'applebee',\n",
       " 'bbl',\n",
       " 'dutchrudder',\n",
       " 'yaletown',\n",
       " 'paulquot',\n",
       " 'loui',\n",
       " 'shoppinnn',\n",
       " 'uggh',\n",
       " 'alaskan',\n",
       " 'swiss',\n",
       " 'complex',\n",
       " 'paain',\n",
       " 'gmat',\n",
       " 'watergate',\n",
       " 'shite',\n",
       " 'powerwomenmag',\n",
       " 'goooood',\n",
       " 'binnyva',\n",
       " 'colour',\n",
       " 'username',\n",
       " 'almightyduff',\n",
       " 'watie',\n",
       " 'lycos',\n",
       " 'reverse',\n",
       " 'gaddamit',\n",
       " 'bluejays',\n",
       " 'darcys',\n",
       " 'voicemailif',\n",
       " 'chaster',\n",
       " 'joeymcintyre',\n",
       " 'hipflor',\n",
       " 'oy',\n",
       " 'andrewbuxton',\n",
       " 'takovej',\n",
       " 'ridiculously',\n",
       " 'tweeginity',\n",
       " 'thang',\n",
       " 'overur',\n",
       " 'eror',\n",
       " 'inflict',\n",
       " 'thisisryanross',\n",
       " 'wonderland',\n",
       " 'wholesale',\n",
       " 'thecrackedactor',\n",
       " 'millyvampie',\n",
       " 'lorle',\n",
       " 'fortunately',\n",
       " 'tink',\n",
       " 'patsytraver',\n",
       " 'daveyaden',\n",
       " 'msflipper',\n",
       " 'markhallcc',\n",
       " 't_1001',\n",
       " 'vinnie_killgasm',\n",
       " 'hnry342',\n",
       " 'catchthesunx',\n",
       " 'thisbut',\n",
       " 'crazzzzzy',\n",
       " 'karimartin',\n",
       " 'flurry',\n",
       " 'dielet',\n",
       " 'aree',\n",
       " 'quotdress',\n",
       " 'clearly',\n",
       " 'fampn',\n",
       " 'sucky',\n",
       " 'lim',\n",
       " 'bluff',\n",
       " 'fischerspooner',\n",
       " 'marley',\n",
       " 'kieron',\n",
       " '58th',\n",
       " 'pancake',\n",
       " 'lewisshepherd',\n",
       " 'tdrrace',\n",
       " 'barbichick',\n",
       " 'popiah',\n",
       " 'zibbet',\n",
       " 'killasluddie',\n",
       " 'engbear',\n",
       " 'cornetto',\n",
       " 'fridays',\n",
       " 'melody',\n",
       " 'rainfall',\n",
       " 'oflame',\n",
       " 'karolinagirlx',\n",
       " 'presale',\n",
       " '02h00',\n",
       " 'noooooooooo',\n",
       " 'hourrafoot',\n",
       " 'dummy',\n",
       " 'nikki_morris',\n",
       " 'danoliver',\n",
       " 'aimee',\n",
       " 'lean',\n",
       " 'hantu',\n",
       " 'wango',\n",
       " 'backery',\n",
       " 'giajordan',\n",
       " 'nj',\n",
       " 'touche',\n",
       " 'tamline',\n",
       " 'butchwalker',\n",
       " 'turtle',\n",
       " 'daw',\n",
       " 'oledscreen',\n",
       " 'mosaic',\n",
       " 'brybrywithay',\n",
       " 'substitute',\n",
       " 'tag',\n",
       " 'arghhhhhhhhhhhhh',\n",
       " 'callus',\n",
       " 'confession',\n",
       " 'spaniel',\n",
       " 'ridicule',\n",
       " 'joshi',\n",
       " '4ish',\n",
       " 'luke',\n",
       " 'naughty',\n",
       " 'ratatouille',\n",
       " 'mz_kiss',\n",
       " 'redbull',\n",
       " 'rainanywaygreat',\n",
       " 'mellowslide',\n",
       " 'samitbasu',\n",
       " 'epilate',\n",
       " 'imke',\n",
       " 'contemplate',\n",
       " 'cheapo',\n",
       " 'savagely',\n",
       " 'amine',\n",
       " 'robbywat',\n",
       " 'cruise',\n",
       " 'taghm',\n",
       " 'tracy_nyc',\n",
       " 'variety',\n",
       " 'childhood',\n",
       " 'collection',\n",
       " 'philblume',\n",
       " 'bean',\n",
       " 'paranoid',\n",
       " '3bet',\n",
       " 'naomidarle',\n",
       " 'not_mikecoleman',\n",
       " 'presh',\n",
       " 'kurty',\n",
       " 'pastapadre',\n",
       " 'tha',\n",
       " 'todayif',\n",
       " 'chuckdmcluvin',\n",
       " 'roommate',\n",
       " 'girlosophy',\n",
       " 'nycphotog',\n",
       " 'deadshit',\n",
       " 'boiling',\n",
       " 'apna',\n",
       " 'carridine',\n",
       " 'thompson',\n",
       " 'dunnybrasco',\n",
       " 'curtiswalker',\n",
       " 'lo0o0o0o0ve',\n",
       " 'interestinglike',\n",
       " 'importantshock',\n",
       " 'omarepp',\n",
       " 'sorta',\n",
       " 'beercan',\n",
       " 'shokoluv',\n",
       " 'stephencraig',\n",
       " 'drinkingbut',\n",
       " 'floorboard',\n",
       " 'audreywallis',\n",
       " 'babygirlsomajor',\n",
       " 'badbut',\n",
       " 'floss',\n",
       " 'wwwiamsoannoyedcom',\n",
       " 'bradmcfadden',\n",
       " 'heartache',\n",
       " 'goooo',\n",
       " 'arrgh',\n",
       " '725',\n",
       " 'checkout',\n",
       " 'twitterfox',\n",
       " 'michaelsheen',\n",
       " 'ladiesrun',\n",
       " 'youtbe',\n",
       " 'nightmarei',\n",
       " 'nala',\n",
       " 'scribblepotemus',\n",
       " 'okso',\n",
       " 'internship',\n",
       " 'slayer',\n",
       " 'martijn',\n",
       " 'alesha',\n",
       " 'photography',\n",
       " 'marchapril',\n",
       " 'richiesosa',\n",
       " 'kathybbz',\n",
       " 'usmcpablo',\n",
       " 'sowrongitsjason',\n",
       " 'backwards',\n",
       " 'kungfu',\n",
       " 'marred',\n",
       " 'coconut',\n",
       " 'esta',\n",
       " 'attempt',\n",
       " 'missssss',\n",
       " 'fad',\n",
       " 'unarmd',\n",
       " 'addition',\n",
       " 'castle',\n",
       " 'chavie',\n",
       " 'saftey',\n",
       " 'bun',\n",
       " 'constant',\n",
       " 'diba',\n",
       " 'mitchelmusso',\n",
       " 'flickr',\n",
       " 'eelmise',\n",
       " 'madboarder',\n",
       " 'surprisingly',\n",
       " 'refuse',\n",
       " 'aids',\n",
       " 'quotraelynnquot',\n",
       " 'wm2016c',\n",
       " 'sazmow',\n",
       " 'treatment',\n",
       " 'lost',\n",
       " 'mintwich',\n",
       " 'wala',\n",
       " 'allergic',\n",
       " 'infamous_ladiit',\n",
       " 'wholleee',\n",
       " 'mattjorgdbb',\n",
       " 'bugstime',\n",
       " 'lindsayslifee',\n",
       " 'myspacecomzarinha',\n",
       " 'angelsanddemon',\n",
       " 'relevant',\n",
       " 'lamb',\n",
       " 'roach',\n",
       " 'badsound',\n",
       " 'dorito',\n",
       " 'terror',\n",
       " 'carley',\n",
       " 'uber',\n",
       " 'accidently',\n",
       " 'agreekid',\n",
       " 'workday',\n",
       " 'eqauls',\n",
       " 'sc9',\n",
       " 'pregnant',\n",
       " 'emmolei',\n",
       " 'iim',\n",
       " 'glidden',\n",
       " 'marcusjrobert',\n",
       " 'kspidel',\n",
       " 'solid',\n",
       " 'specify',\n",
       " 'thelastdoctor',\n",
       " 'aahhh',\n",
       " 'lighting',\n",
       " '71a',\n",
       " 'sj',\n",
       " 'pe',\n",
       " 'timtech',\n",
       " 'faint',\n",
       " 'alicia_vintage',\n",
       " 'stevebunyan',\n",
       " 'obama',\n",
       " 'nick_carter',\n",
       " 'latvian',\n",
       " 'nugget',\n",
       " 'mistermagnus',\n",
       " 'bisforbecca',\n",
       " 'wimby',\n",
       " 'blowssss',\n",
       " 'squidbillie',\n",
       " 'coincidence',\n",
       " 'quotgreenquot',\n",
       " 'weekday',\n",
       " 'makeover',\n",
       " 'clarer',\n",
       " 'nerd',\n",
       " 'manayunk',\n",
       " 'slice',\n",
       " 'pleased',\n",
       " 'bloody',\n",
       " 'wonderingif',\n",
       " 'omgosh',\n",
       " 'thatif',\n",
       " 'optiv_flatworm',\n",
       " 'moonbounce',\n",
       " 'hangout',\n",
       " 'emmagx',\n",
       " 'teany',\n",
       " 'yegua',\n",
       " 'spec',\n",
       " 'quotrealquot',\n",
       " 'canuck',\n",
       " 'piglet',\n",
       " 'purchase',\n",
       " 'copying',\n",
       " 'nomy',\n",
       " 'unhappy',\n",
       " 'payday',\n",
       " 'beatiful',\n",
       " 'eu',\n",
       " 'dentsding',\n",
       " 'wolwol',\n",
       " 'helz53',\n",
       " 'idol',\n",
       " 'annychih',\n",
       " 'hungovertiredbad',\n",
       " 'killin',\n",
       " 'regina',\n",
       " 'meim',\n",
       " 'articlepodcast',\n",
       " 'bird',\n",
       " 'fredrickson',\n",
       " 'liexlip',\n",
       " '228',\n",
       " 'blaaah',\n",
       " 'cashdolla',\n",
       " 'mclovin',\n",
       " 'rotschild',\n",
       " 'newsboy',\n",
       " 'jchamane',\n",
       " 'zombie',\n",
       " 'cushionnnnn',\n",
       " 'setting',\n",
       " 'lets',\n",
       " 'heyitscheryl',\n",
       " 'missroboto',\n",
       " 'mintueoh',\n",
       " 'staark',\n",
       " 'dannggg',\n",
       " 'theft',\n",
       " 'shuk',\n",
       " 'missheathyrm',\n",
       " 'funnnn',\n",
       " 'kobe',\n",
       " 'guide',\n",
       " 'malvi87',\n",
       " 'bowl_the_bunny',\n",
       " 'patrick4men2s',\n",
       " 'sanjayprasad',\n",
       " 'phat',\n",
       " 'mam',\n",
       " 'heathfrie',\n",
       " 'effectively',\n",
       " 'lovelylaura1982',\n",
       " 'pointless',\n",
       " 'mandahead',\n",
       " 'thejetset',\n",
       " '84falreadyin',\n",
       " 'zetazen',\n",
       " 'trainer',\n",
       " 'warisfucke',\n",
       " 'myliferecord',\n",
       " 'meaan',\n",
       " 'locate',\n",
       " 'abc',\n",
       " '100th',\n",
       " 'hii',\n",
       " 'indepth',\n",
       " 'lovexmonster',\n",
       " 'onelewis',\n",
       " 'pehlaaa12dl',\n",
       " 'mattiej',\n",
       " 'lol1800',\n",
       " 'hbo',\n",
       " '2morrow',\n",
       " 'pot',\n",
       " 'donkey',\n",
       " 'sporle',\n",
       " 'futuredirecte',\n",
       " 'kai',\n",
       " 'ilt3federer',\n",
       " 'krazy_freak495',\n",
       " 'flashlight',\n",
       " 'swac',\n",
       " 'slave',\n",
       " 'nicholas1991',\n",
       " 'chi',\n",
       " 'doo',\n",
       " 'danialberti',\n",
       " 'aaaaaaoaaaa12aaaa34aaaaaa34',\n",
       " 'lmaoo',\n",
       " 'bukit',\n",
       " 'value',\n",
       " 'garry1bowie',\n",
       " 'nopeee',\n",
       " 'goddesse',\n",
       " 'bwahahahahaha',\n",
       " 'goakarnataka',\n",
       " 'johncmayer',\n",
       " 'steady',\n",
       " 'tyyy',\n",
       " 'quotupquot',\n",
       " 'gmail',\n",
       " 'andreawarner',\n",
       " 'gnome',\n",
       " 'oi',\n",
       " 'likely',\n",
       " 'golfing',\n",
       " 'vshchen',\n",
       " 'quottrampsquot',\n",
       " 'kudo',\n",
       " 'watchno',\n",
       " 'herring',\n",
       " 'coco',\n",
       " 'gandalfar',\n",
       " 'indigestion',\n",
       " 'leavin',\n",
       " 'johnlusher',\n",
       " 'merge',\n",
       " 'mandyrae',\n",
       " 'shanegibson',\n",
       " 'lauren',\n",
       " 'missed',\n",
       " 'chef',\n",
       " 'faceless',\n",
       " 'suppah',\n",
       " 'creamm',\n",
       " 'muuuuuch',\n",
       " 'transbay',\n",
       " 'wee',\n",
       " 'rhysy',\n",
       " 'kdubbb',\n",
       " 'aaaaaah',\n",
       " 'big_chamb',\n",
       " 'doggie',\n",
       " 'quotmermaid',\n",
       " 'mussomitchel',\n",
       " 'tiamowry',\n",
       " 'ladiejay',\n",
       " 'wooow',\n",
       " '4real',\n",
       " 'sleepyhead',\n",
       " 'mash',\n",
       " 'detoo',\n",
       " 'bergen',\n",
       " 'carlosedp',\n",
       " '23',\n",
       " 'inform',\n",
       " 'utah',\n",
       " 'lmaooooo',\n",
       " 'mellow',\n",
       " 'thisneey',\n",
       " 'replyyy',\n",
       " 'aaaaaaaaaaaa',\n",
       " 'quotjizz',\n",
       " 'canaria',\n",
       " 'tregst',\n",
       " 'daisy',\n",
       " 'bloggerhappy',\n",
       " 'meekymadness',\n",
       " 'matts',\n",
       " 'okwell',\n",
       " 'mandix',\n",
       " 'norwegian',\n",
       " 'naww',\n",
       " 'lelexie',\n",
       " 'falt',\n",
       " '700',\n",
       " 'halfdate',\n",
       " 'woe',\n",
       " 'balai',\n",
       " 'cmon',\n",
       " 'tlc',\n",
       " 'bestiess',\n",
       " 'simplymarben',\n",
       " 'ana_xo',\n",
       " 'donesunny',\n",
       " 'dani',\n",
       " 'collierclan',\n",
       " 'canon',\n",
       " 'popcornelvis',\n",
       " 'stoberitrixie',\n",
       " 'maintain',\n",
       " 'shitload',\n",
       " 'csumb',\n",
       " 'edynn',\n",
       " 'earn',\n",
       " 'kunaldua',\n",
       " 'careful',\n",
       " 'lizuk',\n",
       " 'watergun',\n",
       " 'kennesaw',\n",
       " 'tiredddd',\n",
       " 'stilllllll',\n",
       " 'longwell',\n",
       " 'rise',\n",
       " 'danke',\n",
       " 'flea',\n",
       " 'mayoryoung',\n",
       " 'bunker',\n",
       " 'littlest',\n",
       " 'thiscovery',\n",
       " 'pplhow',\n",
       " 'relly',\n",
       " 'nazf',\n",
       " 'eeeehm',\n",
       " 'windowless',\n",
       " 'zealand',\n",
       " 'amandalester',\n",
       " 'dgt',\n",
       " 'whee',\n",
       " 'benshephard',\n",
       " 'seuj',\n",
       " 'drummin',\n",
       " 'ala',\n",
       " 'amber',\n",
       " 'bmore',\n",
       " 'withheald',\n",
       " 'agm',\n",
       " 'jumstart',\n",
       " 'dote',\n",
       " 'bintan',\n",
       " 'matching',\n",
       " 'champ',\n",
       " 'inisha',\n",
       " 'hahahahaha',\n",
       " 'funnn',\n",
       " 'collingsa',\n",
       " 'wil',\n",
       " 'grenn',\n",
       " 'frustration',\n",
       " 'tequilasam',\n",
       " 'nashville',\n",
       " 'timthisaster',\n",
       " '42st',\n",
       " 'someones',\n",
       " 'elemis',\n",
       " '1337357',\n",
       " 'waveapi',\n",
       " 'fierce',\n",
       " 'oliverur',\n",
       " 'procrastination',\n",
       " 'forum',\n",
       " 'gelly_belly',\n",
       " 'happyhousewife',\n",
       " 'prompt',\n",
       " 'beerbergman',\n",
       " 'rakkas',\n",
       " 'prior',\n",
       " 'tinternet',\n",
       " 'waiting',\n",
       " 'judah',\n",
       " 'denver',\n",
       " 'olc',\n",
       " 'lvat',\n",
       " 'quotfearless',\n",
       " 'i140',\n",
       " 'gaattingen',\n",
       " 'premise',\n",
       " 'ano',\n",
       " 'codequot',\n",
       " 'intellicig',\n",
       " 'assingnment',\n",
       " 'iambrande',\n",
       " 'macq',\n",
       " 'laughter',\n",
       " 'emiliano',\n",
       " 'okiess',\n",
       " 'angelas',\n",
       " 'saravananr',\n",
       " 'mickeymonkeyy',\n",
       " 'destresser',\n",
       " 'backquot',\n",
       " 'thesavvyseller',\n",
       " 'horse',\n",
       " 'dominate',\n",
       " 'mathisonxgeorgie',\n",
       " 'piper',\n",
       " 'bestie',\n",
       " 'ryan_drumwright',\n",
       " 'burbank',\n",
       " 'faustaao',\n",
       " 'jason_mcintyre',\n",
       " 'geological',\n",
       " 'amytweet',\n",
       " 'correct',\n",
       " 'nikita',\n",
       " 'poison',\n",
       " 'zomg',\n",
       " 'canal',\n",
       " 'ladyhanhan',\n",
       " 'iamfacemelter',\n",
       " 'gorgy',\n",
       " 'coool',\n",
       " 'puppynix',\n",
       " 'sexxxyjae',\n",
       " 'longggg',\n",
       " 'houseiaaa12',\n",
       " 'brittianyerin',\n",
       " 'yknw',\n",
       " 'quotrecommendedquot',\n",
       " 'dias',\n",
       " 'gethyp3',\n",
       " 'cashola',\n",
       " 'hyper',\n",
       " 'minutesand',\n",
       " 'jerrybarnett',\n",
       " 'tailback',\n",
       " 'followersnot',\n",
       " 'timotheosok',\n",
       " 'artbeatok',\n",
       " 'competition',\n",
       " 'shih',\n",
       " 'region',\n",
       " 'pdt',\n",
       " 'jlsofficial',\n",
       " 'classmate',\n",
       " 'duvie',\n",
       " 'housemate',\n",
       " 'alive',\n",
       " 'quotraine',\n",
       " 'loveee',\n",
       " 'wut',\n",
       " 'peppercorn',\n",
       " 'cleo',\n",
       " 'nos',\n",
       " 'doinggod',\n",
       " 'ut',\n",
       " 'aaaaaa12aaaayou',\n",
       " 'kessiewashere',\n",
       " 'himwere',\n",
       " 'fabio',\n",
       " 'ozco',\n",
       " 'daateste',\n",
       " 'ipoid',\n",
       " 'jillianvalentin',\n",
       " 'juderivera',\n",
       " 'joelmadden',\n",
       " 'coolstkidevr',\n",
       " 'withdrawl',\n",
       " 'cupcakecanadian',\n",
       " 'modelsupplie',\n",
       " 'longsine',\n",
       " 'drivin',\n",
       " 'hilarynewscom',\n",
       " 'chicas',\n",
       " 'spaciestaycie',\n",
       " 'ccomin',\n",
       " 'crewe',\n",
       " 'kyle',\n",
       " 'madthisondesign',\n",
       " ...]"
      ]
     },
     "execution_count": 106,
     "metadata": {},
     "output_type": "execute_result"
    }
   ],
   "source": [
    "rare_words = data_counts[data_counts[\"Counts\"] == 1][\"Name\"].tolist()\n",
    "rare_words"
   ]
  },
  {
   "cell_type": "code",
   "execution_count": 107,
   "id": "third-secretary",
   "metadata": {},
   "outputs": [],
   "source": [
    "def remove_rarewords(words,rare_list):\n",
    "    \n",
    "    last_words = [word for word in str(words).split() if word not in rare_list]\n",
    "    \n",
    "    last_words = \" \".join(last_words)\n",
    "    \n",
    "    return last_words"
   ]
  },
  {
   "cell_type": "code",
   "execution_count": 108,
   "id": "genuine-concept",
   "metadata": {},
   "outputs": [
    {
     "data": {
      "text/plain": [
       "0    bored watch movie suggestion\n",
       "1                      miami wait\n",
       "2             awwww dnt bring sad\n",
       "3                     ughhh tired\n",
       "4                 bad funny reply\n",
       "Name: twitts, dtype: object"
      ]
     },
     "execution_count": 108,
     "metadata": {},
     "output_type": "execute_result"
    }
   ],
   "source": [
    "df[\"twitts\"] = df[\"twitts\"].apply(lambda words : remove_rarewords(words, rare_words))\n",
    "\n",
    "df[\"twitts\"].head()"
   ]
  },
  {
   "cell_type": "markdown",
   "id": "rotary-infection",
   "metadata": {},
   "source": [
    "## Word Cloud Visualization"
   ]
  },
  {
   "cell_type": "code",
   "execution_count": 109,
   "id": "instrumental-trademark",
   "metadata": {},
   "outputs": [],
   "source": [
    "from wordcloud import WordCloud"
   ]
  },
  {
   "cell_type": "code",
   "execution_count": 110,
   "id": "executed-yesterday",
   "metadata": {},
   "outputs": [],
   "source": [
    "text = \" \".join(df[\"twitts\"])"
   ]
  },
  {
   "cell_type": "code",
   "execution_count": 111,
   "id": "painted-third",
   "metadata": {},
   "outputs": [
    {
     "data": {
      "image/png": "[encoded data removed]",
      "text/plain": [
       "<Figure size 1080x432 with 1 Axes>"
      ]
     },
     "metadata": {
      "needs_background": "light"
     },
     "output_type": "display_data"
    }
   ],
   "source": [
    "plt.figure(figsize = (15,6))\n",
    "\n",
    "wc = WordCloud(width=800,\n",
    "               height=400,).generate(text)\n",
    "\n",
    "plt.imshow(wc,interpolation=\"bilinear\")\n",
    "plt.axis(\"off\")\n",
    "plt.show()"
   ]
  },
  {
   "cell_type": "markdown",
   "id": "failing-playlist",
   "metadata": {},
   "source": [
    "## Spelling Correction"
   ]
  },
  {
   "cell_type": "code",
   "execution_count": 112,
   "id": "ready-printer",
   "metadata": {},
   "outputs": [],
   "source": [
    "from textblob import TextBlob"
   ]
  },
  {
   "cell_type": "code",
   "execution_count": 113,
   "id": "trained-journal",
   "metadata": {},
   "outputs": [
    {
     "data": {
      "text/plain": [
       "'thanks for watching it'"
      ]
     },
     "execution_count": 113,
     "metadata": {},
     "output_type": "execute_result"
    }
   ],
   "source": [
    "x = \"thankkks forrr watchhiing it\"\n",
    "\n",
    "\" \".join(TextBlob(x).correct().split())"
   ]
  },
  {
   "cell_type": "markdown",
   "id": "common-future",
   "metadata": {},
   "source": [
    "## Tokenization With TextBlob"
   ]
  },
  {
   "cell_type": "code",
   "execution_count": 114,
   "id": "becoming-staff",
   "metadata": {},
   "outputs": [
    {
     "data": {
      "text/plain": [
       "WordList(['thanks', 'watching', 'this', 'video', 'please', 'like', 'it'])"
      ]
     },
     "execution_count": 114,
     "metadata": {},
     "output_type": "execute_result"
    }
   ],
   "source": [
    "x = \"thanks#watching this video. please like it\"\n",
    "TextBlob(x).words"
   ]
  },
  {
   "cell_type": "code",
   "execution_count": 115,
   "id": "bearing-moscow",
   "metadata": {},
   "outputs": [
    {
     "name": "stdout",
     "output_type": "stream",
     "text": [
      "Text : thanks#watching\n",
      "Text : this\n",
      "Text : video\n",
      "Text : .\n",
      "Text : please\n",
      "Text : like\n",
      "Text : it\n"
     ]
    }
   ],
   "source": [
    "nlp = spacy.load(\"en_core_web_sm\")\n",
    "\n",
    "for token in nlp(x):\n",
    "    print(f\"Text : {token.text}\")"
   ]
  },
  {
   "cell_type": "markdown",
   "id": "biblical-halloween",
   "metadata": {},
   "source": [
    "## Detecting Nouns"
   ]
  },
  {
   "cell_type": "code",
   "execution_count": 116,
   "id": "fixed-grain",
   "metadata": {},
   "outputs": [],
   "source": [
    "x = \"Breaking News : Donal Trump, The president of the USA is looking to sign a deal to mine the moon\""
   ]
  },
  {
   "cell_type": "code",
   "execution_count": 117,
   "id": "smaller-spencer",
   "metadata": {},
   "outputs": [
    {
     "name": "stdout",
     "output_type": "stream",
     "text": [
      "Noun : Donal Trump\n",
      "Noun : The president\n",
      "Noun : the USA\n",
      "Noun : a deal\n",
      "Noun : the moon\n"
     ]
    }
   ],
   "source": [
    "for noun in nlp(x).noun_chunks:\n",
    "    \n",
    "    print(f\"Noun : {noun}\")"
   ]
  },
  {
   "cell_type": "markdown",
   "id": "departmental-alexandria",
   "metadata": {},
   "source": [
    "## Language Translation and Detection"
   ]
  },
  {
   "cell_type": "code",
   "execution_count": 118,
   "id": "norman-northwest",
   "metadata": {},
   "outputs": [],
   "source": [
    "from textblob import TextBlob\n",
    "\n",
    "tb = TextBlob(x)\n",
    "\n",
    "#tb.detect_language()\n",
    "\n",
    "#tb.translate(to = \"fr\")"
   ]
  },
  {
   "cell_type": "markdown",
   "id": "recent-elements",
   "metadata": {},
   "source": [
    "## Use TextBlob's InBuilt Sentiment Classifier"
   ]
  },
  {
   "cell_type": "code",
   "execution_count": 119,
   "id": "vital-spouse",
   "metadata": {},
   "outputs": [],
   "source": [
    "x = \"we all stands together. we are gonna win this fight\""
   ]
  },
  {
   "cell_type": "code",
   "execution_count": 122,
   "id": "amended-society",
   "metadata": {},
   "outputs": [],
   "source": [
    "from textblob.sentiments import NaiveBayesAnalyzer,BaseSentimentAnalyzer\n"
   ]
  },
  {
   "cell_type": "code",
   "execution_count": 123,
   "id": "offshore-leeds",
   "metadata": {},
   "outputs": [
    {
     "data": {
      "text/plain": [
       "Sentiment(classification='pos', p_pos=0.9180581552428241, p_neg=0.0819418447571765)"
      ]
     },
     "execution_count": 123,
     "metadata": {},
     "output_type": "execute_result"
    }
   ],
   "source": [
    "tb = TextBlob(x, analyzer=NaiveBayesAnalyzer())\n",
    "tb.sentiment"
   ]
  },
  {
   "cell_type": "code",
   "execution_count": null,
   "id": "developed-florida",
   "metadata": {},
   "outputs": [],
   "source": []
  }
 ],
 "metadata": {
  "kernelspec": {
   "display_name": "Python 3",
   "language": "python",
   "name": "python3"
  },
  "language_info": {
   "codemirror_mode": {
    "name": "ipython",
    "version": 3
   },
   "file_extension": ".py",
   "mimetype": "text/x-python",
   "name": "python",
   "nbconvert_exporter": "python",
   "pygments_lexer": "ipython3",
   "version": "3.7.7"
  }
 },
 "nbformat": 4,
 "nbformat_minor": 5
}

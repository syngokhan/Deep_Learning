{
 "cells": [
  {
   "cell_type": "code",
   "execution_count": 1,
   "id": "reliable-municipality",
   "metadata": {},
   "outputs": [],
   "source": [
    "import pandas as pd\n",
    "import seaborn as sns\n",
    "import numpy as np\n",
    "import matplotlib.pyplot as plt\n",
    "%matplotlib inline"
   ]
  },
  {
   "cell_type": "code",
   "execution_count": 2,
   "id": "norwegian-pillow",
   "metadata": {},
   "outputs": [],
   "source": [
    "import Preprocess_gokhanEr as pp"
   ]
  },
  {
   "cell_type": "code",
   "execution_count": 3,
   "id": "terminal-formation",
   "metadata": {},
   "outputs": [],
   "source": [
    "path = \"/Users/gokhanersoz/Desktop/Hepsi/NLP/Data/imdb_reviews.txt\""
   ]
  },
  {
   "cell_type": "code",
   "execution_count": 4,
   "id": "sharp-albania",
   "metadata": {},
   "outputs": [
    {
     "data": {
      "text/html": [
       "<div>\n",
       "<style scoped>\n",
       "    .dataframe tbody tr th:only-of-type {\n",
       "        vertical-align: middle;\n",
       "    }\n",
       "\n",
       "    .dataframe tbody tr th {\n",
       "        vertical-align: top;\n",
       "    }\n",
       "\n",
       "    .dataframe thead th {\n",
       "        text-align: right;\n",
       "    }\n",
       "</style>\n",
       "<table border=\"1\" class=\"dataframe\">\n",
       "  <thead>\n",
       "    <tr style=\"text-align: right;\">\n",
       "      <th></th>\n",
       "      <th>Reviews</th>\n",
       "      <th>Sentiment</th>\n",
       "    </tr>\n",
       "  </thead>\n",
       "  <tbody>\n",
       "    <tr>\n",
       "      <th>0</th>\n",
       "      <td>A very, very, very slow-moving, aimless movie ...</td>\n",
       "      <td>0</td>\n",
       "    </tr>\n",
       "    <tr>\n",
       "      <th>1</th>\n",
       "      <td>Not sure who was more lost - the flat characte...</td>\n",
       "      <td>0</td>\n",
       "    </tr>\n",
       "    <tr>\n",
       "      <th>2</th>\n",
       "      <td>Attempting artiness with black &amp; white and cle...</td>\n",
       "      <td>0</td>\n",
       "    </tr>\n",
       "    <tr>\n",
       "      <th>3</th>\n",
       "      <td>Very little music or anything to speak of.</td>\n",
       "      <td>0</td>\n",
       "    </tr>\n",
       "    <tr>\n",
       "      <th>4</th>\n",
       "      <td>The best scene in the movie was when Gerardo i...</td>\n",
       "      <td>1</td>\n",
       "    </tr>\n",
       "  </tbody>\n",
       "</table>\n",
       "</div>"
      ],
      "text/plain": [
       "                                             Reviews  Sentiment\n",
       "0  A very, very, very slow-moving, aimless movie ...          0\n",
       "1  Not sure who was more lost - the flat characte...          0\n",
       "2  Attempting artiness with black & white and cle...          0\n",
       "3       Very little music or anything to speak of.            0\n",
       "4  The best scene in the movie was when Gerardo i...          1"
      ]
     },
     "execution_count": 4,
     "metadata": {},
     "output_type": "execute_result"
    }
   ],
   "source": [
    "df = pd.read_csv(path, header = None,sep = \"\\t\")\n",
    "df.columns = [\"Reviews\",\"Sentiment\"]\n",
    "df.head()"
   ]
  },
  {
   "cell_type": "code",
   "execution_count": 5,
   "id": "olive-church",
   "metadata": {},
   "outputs": [],
   "source": [
    "df[\"Reviews\"] = df[\"Reviews\"].apply(lambda words : pp.cont_exp(words))\n",
    "df[\"Reviews\"] = df[\"Reviews\"].apply(lambda words : pp.remove_special_chars(words))\n",
    "df[\"Reviews\"] = df[\"Reviews\"].apply(lambda words : pp.remove_accented_chars(words))\n",
    "df[\"Reviews\"] = df[\"Reviews\"].apply(lambda words : pp.remove_emails(words))\n",
    "df[\"Reviews\"] = df[\"Reviews\"].apply(lambda words : pp.remove_html_tags(words))\n",
    "df[\"Reviews\"] = df[\"Reviews\"].apply(lambda words : pp.remove_urls(words))\n",
    "df[\"Reviews\"] = df[\"Reviews\"].apply(lambda words : pp.get_make_base(words))\n",
    "df[\"Reviews\"] = df[\"Reviews\"].apply(lambda words : pp.spelling_correction(words))\n",
    "df[\"Reviews\"] = df[\"Reviews\"].apply(lambda words : pp.get_lower_convert(words))"
   ]
  },
  {
   "cell_type": "code",
   "execution_count": 6,
   "id": "detected-representative",
   "metadata": {},
   "outputs": [
    {
     "data": {
      "text/html": [
       "<div>\n",
       "<style scoped>\n",
       "    .dataframe tbody tr th:only-of-type {\n",
       "        vertical-align: middle;\n",
       "    }\n",
       "\n",
       "    .dataframe tbody tr th {\n",
       "        vertical-align: top;\n",
       "    }\n",
       "\n",
       "    .dataframe thead th {\n",
       "        text-align: right;\n",
       "    }\n",
       "</style>\n",
       "<table border=\"1\" class=\"dataframe\">\n",
       "  <thead>\n",
       "    <tr style=\"text-align: right;\">\n",
       "      <th></th>\n",
       "      <th>Reviews</th>\n",
       "      <th>Sentiment</th>\n",
       "    </tr>\n",
       "  </thead>\n",
       "  <tbody>\n",
       "    <tr>\n",
       "      <th>0</th>\n",
       "      <td>a very very very slowmove aimless movie about ...</td>\n",
       "      <td>0</td>\n",
       "    </tr>\n",
       "    <tr>\n",
       "      <th>1</th>\n",
       "      <td>not sure who was more lose the flat character ...</td>\n",
       "      <td>0</td>\n",
       "    </tr>\n",
       "    <tr>\n",
       "      <th>2</th>\n",
       "      <td>attempt artless with black white and clever ca...</td>\n",
       "      <td>0</td>\n",
       "    </tr>\n",
       "    <tr>\n",
       "      <th>3</th>\n",
       "      <td>very little music or anything to speak of</td>\n",
       "      <td>0</td>\n",
       "    </tr>\n",
       "    <tr>\n",
       "      <th>4</th>\n",
       "      <td>the good scene in the movie was when gerard is...</td>\n",
       "      <td>1</td>\n",
       "    </tr>\n",
       "  </tbody>\n",
       "</table>\n",
       "</div>"
      ],
      "text/plain": [
       "                                             Reviews  Sentiment\n",
       "0  a very very very slowmove aimless movie about ...          0\n",
       "1  not sure who was more lose the flat character ...          0\n",
       "2  attempt artless with black white and clever ca...          0\n",
       "3          very little music or anything to speak of          0\n",
       "4  the good scene in the movie was when gerard is...          1"
      ]
     },
     "execution_count": 6,
     "metadata": {},
     "output_type": "execute_result"
    }
   ],
   "source": [
    "df.head()"
   ]
  },
  {
   "cell_type": "markdown",
   "id": "defensive-recycling",
   "metadata": {},
   "source": [
    "## Data Preparation For Model Training"
   ]
  },
  {
   "cell_type": "code",
   "execution_count": 7,
   "id": "surrounded-living",
   "metadata": {},
   "outputs": [],
   "source": [
    "from sklearn.pipeline import Pipeline\n",
    "from sklearn.model_selection import train_test_split\n",
    "from sklearn.feature_extraction.text import TfidfVectorizer,CountVectorizer\n",
    "\n",
    "from sklearn.linear_model import LogisticRegression\n",
    "from sklearn.svm import LinearSVC\n",
    "from sklearn.model_selection import GridSearchCV,cross_validate\n",
    "from sklearn.metrics import accuracy_score,r2_score,precision_score,recall_score,roc_auc_score, \\\n",
    "                            classification_report,confusion_matrix,roc_curve"
   ]
  },
  {
   "cell_type": "code",
   "execution_count": 8,
   "id": "complex-smell",
   "metadata": {},
   "outputs": [],
   "source": [
    "X = df[\"Reviews\"]\n",
    "y = df[\"Sentiment\"]"
   ]
  },
  {
   "cell_type": "code",
   "execution_count": 9,
   "id": "worthy-zambia",
   "metadata": {},
   "outputs": [],
   "source": [
    "X_train,X_test,y_train,y_test = train_test_split(X, y , \n",
    "                                                random_state = 0 ,test_size = 0.2, stratify = y)"
   ]
  },
  {
   "cell_type": "code",
   "execution_count": 10,
   "id": "varying-clock",
   "metadata": {},
   "outputs": [
    {
     "name": "stdout",
     "output_type": "stream",
     "text": [
      "X Train Shape : (598,)\n",
      "\n",
      "X Test Shape : (150,)\n"
     ]
    }
   ],
   "source": [
    "print(\"X Train Shape : {}\".format(X_train.shape))\n",
    "print()\n",
    "print(\"X Test Shape : {}\".format(X_test.shape))"
   ]
  },
  {
   "cell_type": "markdown",
   "id": "coupled-basin",
   "metadata": {},
   "source": [
    "## ML Model Building"
   ]
  },
  {
   "cell_type": "code",
   "execution_count": 11,
   "id": "boring-skirt",
   "metadata": {},
   "outputs": [],
   "source": [
    "pipe = Pipeline([\n",
    "       (\"tfidf\", TfidfVectorizer()),\n",
    "       (\"clf\", LogisticRegression(solver = \"liblinear\"))\n",
    "       ])"
   ]
  },
  {
   "cell_type": "code",
   "execution_count": 12,
   "id": "chief-delhi",
   "metadata": {},
   "outputs": [],
   "source": [
    "hyperparamaters = {\n",
    "    \n",
    "    \"vector__max_df\" : (0.5,1.0),\n",
    "    \"vector__ngram_range\" : ((1,1),(1,2)),\n",
    "    \"vector__use_idf\" : (True,False),\n",
    "    \"vector__analyzer\" : (\"word\",\"char\",\"char_wb\"),\n",
    "    \"clf__penalty\" : (\"l2\",\"l1\"),\n",
    "    \"clf__C\": (1,2)\n",
    "}"
   ]
  },
  {
   "cell_type": "code",
   "execution_count": 13,
   "id": "advanced-struggle",
   "metadata": {},
   "outputs": [],
   "source": [
    "def nlp_tuning(vectorizer , classification, hyperparamaters , X, y, score = \"accuracy\", cv = None):\n",
    "    \n",
    "    from sklearn.pipeline import Pipeline\n",
    "    from sklearn.model_selection import GridSearchCV\n",
    "    \n",
    "    pipe = Pipeline([\n",
    "        (\"vector\" , vectorizer),\n",
    "        (\"clf\", classification)\n",
    "    ])\n",
    "    \n",
    "    \n",
    "    best_grid = GridSearchCV(estimator=pipe,\n",
    "                             param_grid=hyperparamaters,\n",
    "                             n_jobs=-1,\n",
    "                             verbose = 0,\n",
    "                             cv = cv,\n",
    "                             scoring=score).fit(X, y)\n",
    " \n",
    "    print(f' {type(classification).__name__.upper()} '.center(50,\"#\"))\n",
    "    print()\n",
    "    print(\"Best Params :\\n\\n {}\".format(best_grid.best_params_))\n",
    "    print()\n",
    "    print(\"Best Estimator :\\n\\n {}\".format(best_grid.best_estimator_))\n",
    "    print()\n",
    "    print(\"Score :\\n\\n {}\".format(best_grid.best_score_))\n",
    "    \n",
    "    return best_grid"
   ]
  },
  {
   "cell_type": "code",
   "execution_count": 14,
   "id": "hydraulic-fisher",
   "metadata": {},
   "outputs": [
    {
     "name": "stdout",
     "output_type": "stream",
     "text": [
      "################### LINEARSVC ####################\n",
      "\n",
      "Best Params :\n",
      "\n",
      " {'clf__C': 1, 'clf__penalty': 'l2', 'vector__analyzer': 'word', 'vector__max_df': 1.0, 'vector__ngram_range': (1, 1), 'vector__use_idf': True}\n",
      "\n",
      "Best Estimator :\n",
      "\n",
      " Pipeline(steps=[('vector', TfidfVectorizer()), ('clf', LinearSVC(C=1))])\n",
      "\n",
      "Score :\n",
      "\n",
      " 0.7858963585434173\n"
     ]
    }
   ],
   "source": [
    "grid_svc = nlp_tuning(TfidfVectorizer(), LinearSVC(), hyperparamaters, X_train, y_train)"
   ]
  },
  {
   "cell_type": "code",
   "execution_count": 15,
   "id": "relative-horse",
   "metadata": {},
   "outputs": [
    {
     "name": "stdout",
     "output_type": "stream",
     "text": [
      "############### LOGISTICREGRESSION ###############\n",
      "\n",
      "Best Params :\n",
      "\n",
      " {'clf__C': 2, 'clf__penalty': 'l2', 'vector__analyzer': 'word', 'vector__max_df': 0.5, 'vector__ngram_range': (1, 1), 'vector__use_idf': True}\n",
      "\n",
      "Best Estimator :\n",
      "\n",
      " Pipeline(steps=[('vector', TfidfVectorizer(max_df=0.5)),\n",
      "                ('clf', LogisticRegression(C=2, solver='liblinear'))])\n",
      "\n",
      "Score :\n",
      "\n",
      " 0.779187675070028\n"
     ]
    }
   ],
   "source": [
    "grid_logistic = nlp_tuning(TfidfVectorizer(), LogisticRegression(solver = \"liblinear\"), hyperparamaters,\n",
    "                           X_train, y_train)"
   ]
  },
  {
   "cell_type": "code",
   "execution_count": 16,
   "id": "ranging-miller",
   "metadata": {},
   "outputs": [],
   "source": [
    "y_pred_logistic = grid_logistic.predict(X_test)\n",
    "y_pred_svc = grid_svc.predict(X_test)"
   ]
  },
  {
   "cell_type": "code",
   "execution_count": 17,
   "id": "documentary-interstate",
   "metadata": {},
   "outputs": [
    {
     "name": "stdout",
     "output_type": "stream",
     "text": [
      "              precision    recall  f1-score   support\n",
      "\n",
      "           0       0.74      0.73      0.73        73\n",
      "           1       0.74      0.75      0.75        77\n",
      "\n",
      "    accuracy                           0.74       150\n",
      "   macro avg       0.74      0.74      0.74       150\n",
      "weighted avg       0.74      0.74      0.74       150\n",
      "\n"
     ]
    }
   ],
   "source": [
    "print(classification_report(y_test, y_pred_logistic))"
   ]
  },
  {
   "cell_type": "code",
   "execution_count": 18,
   "id": "acknowledged-coating",
   "metadata": {},
   "outputs": [
    {
     "name": "stdout",
     "output_type": "stream",
     "text": [
      "              precision    recall  f1-score   support\n",
      "\n",
      "           0       0.71      0.75      0.73        73\n",
      "           1       0.75      0.70      0.72        77\n",
      "\n",
      "    accuracy                           0.73       150\n",
      "   macro avg       0.73      0.73      0.73       150\n",
      "weighted avg       0.73      0.73      0.73       150\n",
      "\n"
     ]
    }
   ],
   "source": [
    "print(classification_report(y_test, y_pred_svc))"
   ]
  },
  {
   "cell_type": "code",
   "execution_count": 19,
   "id": "behavioral-export",
   "metadata": {},
   "outputs": [],
   "source": [
    "fpr_logistic,tpr_logistic,threshold_logistic = roc_curve(y_test, grid_logistic.predict_proba(X_test)[:,1])"
   ]
  },
  {
   "cell_type": "code",
   "execution_count": 20,
   "id": "complicated-knife",
   "metadata": {},
   "outputs": [],
   "source": [
    "def roc_graph(X,y,Classification):\n",
    "    \n",
    "    fpr,tpr,threshold= roc_curve(y, Classification.predict_proba(X)[:,1])\n",
    "\n",
    "    y_pred = Classification.predict(X)\n",
    "    roc_score = roc_auc_score(y,y_pred)\n",
    "\n",
    "    plt.figure(figsize = (15,8))\n",
    "    plt.plot(fpr_logistic,tpr_logistic, color = \"green\")\n",
    "    plt.plot([0,1],[0,1], color = \"black\")\n",
    "    \n",
    "    name = type(Classification.best_estimator_[1]).__name__\n",
    "    \n",
    "    size = 15\n",
    "    plt.title(f\"Roc Auc For {name.upper()}\\n\\n Roc Auc Score :{ roc_score}\", \n",
    "              fontsize = size)\n",
    "    plt.ylabel(\"True Positive Rate\", fontsize = size)\n",
    "    plt.xlabel(\"False Positive Rate\", fontsize = size)\n",
    "    plt.show()"
   ]
  },
  {
   "cell_type": "code",
   "execution_count": 21,
   "id": "average-raising",
   "metadata": {},
   "outputs": [
    {
     "data": {
      "image/png": "[encoded data removed]",
      "text/plain": [
       "<Figure size 1080x576 with 1 Axes>"
      ]
     },
     "metadata": {
      "needs_background": "light"
     },
     "output_type": "display_data"
    }
   ],
   "source": [
    "roc_graph(X_test, y_test, grid_logistic)"
   ]
  },
  {
   "cell_type": "code",
   "execution_count": 22,
   "id": "early-night",
   "metadata": {},
   "outputs": [],
   "source": [
    "def confusion_graph(X, y , Classification):\n",
    "    \n",
    "    from sklearn.metrics import confusion_matrix\n",
    "    import seaborn as sns\n",
    "    \n",
    "    y_pred = Classification.predict(X)\n",
    "    \n",
    "\n",
    "    cm = confusion_matrix(y, y_pred)\n",
    "    \n",
    "    name = type(Classification.best_estimator_[1]).__name__\n",
    "    \n",
    "    plt.figure(figsize = (12,7))\n",
    "    \n",
    "    \n",
    "    sns.heatmap(cm, annot = True,cbar = False, cmap = \"viridis\", annot_kws = {\"size\" : 15},\n",
    "                fmt = \"d\",linecolor=\"white\",linewidths=0.2)\n",
    "    \n",
    "    size = 15\n",
    "    plt.title(f\"Confusion Graph For {name.upper()}\", size = size)\n",
    "    plt.ylabel(\"Actual\",size = size)\n",
    "    plt.xlabel(\"Predicted\",size = size)\n",
    "    plt.show()"
   ]
  },
  {
   "cell_type": "code",
   "execution_count": 23,
   "id": "authorized-consumption",
   "metadata": {},
   "outputs": [
    {
     "data": {
      "image/png": "[encoded data removed]",
      "text/plain": [
       "<Figure size 864x504 with 1 Axes>"
      ]
     },
     "metadata": {
      "needs_background": "light"
     },
     "output_type": "display_data"
    }
   ],
   "source": [
    "confusion_graph(X_test ,y_test , grid_logistic)"
   ]
  },
  {
   "cell_type": "markdown",
   "id": "comparative-piece",
   "metadata": {},
   "source": [
    "## Model Saving "
   ]
  },
  {
   "cell_type": "code",
   "execution_count": 24,
   "id": "recognized-gambling",
   "metadata": {},
   "outputs": [],
   "source": [
    "import pickle"
   ]
  },
  {
   "cell_type": "code",
   "execution_count": 25,
   "id": "prepared-strip",
   "metadata": {},
   "outputs": [],
   "source": [
    "x = [\"this is great moview. i loved it\",\"i have watched this movie. plot is straight.\"]"
   ]
  },
  {
   "cell_type": "code",
   "execution_count": 29,
   "id": "amber-hours",
   "metadata": {},
   "outputs": [
    {
     "data": {
      "text/plain": [
       "array([1, 0])"
      ]
     },
     "execution_count": 29,
     "metadata": {},
     "output_type": "execute_result"
    }
   ],
   "source": [
    "pickle.dump(grid_logistic, open(\"grid_logistic.pkl\",\"wb\"))\n",
    "\n",
    "clf = pickle.load(open(\"grid_logistic.pkl\",\"rb\"))\n",
    "clf.predict(x)"
   ]
  },
  {
   "cell_type": "code",
   "execution_count": null,
   "id": "official-marathon",
   "metadata": {},
   "outputs": [],
   "source": []
  },
  {
   "cell_type": "code",
   "execution_count": null,
   "id": "colonial-ecuador",
   "metadata": {},
   "outputs": [],
   "source": []
  }
 ],
 "metadata": {
  "kernelspec": {
   "display_name": "Python 3",
   "language": "python",
   "name": "python3"
  },
  "language_info": {
   "codemirror_mode": {
    "name": "ipython",
    "version": 3
   },
   "file_extension": ".py",
   "mimetype": "text/x-python",
   "name": "python",
   "nbconvert_exporter": "python",
   "pygments_lexer": "ipython3",
   "version": "3.7.7"
  }
 },
 "nbformat": 4,
 "nbformat_minor": 5
}

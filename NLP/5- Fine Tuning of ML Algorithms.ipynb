{
 "cells": [
  {
   "cell_type": "code",
   "execution_count": 1,
   "id": "e17ddeda",
   "metadata": {},
   "outputs": [],
   "source": [
    "import pandas as pd\n",
    "import numpy as np\n",
    "import seaborn as sns\n",
    "import matplotlib.pyplot as plt\n",
    "%matplotlib inline"
   ]
  },
  {
   "cell_type": "code",
   "execution_count": 2,
   "id": "03d6c1d9",
   "metadata": {},
   "outputs": [],
   "source": [
    "import Preprocess_gokhanEr as pp"
   ]
  },
  {
   "cell_type": "code",
   "execution_count": 3,
   "id": "ad43c3bf",
   "metadata": {},
   "outputs": [],
   "source": [
    "import os\n",
    "import sys"
   ]
  },
  {
   "cell_type": "markdown",
   "id": "5ca30acd",
   "metadata": {},
   "source": [
    "## TF-IDF and Sparse Matrix"
   ]
  },
  {
   "cell_type": "code",
   "execution_count": 4,
   "id": "e08714e9",
   "metadata": {},
   "outputs": [],
   "source": [
    "from sklearn.model_selection import train_test_split\n",
    "from sklearn.svm import LinearSVC\n",
    "from sklearn.metrics import accuracy_score,confusion_matrix,classification_report"
   ]
  },
  {
   "cell_type": "markdown",
   "id": "8fb1b440",
   "metadata": {},
   "source": [
    "- lower case\n",
    "- contraction to expansion\n",
    "- remove emails, urls, special chars, mentions, hashtags, html tags, \n",
    "- remove more than 2 repeated chars. youuu- you"
   ]
  },
  {
   "cell_type": "code",
   "execution_count": 5,
   "id": "28ff645e",
   "metadata": {},
   "outputs": [
    {
     "data": {
      "text/html": [
       "<div>\n",
       "<style scoped>\n",
       "    .dataframe tbody tr th:only-of-type {\n",
       "        vertical-align: middle;\n",
       "    }\n",
       "\n",
       "    .dataframe tbody tr th {\n",
       "        vertical-align: top;\n",
       "    }\n",
       "\n",
       "    .dataframe thead th {\n",
       "        text-align: right;\n",
       "    }\n",
       "</style>\n",
       "<table border=\"1\" class=\"dataframe\">\n",
       "  <thead>\n",
       "    <tr style=\"text-align: right;\">\n",
       "      <th></th>\n",
       "      <th>twitts</th>\n",
       "      <th>sentiment</th>\n",
       "    </tr>\n",
       "  </thead>\n",
       "  <tbody>\n",
       "    <tr>\n",
       "      <th>0</th>\n",
       "      <td>robbiebronniman sounds like a great night</td>\n",
       "      <td>1</td>\n",
       "    </tr>\n",
       "    <tr>\n",
       "      <th>1</th>\n",
       "      <td>damn the person who stolde my wallet may karma...</td>\n",
       "      <td>1</td>\n",
       "    </tr>\n",
       "    <tr>\n",
       "      <th>2</th>\n",
       "      <td>greetings from the piano bench photo</td>\n",
       "      <td>1</td>\n",
       "    </tr>\n",
       "    <tr>\n",
       "      <th>3</th>\n",
       "      <td>drewryanscott i love it i love you haha forget...</td>\n",
       "      <td>1</td>\n",
       "    </tr>\n",
       "    <tr>\n",
       "      <th>4</th>\n",
       "      <td>kissthestars pretty pretty pretty please pakid...</td>\n",
       "      <td>0</td>\n",
       "    </tr>\n",
       "  </tbody>\n",
       "</table>\n",
       "</div>"
      ],
      "text/plain": [
       "                                              twitts  sentiment\n",
       "0          robbiebronniman sounds like a great night          1\n",
       "1  damn the person who stolde my wallet may karma...          1\n",
       "2               greetings from the piano bench photo          1\n",
       "3  drewryanscott i love it i love you haha forget...          1\n",
       "4  kissthestars pretty pretty pretty please pakid...          0"
      ]
     },
     "execution_count": 5,
     "metadata": {},
     "output_type": "execute_result"
    }
   ],
   "source": [
    "df = pd.read_csv(\"twitter30k_cleaned.csv\")\n",
    "df.head()"
   ]
  },
  {
   "cell_type": "code",
   "execution_count": 6,
   "id": "f608a8c8",
   "metadata": {},
   "outputs": [
    {
     "data": {
      "text/plain": [
       "1    15000\n",
       "0    15000\n",
       "Name: sentiment, dtype: int64"
      ]
     },
     "execution_count": 6,
     "metadata": {},
     "output_type": "execute_result"
    }
   ],
   "source": [
    "df[\"sentiment\"].value_counts()"
   ]
  },
  {
   "cell_type": "code",
   "execution_count": 7,
   "id": "fd802457",
   "metadata": {},
   "outputs": [],
   "source": [
    "X = df[\"twitts\"]\n",
    "y = df[\"sentiment\"]"
   ]
  },
  {
   "cell_type": "code",
   "execution_count": 8,
   "id": "8ca841dd",
   "metadata": {},
   "outputs": [],
   "source": [
    "from sklearn.feature_extraction.text import TfidfVectorizer"
   ]
  },
  {
   "cell_type": "code",
   "execution_count": 9,
   "id": "d2259128",
   "metadata": {},
   "outputs": [],
   "source": [
    "tfidf = TfidfVectorizer()\n",
    "X = tfidf.fit_transform(X)"
   ]
  },
  {
   "cell_type": "code",
   "execution_count": 10,
   "id": "ec73a297",
   "metadata": {},
   "outputs": [
    {
     "data": {
      "text/html": [
       "<div>\n",
       "<style scoped>\n",
       "    .dataframe tbody tr th:only-of-type {\n",
       "        vertical-align: middle;\n",
       "    }\n",
       "\n",
       "    .dataframe tbody tr th {\n",
       "        vertical-align: top;\n",
       "    }\n",
       "\n",
       "    .dataframe thead th {\n",
       "        text-align: right;\n",
       "    }\n",
       "</style>\n",
       "<table border=\"1\" class=\"dataframe\">\n",
       "  <thead>\n",
       "    <tr style=\"text-align: right;\">\n",
       "      <th></th>\n",
       "      <th>005603</th>\n",
       "      <th>01</th>\n",
       "      <th>010</th>\n",
       "      <th>0100</th>\n",
       "      <th>02</th>\n",
       "      <th>0200</th>\n",
       "      <th>0230</th>\n",
       "      <th>0410</th>\n",
       "      <th>0430</th>\n",
       "      <th>05</th>\n",
       "      <th>...</th>\n",
       "      <th>ñðñðµ</th>\n",
       "      <th>ñðñð½ññ</th>\n",
       "      <th>ññðµð²ð</th>\n",
       "      <th>ññðºð</th>\n",
       "      <th>ññð¾</th>\n",
       "      <th>ññð¾ðñ</th>\n",
       "      <th>ø³ùùû</th>\n",
       "      <th>øµøøª</th>\n",
       "      <th>øø</th>\n",
       "      <th>ùù</th>\n",
       "    </tr>\n",
       "  </thead>\n",
       "  <tbody>\n",
       "    <tr>\n",
       "      <th>0</th>\n",
       "      <td>0.0</td>\n",
       "      <td>0.0</td>\n",
       "      <td>0.0</td>\n",
       "      <td>0.0</td>\n",
       "      <td>0.0</td>\n",
       "      <td>0.0</td>\n",
       "      <td>0.0</td>\n",
       "      <td>0.0</td>\n",
       "      <td>0.0</td>\n",
       "      <td>0.0</td>\n",
       "      <td>...</td>\n",
       "      <td>0.0</td>\n",
       "      <td>0.0</td>\n",
       "      <td>0.0</td>\n",
       "      <td>0.0</td>\n",
       "      <td>0.0</td>\n",
       "      <td>0.0</td>\n",
       "      <td>0.0</td>\n",
       "      <td>0.0</td>\n",
       "      <td>0.0</td>\n",
       "      <td>0.0</td>\n",
       "    </tr>\n",
       "    <tr>\n",
       "      <th>1</th>\n",
       "      <td>0.0</td>\n",
       "      <td>0.0</td>\n",
       "      <td>0.0</td>\n",
       "      <td>0.0</td>\n",
       "      <td>0.0</td>\n",
       "      <td>0.0</td>\n",
       "      <td>0.0</td>\n",
       "      <td>0.0</td>\n",
       "      <td>0.0</td>\n",
       "      <td>0.0</td>\n",
       "      <td>...</td>\n",
       "      <td>0.0</td>\n",
       "      <td>0.0</td>\n",
       "      <td>0.0</td>\n",
       "      <td>0.0</td>\n",
       "      <td>0.0</td>\n",
       "      <td>0.0</td>\n",
       "      <td>0.0</td>\n",
       "      <td>0.0</td>\n",
       "      <td>0.0</td>\n",
       "      <td>0.0</td>\n",
       "    </tr>\n",
       "    <tr>\n",
       "      <th>2</th>\n",
       "      <td>0.0</td>\n",
       "      <td>0.0</td>\n",
       "      <td>0.0</td>\n",
       "      <td>0.0</td>\n",
       "      <td>0.0</td>\n",
       "      <td>0.0</td>\n",
       "      <td>0.0</td>\n",
       "      <td>0.0</td>\n",
       "      <td>0.0</td>\n",
       "      <td>0.0</td>\n",
       "      <td>...</td>\n",
       "      <td>0.0</td>\n",
       "      <td>0.0</td>\n",
       "      <td>0.0</td>\n",
       "      <td>0.0</td>\n",
       "      <td>0.0</td>\n",
       "      <td>0.0</td>\n",
       "      <td>0.0</td>\n",
       "      <td>0.0</td>\n",
       "      <td>0.0</td>\n",
       "      <td>0.0</td>\n",
       "    </tr>\n",
       "    <tr>\n",
       "      <th>3</th>\n",
       "      <td>0.0</td>\n",
       "      <td>0.0</td>\n",
       "      <td>0.0</td>\n",
       "      <td>0.0</td>\n",
       "      <td>0.0</td>\n",
       "      <td>0.0</td>\n",
       "      <td>0.0</td>\n",
       "      <td>0.0</td>\n",
       "      <td>0.0</td>\n",
       "      <td>0.0</td>\n",
       "      <td>...</td>\n",
       "      <td>0.0</td>\n",
       "      <td>0.0</td>\n",
       "      <td>0.0</td>\n",
       "      <td>0.0</td>\n",
       "      <td>0.0</td>\n",
       "      <td>0.0</td>\n",
       "      <td>0.0</td>\n",
       "      <td>0.0</td>\n",
       "      <td>0.0</td>\n",
       "      <td>0.0</td>\n",
       "    </tr>\n",
       "    <tr>\n",
       "      <th>4</th>\n",
       "      <td>0.0</td>\n",
       "      <td>0.0</td>\n",
       "      <td>0.0</td>\n",
       "      <td>0.0</td>\n",
       "      <td>0.0</td>\n",
       "      <td>0.0</td>\n",
       "      <td>0.0</td>\n",
       "      <td>0.0</td>\n",
       "      <td>0.0</td>\n",
       "      <td>0.0</td>\n",
       "      <td>...</td>\n",
       "      <td>0.0</td>\n",
       "      <td>0.0</td>\n",
       "      <td>0.0</td>\n",
       "      <td>0.0</td>\n",
       "      <td>0.0</td>\n",
       "      <td>0.0</td>\n",
       "      <td>0.0</td>\n",
       "      <td>0.0</td>\n",
       "      <td>0.0</td>\n",
       "      <td>0.0</td>\n",
       "    </tr>\n",
       "  </tbody>\n",
       "</table>\n",
       "<p>5 rows × 42126 columns</p>\n",
       "</div>"
      ],
      "text/plain": [
       "   005603   01  010  0100   02  0200  0230  0410  0430   05  ...  ñðñðµ  \\\n",
       "0     0.0  0.0  0.0   0.0  0.0   0.0   0.0   0.0   0.0  0.0  ...    0.0   \n",
       "1     0.0  0.0  0.0   0.0  0.0   0.0   0.0   0.0   0.0  0.0  ...    0.0   \n",
       "2     0.0  0.0  0.0   0.0  0.0   0.0   0.0   0.0   0.0  0.0  ...    0.0   \n",
       "3     0.0  0.0  0.0   0.0  0.0   0.0   0.0   0.0   0.0  0.0  ...    0.0   \n",
       "4     0.0  0.0  0.0   0.0  0.0   0.0   0.0   0.0   0.0  0.0  ...    0.0   \n",
       "\n",
       "   ñðñð½ññ  ññðµð²ð  ññðºð  ññð¾  ññð¾ðñ  ø³ùùû  øµøøª   øø   ùù  \n",
       "0      0.0      0.0    0.0   0.0     0.0    0.0    0.0  0.0  0.0  \n",
       "1      0.0      0.0    0.0   0.0     0.0    0.0    0.0  0.0  0.0  \n",
       "2      0.0      0.0    0.0   0.0     0.0    0.0    0.0  0.0  0.0  \n",
       "3      0.0      0.0    0.0   0.0     0.0    0.0    0.0  0.0  0.0  \n",
       "4      0.0      0.0    0.0   0.0     0.0    0.0    0.0  0.0  0.0  \n",
       "\n",
       "[5 rows x 42126 columns]"
      ]
     },
     "execution_count": 10,
     "metadata": {},
     "output_type": "execute_result"
    }
   ],
   "source": [
    "pd.DataFrame(data = X.toarray(), columns = tfidf.get_feature_names() ).head()"
   ]
  },
  {
   "cell_type": "code",
   "execution_count": 11,
   "id": "2d7fd505",
   "metadata": {},
   "outputs": [
    {
     "data": {
      "text/plain": [
       "<30000x42126 sparse matrix of type '<class 'numpy.float64'>'\n",
       "\twith 350520 stored elements in Compressed Sparse Row format>"
      ]
     },
     "execution_count": 11,
     "metadata": {},
     "output_type": "execute_result"
    }
   ],
   "source": [
    "X"
   ]
  },
  {
   "cell_type": "code",
   "execution_count": 12,
   "id": "9ba60091",
   "metadata": {},
   "outputs": [
    {
     "data": {
      "text/plain": [
       "0.00027735840098751366"
      ]
     },
     "execution_count": 12,
     "metadata": {},
     "output_type": "execute_result"
    }
   ],
   "source": [
    "# % kaçı 0 temsil ediyor bütün verilerden \n",
    "\n",
    "350520 / (X.shape[0]*X.shape[1])"
   ]
  },
  {
   "cell_type": "code",
   "execution_count": 13,
   "id": "f7446a5b",
   "metadata": {},
   "outputs": [
    {
     "data": {
      "text/plain": [
       "350520"
      ]
     },
     "execution_count": 13,
     "metadata": {},
     "output_type": "execute_result"
    }
   ],
   "source": [
    "# Burda 0 olmayan değerler !!!\n",
    "\n",
    "X.toarray().astype(\"bool\").sum().sum()"
   ]
  },
  {
   "cell_type": "code",
   "execution_count": 14,
   "id": "d8ba56ff",
   "metadata": {},
   "outputs": [
    {
     "data": {
      "text/plain": [
       "42126"
      ]
     },
     "execution_count": 14,
     "metadata": {},
     "output_type": "execute_result"
    }
   ],
   "source": [
    "# Kolon sayıları !!\n",
    "\n",
    "len(tfidf.vocabulary_)"
   ]
  },
  {
   "cell_type": "code",
   "execution_count": 15,
   "id": "117df660",
   "metadata": {},
   "outputs": [
    {
     "name": "stdout",
     "output_type": "stream",
     "text": [
      "X Shape : (30000, 42126)\n",
      "Y Shape : (30000,)\n"
     ]
    }
   ],
   "source": [
    "print(\"X Shape : {}\".format(X.shape))\n",
    "print(\"Y Shape : {}\".format(y.shape))"
   ]
  },
  {
   "cell_type": "code",
   "execution_count": 16,
   "id": "04450a79",
   "metadata": {},
   "outputs": [
    {
     "data": {
      "text/plain": [
       "(scipy.sparse.csr.csr_matrix, pandas.core.series.Series)"
      ]
     },
     "execution_count": 16,
     "metadata": {},
     "output_type": "execute_result"
    }
   ],
   "source": [
    "type(X),type(y)"
   ]
  },
  {
   "cell_type": "code",
   "execution_count": 17,
   "id": "78a2de7e",
   "metadata": {},
   "outputs": [
    {
     "data": {
      "text/plain": [
       "64"
      ]
     },
     "execution_count": 17,
     "metadata": {},
     "output_type": "execute_result"
    }
   ],
   "source": [
    "sys.getsizeof(X)"
   ]
  },
  {
   "cell_type": "code",
   "execution_count": 18,
   "id": "a75a71f0",
   "metadata": {},
   "outputs": [
    {
     "data": {
      "text/plain": [
       "350520"
      ]
     },
     "execution_count": 18,
     "metadata": {},
     "output_type": "execute_result"
    }
   ],
   "source": [
    "len(X.data)"
   ]
  },
  {
   "cell_type": "code",
   "execution_count": 19,
   "id": "4ae96aea",
   "metadata": {},
   "outputs": [
    {
     "data": {
      "text/plain": [
       "4326244"
      ]
     },
     "execution_count": 19,
     "metadata": {},
     "output_type": "execute_result"
    }
   ],
   "source": [
    "d = (X.data.nbytes + X.indptr.nbytes + X.indices.nbytes)\n",
    "d"
   ]
  },
  {
   "cell_type": "code",
   "execution_count": 20,
   "id": "64aa3187",
   "metadata": {},
   "outputs": [
    {
     "data": {
      "text/plain": [
       "4.125827789306641"
      ]
     },
     "execution_count": 20,
     "metadata": {},
     "output_type": "execute_result"
    }
   ],
   "source": [
    "d / 2 ** 20"
   ]
  },
  {
   "cell_type": "code",
   "execution_count": 21,
   "id": "01a633c9",
   "metadata": {},
   "outputs": [
    {
     "data": {
      "text/plain": [
       "9641.876220703125"
      ]
     },
     "execution_count": 21,
     "metadata": {},
     "output_type": "execute_result"
    }
   ],
   "source": [
    "(X.shape[0] * X.shape[1])*8 / (2**20)"
   ]
  },
  {
   "cell_type": "markdown",
   "id": "a6d8df38",
   "metadata": {},
   "source": [
    "## Non - Negative Matrix Factorization (NMF)"
   ]
  },
  {
   "cell_type": "code",
   "execution_count": 22,
   "id": "b6163a61",
   "metadata": {},
   "outputs": [],
   "source": [
    "X_train,X_test,y_train,y_test = train_test_split(X,y, test_size = 0.2, stratify=y, random_state=0)"
   ]
  },
  {
   "cell_type": "code",
   "execution_count": 23,
   "id": "4d55d668",
   "metadata": {},
   "outputs": [],
   "source": [
    "from sklearn.decomposition import PCA, NMF"
   ]
  },
  {
   "cell_type": "code",
   "execution_count": 24,
   "id": "d6bf8e76",
   "metadata": {},
   "outputs": [],
   "source": [
    "from warnings import filterwarnings\n",
    "filterwarnings(\"ignore\")"
   ]
  },
  {
   "cell_type": "code",
   "execution_count": 25,
   "id": "236ad56d",
   "metadata": {},
   "outputs": [
    {
     "name": "stdout",
     "output_type": "stream",
     "text": [
      "X Train Shape : (24000, 42126)\n",
      "NMF X Train Shape : (24000, 50)\n",
      "CPU times: user 1min 49s, sys: 25.4 s, total: 2min 14s\n",
      "Wall time: 19.2 s\n"
     ]
    }
   ],
   "source": [
    "%%time\n",
    "nmf = NMF(n_components=50, random_state= 0 )\n",
    "X_train_nmf = nmf.fit_transform(X_train)\n",
    "\n",
    "print(\"X Train Shape : {}\".format(X_train.shape))\n",
    "print(\"NMF X Train Shape : {}\".format(X_train_nmf.shape))"
   ]
  },
  {
   "cell_type": "code",
   "execution_count": 26,
   "id": "44e11a7b",
   "metadata": {},
   "outputs": [],
   "source": [
    "def run_svm(clf, X_train,X_test, y_train, y_test):\n",
    "    \n",
    "    from sklearn.metrics import classification_report\n",
    "    \n",
    "    clf.fit(X_train,y_train)\n",
    "    y_pred = clf.predict(X_test)\n",
    "    \n",
    "    print()\n",
    "    print(\"Printing Report\")\n",
    "    print(classification_report(y_test,y_pred))"
   ]
  },
  {
   "cell_type": "code",
   "execution_count": 27,
   "id": "51db8b37",
   "metadata": {},
   "outputs": [
    {
     "name": "stdout",
     "output_type": "stream",
     "text": [
      "\n",
      "Printing Report\n",
      "              precision    recall  f1-score   support\n",
      "\n",
      "           0       0.66      0.62      0.64      3000\n",
      "           1       0.64      0.68      0.66      3000\n",
      "\n",
      "    accuracy                           0.65      6000\n",
      "   macro avg       0.65      0.65      0.65      6000\n",
      "weighted avg       0.65      0.65      0.65      6000\n",
      "\n",
      "CPU times: user 766 ms, sys: 171 ms, total: 937 ms\n",
      "Wall time: 135 ms\n"
     ]
    }
   ],
   "source": [
    "%%time\n",
    "\n",
    "clf = LinearSVC()\n",
    "\n",
    "X_test_nmf = nmf.transform(X_test)\n",
    "\n",
    "run_svm(clf, X_train_nmf, X_test_nmf, y_train, y_test)"
   ]
  },
  {
   "cell_type": "code",
   "execution_count": 28,
   "id": "19e92200",
   "metadata": {},
   "outputs": [
    {
     "name": "stdout",
     "output_type": "stream",
     "text": [
      "\n",
      "Printing Report\n",
      "              precision    recall  f1-score   support\n",
      "\n",
      "           0       0.75      0.74      0.75      3000\n",
      "           1       0.75      0.75      0.75      3000\n",
      "\n",
      "    accuracy                           0.75      6000\n",
      "   macro avg       0.75      0.75      0.75      6000\n",
      "weighted avg       0.75      0.75      0.75      6000\n",
      "\n",
      "CPU times: user 316 ms, sys: 95.9 ms, total: 412 ms\n",
      "Wall time: 68.5 ms\n"
     ]
    }
   ],
   "source": [
    "%%time\n",
    "clf = LinearSVC()\n",
    "run_svm(clf, X_train, X_test, y_train, y_test)"
   ]
  },
  {
   "cell_type": "markdown",
   "id": "093cc523",
   "metadata": {},
   "source": [
    "## Trancated Singular Value Decomposition (TSVD)"
   ]
  },
  {
   "cell_type": "code",
   "execution_count": 29,
   "id": "197360f8",
   "metadata": {},
   "outputs": [],
   "source": [
    "from sklearn.decomposition import TruncatedSVD as TSVD"
   ]
  },
  {
   "cell_type": "code",
   "execution_count": 30,
   "id": "369e5dd2",
   "metadata": {},
   "outputs": [
    {
     "name": "stdout",
     "output_type": "stream",
     "text": [
      "CPU times: user 37.6 s, sys: 5.89 s, total: 43.5 s\n",
      "Wall time: 8.1 s\n"
     ]
    }
   ],
   "source": [
    "%%time\n",
    "tsvd = TSVD(n_components=500, random_state=0)\n",
    "X_train_tsvd = tsvd.fit_transform(X_train)"
   ]
  },
  {
   "cell_type": "code",
   "execution_count": 31,
   "id": "07458b96",
   "metadata": {},
   "outputs": [
    {
     "name": "stdout",
     "output_type": "stream",
     "text": [
      "CPU times: user 30.9 ms, sys: 35.8 ms, total: 66.7 ms\n",
      "Wall time: 65.9 ms\n"
     ]
    }
   ],
   "source": [
    "%%time\n",
    "X_test_tsvd = tsvd.transform(X_test)"
   ]
  },
  {
   "cell_type": "code",
   "execution_count": 32,
   "id": "32cdae40",
   "metadata": {},
   "outputs": [
    {
     "name": "stdout",
     "output_type": "stream",
     "text": [
      "\n",
      "Printing Report\n",
      "              precision    recall  f1-score   support\n",
      "\n",
      "           0       0.75      0.72      0.73      3000\n",
      "           1       0.73      0.76      0.74      3000\n",
      "\n",
      "    accuracy                           0.74      6000\n",
      "   macro avg       0.74      0.74      0.74      6000\n",
      "weighted avg       0.74      0.74      0.74      6000\n",
      "\n",
      "CPU times: user 1.25 s, sys: 48.1 ms, total: 1.3 s\n",
      "Wall time: 1.27 s\n"
     ]
    }
   ],
   "source": [
    "%%time\n",
    "clf = LinearSVC()\n",
    "run_svm(clf,X_train_tsvd, X_test_tsvd, y_train, y_test)"
   ]
  },
  {
   "cell_type": "markdown",
   "id": "69ca461e",
   "metadata": {},
   "source": [
    "## GridSearch For Logistic Regression HyperParameters Tuning"
   ]
  },
  {
   "cell_type": "code",
   "execution_count": 33,
   "id": "978ca3f4",
   "metadata": {},
   "outputs": [],
   "source": [
    "import numpy as np\n",
    "from sklearn.model_selection import GridSearchCV,RandomizedSearchCV\n",
    "from sklearn.linear_model import LogisticRegression"
   ]
  },
  {
   "cell_type": "code",
   "execution_count": 34,
   "id": "0f01783f",
   "metadata": {},
   "outputs": [],
   "source": [
    "train = X_train_tsvd.copy()\n",
    "test = X_test_tsvd.copy()"
   ]
  },
  {
   "cell_type": "code",
   "execution_count": 35,
   "id": "aac9b244",
   "metadata": {},
   "outputs": [],
   "source": [
    "model = LogisticRegression(solver = \"liblinear\")"
   ]
  },
  {
   "cell_type": "code",
   "execution_count": 36,
   "id": "40466882",
   "metadata": {},
   "outputs": [],
   "source": [
    "penalty = [\"l1\",\"l2\"]\n",
    "C = np.logspace(0,4,10)\n",
    "max_iter = [100,500]"
   ]
  },
  {
   "cell_type": "code",
   "execution_count": 37,
   "id": "580d082a",
   "metadata": {},
   "outputs": [
    {
     "data": {
      "text/plain": [
       "{'penalty': ['l1', 'l2'],\n",
       " 'C': array([1.00000000e+00, 2.78255940e+00, 7.74263683e+00, 2.15443469e+01,\n",
       "        5.99484250e+01, 1.66810054e+02, 4.64158883e+02, 1.29154967e+03,\n",
       "        3.59381366e+03, 1.00000000e+04]),\n",
       " 'max_iter': [100, 500]}"
      ]
     },
     "execution_count": 37,
     "metadata": {},
     "output_type": "execute_result"
    }
   ],
   "source": [
    "hyperparameters = dict(penalty = penalty, C = C, max_iter = max_iter)\n",
    "hyperparameters"
   ]
  },
  {
   "cell_type": "code",
   "execution_count": 38,
   "id": "35152766",
   "metadata": {},
   "outputs": [],
   "source": [
    "best_grid = GridSearchCV(estimator=model,\n",
    "                         param_grid= hyperparameters,\n",
    "                         n_jobs=-1,\n",
    "                         verbose=0,\n",
    "                         cv = 5,\n",
    "                         scoring= \"accuracy\").fit(train, y_train)"
   ]
  },
  {
   "cell_type": "code",
   "execution_count": 39,
   "id": "a339d314",
   "metadata": {},
   "outputs": [
    {
     "data": {
      "text/plain": [
       "{'C': 2.7825594022071245, 'max_iter': 100, 'penalty': 'l2'}"
      ]
     },
     "execution_count": 39,
     "metadata": {},
     "output_type": "execute_result"
    }
   ],
   "source": [
    "best_grid.best_params_"
   ]
  },
  {
   "cell_type": "code",
   "execution_count": 40,
   "id": "5bcf0ba6",
   "metadata": {},
   "outputs": [
    {
     "data": {
      "text/plain": [
       "LogisticRegression(C=2.7825594022071245, solver='liblinear')"
      ]
     },
     "execution_count": 40,
     "metadata": {},
     "output_type": "execute_result"
    }
   ],
   "source": [
    "best_grid.best_estimator_"
   ]
  },
  {
   "cell_type": "code",
   "execution_count": 41,
   "id": "54b20e89",
   "metadata": {},
   "outputs": [
    {
     "name": "stdout",
     "output_type": "stream",
     "text": [
      "              precision    recall  f1-score   support\n",
      "\n",
      "           0       0.74      0.73      0.73      3000\n",
      "           1       0.73      0.75      0.74      3000\n",
      "\n",
      "    accuracy                           0.74      6000\n",
      "   macro avg       0.74      0.74      0.74      6000\n",
      "weighted avg       0.74      0.74      0.74      6000\n",
      "\n"
     ]
    }
   ],
   "source": [
    "y_pred = best_grid.predict(test)\n",
    "print(classification_report(y_test,y_pred))"
   ]
  },
  {
   "cell_type": "code",
   "execution_count": 42,
   "id": "f9ac7a60",
   "metadata": {},
   "outputs": [
    {
     "data": {
      "text/plain": [
       "{'mean_fit_time': array([2.27310109, 1.68912268, 2.17653861, 1.72087698, 2.59303317,\n",
       "        2.26724677, 2.39183235, 2.29484634, 2.43945127, 2.71879902,\n",
       "        2.79291348, 2.79515843, 2.59631777, 2.95721641, 2.59473624,\n",
       "        2.90127726, 2.59772992, 3.18376508, 2.80932779, 3.16676898,\n",
       "        2.93237042, 3.16134315, 2.63916216, 3.0712461 , 2.72243242,\n",
       "        3.36271706, 2.93576059, 3.36351504, 2.79816551, 3.3838192 ,\n",
       "        2.75814419, 3.331811  , 2.70543404, 3.35479722, 2.96279202,\n",
       "        3.31807675, 2.86026697, 3.40303712, 2.83250399, 3.0511848 ]),\n",
       " 'std_fit_time': array([0.12855655, 0.07715574, 0.16191524, 0.01529905, 0.22569754,\n",
       "        0.17452495, 0.19169113, 0.15136724, 0.14879996, 0.09770924,\n",
       "        0.19063956, 0.0612842 , 0.17085343, 0.12111569, 0.25469827,\n",
       "        0.11044306, 0.14550115, 0.07253506, 0.29501206, 0.13695923,\n",
       "        0.16045726, 0.14078523, 0.26720667, 0.15497506, 0.33080503,\n",
       "        0.19186775, 0.21609552, 0.21005908, 0.15355441, 0.21163235,\n",
       "        0.25256866, 0.26931627, 0.13044744, 0.26853668, 0.17126213,\n",
       "        0.22732244, 0.21463165, 0.21625203, 0.16077852, 0.21859655]),\n",
       " 'mean_score_time': array([0.0072309 , 0.00431018, 0.00795503, 0.00652375, 0.00514388,\n",
       "        0.00610609, 0.00636024, 0.00473781, 0.00550284, 0.00841241,\n",
       "        0.00690131, 0.00551019, 0.00618305, 0.00661135, 0.00557299,\n",
       "        0.00540676, 0.00672879, 0.00524149, 0.00722537, 0.00652328,\n",
       "        0.00728498, 0.00695386, 0.00653157, 0.00630679, 0.00494509,\n",
       "        0.00586519, 0.00509286, 0.00776167, 0.00730748, 0.0046145 ,\n",
       "        0.00580473, 0.00674167, 0.00719523, 0.00740118, 0.00650125,\n",
       "        0.00499296, 0.00606661, 0.00742807, 0.00614505, 0.00327249]),\n",
       " 'std_score_time': array([0.00252373, 0.00170298, 0.00220645, 0.00254859, 0.00087737,\n",
       "        0.00192809, 0.00179521, 0.00125259, 0.00096853, 0.00327646,\n",
       "        0.00178496, 0.00186942, 0.00196615, 0.00210429, 0.00152098,\n",
       "        0.00086506, 0.00164129, 0.00142821, 0.00213954, 0.00155422,\n",
       "        0.00132784, 0.00403915, 0.00244162, 0.00259818, 0.00062799,\n",
       "        0.00144318, 0.00146378, 0.00432755, 0.0013774 , 0.00094504,\n",
       "        0.00147802, 0.00282537, 0.00177862, 0.003104  , 0.00193637,\n",
       "        0.00163635, 0.00226648, 0.0034044 , 0.00249582, 0.00096376]),\n",
       " 'param_C': masked_array(data=[1.0, 1.0, 1.0, 1.0, 2.7825594022071245,\n",
       "                    2.7825594022071245, 2.7825594022071245,\n",
       "                    2.7825594022071245, 7.742636826811269,\n",
       "                    7.742636826811269, 7.742636826811269,\n",
       "                    7.742636826811269, 21.544346900318832,\n",
       "                    21.544346900318832, 21.544346900318832,\n",
       "                    21.544346900318832, 59.94842503189409,\n",
       "                    59.94842503189409, 59.94842503189409,\n",
       "                    59.94842503189409, 166.81005372000593,\n",
       "                    166.81005372000593, 166.81005372000593,\n",
       "                    166.81005372000593, 464.15888336127773,\n",
       "                    464.15888336127773, 464.15888336127773,\n",
       "                    464.15888336127773, 1291.5496650148827,\n",
       "                    1291.5496650148827, 1291.5496650148827,\n",
       "                    1291.5496650148827, 3593.813663804626,\n",
       "                    3593.813663804626, 3593.813663804626,\n",
       "                    3593.813663804626, 10000.0, 10000.0, 10000.0, 10000.0],\n",
       "              mask=[False, False, False, False, False, False, False, False,\n",
       "                    False, False, False, False, False, False, False, False,\n",
       "                    False, False, False, False, False, False, False, False,\n",
       "                    False, False, False, False, False, False, False, False,\n",
       "                    False, False, False, False, False, False, False, False],\n",
       "        fill_value='?',\n",
       "             dtype=object),\n",
       " 'param_max_iter': masked_array(data=[100, 100, 500, 500, 100, 100, 500, 500, 100, 100, 500,\n",
       "                    500, 100, 100, 500, 500, 100, 100, 500, 500, 100, 100,\n",
       "                    500, 500, 100, 100, 500, 500, 100, 100, 500, 500, 100,\n",
       "                    100, 500, 500, 100, 100, 500, 500],\n",
       "              mask=[False, False, False, False, False, False, False, False,\n",
       "                    False, False, False, False, False, False, False, False,\n",
       "                    False, False, False, False, False, False, False, False,\n",
       "                    False, False, False, False, False, False, False, False,\n",
       "                    False, False, False, False, False, False, False, False],\n",
       "        fill_value='?',\n",
       "             dtype=object),\n",
       " 'param_penalty': masked_array(data=['l1', 'l2', 'l1', 'l2', 'l1', 'l2', 'l1', 'l2', 'l1',\n",
       "                    'l2', 'l1', 'l2', 'l1', 'l2', 'l1', 'l2', 'l1', 'l2',\n",
       "                    'l1', 'l2', 'l1', 'l2', 'l1', 'l2', 'l1', 'l2', 'l1',\n",
       "                    'l2', 'l1', 'l2', 'l1', 'l2', 'l1', 'l2', 'l1', 'l2',\n",
       "                    'l1', 'l2', 'l1', 'l2'],\n",
       "              mask=[False, False, False, False, False, False, False, False,\n",
       "                    False, False, False, False, False, False, False, False,\n",
       "                    False, False, False, False, False, False, False, False,\n",
       "                    False, False, False, False, False, False, False, False,\n",
       "                    False, False, False, False, False, False, False, False],\n",
       "        fill_value='?',\n",
       "             dtype=object),\n",
       " 'params': [{'C': 1.0, 'max_iter': 100, 'penalty': 'l1'},\n",
       "  {'C': 1.0, 'max_iter': 100, 'penalty': 'l2'},\n",
       "  {'C': 1.0, 'max_iter': 500, 'penalty': 'l1'},\n",
       "  {'C': 1.0, 'max_iter': 500, 'penalty': 'l2'},\n",
       "  {'C': 2.7825594022071245, 'max_iter': 100, 'penalty': 'l1'},\n",
       "  {'C': 2.7825594022071245, 'max_iter': 100, 'penalty': 'l2'},\n",
       "  {'C': 2.7825594022071245, 'max_iter': 500, 'penalty': 'l1'},\n",
       "  {'C': 2.7825594022071245, 'max_iter': 500, 'penalty': 'l2'},\n",
       "  {'C': 7.742636826811269, 'max_iter': 100, 'penalty': 'l1'},\n",
       "  {'C': 7.742636826811269, 'max_iter': 100, 'penalty': 'l2'},\n",
       "  {'C': 7.742636826811269, 'max_iter': 500, 'penalty': 'l1'},\n",
       "  {'C': 7.742636826811269, 'max_iter': 500, 'penalty': 'l2'},\n",
       "  {'C': 21.544346900318832, 'max_iter': 100, 'penalty': 'l1'},\n",
       "  {'C': 21.544346900318832, 'max_iter': 100, 'penalty': 'l2'},\n",
       "  {'C': 21.544346900318832, 'max_iter': 500, 'penalty': 'l1'},\n",
       "  {'C': 21.544346900318832, 'max_iter': 500, 'penalty': 'l2'},\n",
       "  {'C': 59.94842503189409, 'max_iter': 100, 'penalty': 'l1'},\n",
       "  {'C': 59.94842503189409, 'max_iter': 100, 'penalty': 'l2'},\n",
       "  {'C': 59.94842503189409, 'max_iter': 500, 'penalty': 'l1'},\n",
       "  {'C': 59.94842503189409, 'max_iter': 500, 'penalty': 'l2'},\n",
       "  {'C': 166.81005372000593, 'max_iter': 100, 'penalty': 'l1'},\n",
       "  {'C': 166.81005372000593, 'max_iter': 100, 'penalty': 'l2'},\n",
       "  {'C': 166.81005372000593, 'max_iter': 500, 'penalty': 'l1'},\n",
       "  {'C': 166.81005372000593, 'max_iter': 500, 'penalty': 'l2'},\n",
       "  {'C': 464.15888336127773, 'max_iter': 100, 'penalty': 'l1'},\n",
       "  {'C': 464.15888336127773, 'max_iter': 100, 'penalty': 'l2'},\n",
       "  {'C': 464.15888336127773, 'max_iter': 500, 'penalty': 'l1'},\n",
       "  {'C': 464.15888336127773, 'max_iter': 500, 'penalty': 'l2'},\n",
       "  {'C': 1291.5496650148827, 'max_iter': 100, 'penalty': 'l1'},\n",
       "  {'C': 1291.5496650148827, 'max_iter': 100, 'penalty': 'l2'},\n",
       "  {'C': 1291.5496650148827, 'max_iter': 500, 'penalty': 'l1'},\n",
       "  {'C': 1291.5496650148827, 'max_iter': 500, 'penalty': 'l2'},\n",
       "  {'C': 3593.813663804626, 'max_iter': 100, 'penalty': 'l1'},\n",
       "  {'C': 3593.813663804626, 'max_iter': 100, 'penalty': 'l2'},\n",
       "  {'C': 3593.813663804626, 'max_iter': 500, 'penalty': 'l1'},\n",
       "  {'C': 3593.813663804626, 'max_iter': 500, 'penalty': 'l2'},\n",
       "  {'C': 10000.0, 'max_iter': 100, 'penalty': 'l1'},\n",
       "  {'C': 10000.0, 'max_iter': 100, 'penalty': 'l2'},\n",
       "  {'C': 10000.0, 'max_iter': 500, 'penalty': 'l1'},\n",
       "  {'C': 10000.0, 'max_iter': 500, 'penalty': 'l2'}],\n",
       " 'split0_test_score': array([0.74916667, 0.750625  , 0.74916667, 0.750625  , 0.74729167,\n",
       "        0.74770833, 0.74729167, 0.74770833, 0.74625   , 0.74729167,\n",
       "        0.74625   , 0.74729167, 0.74729167, 0.746875  , 0.74729167,\n",
       "        0.746875  , 0.7475    , 0.74729167, 0.7475    , 0.74729167,\n",
       "        0.74708333, 0.74708333, 0.746875  , 0.74708333, 0.746875  ,\n",
       "        0.74708333, 0.746875  , 0.74708333, 0.746875  , 0.746875  ,\n",
       "        0.746875  , 0.746875  , 0.746875  , 0.746875  , 0.746875  ,\n",
       "        0.746875  , 0.746875  , 0.746875  , 0.746875  , 0.746875  ]),\n",
       " 'split1_test_score': array([0.74958333, 0.74895833, 0.74958333, 0.74895833, 0.74979167,\n",
       "        0.75125   , 0.74979167, 0.75125   , 0.75125   , 0.75208333,\n",
       "        0.75125   , 0.75208333, 0.75145833, 0.75229167, 0.75145833,\n",
       "        0.75229167, 0.75125   , 0.751875  , 0.75125   , 0.751875  ,\n",
       "        0.75145833, 0.75166667, 0.75145833, 0.75166667, 0.75145833,\n",
       "        0.751875  , 0.75145833, 0.751875  , 0.75145833, 0.75145833,\n",
       "        0.75145833, 0.75145833, 0.75145833, 0.75145833, 0.75145833,\n",
       "        0.75145833, 0.75145833, 0.75145833, 0.75145833, 0.75145833]),\n",
       " 'split2_test_score': array([0.74145833, 0.73729167, 0.74145833, 0.73729167, 0.73979167,\n",
       "        0.73875   , 0.74      , 0.73875   , 0.74020833, 0.74020833,\n",
       "        0.74041667, 0.74020833, 0.74020833, 0.74104167, 0.74      ,\n",
       "        0.74104167, 0.739375  , 0.74020833, 0.739375  , 0.74020833,\n",
       "        0.739375  , 0.739375  , 0.739375  , 0.739375  , 0.73958333,\n",
       "        0.739375  , 0.73958333, 0.739375  , 0.73979167, 0.73958333,\n",
       "        0.73979167, 0.73958333, 0.73979167, 0.73979167, 0.73979167,\n",
       "        0.73979167, 0.73979167, 0.73979167, 0.73979167, 0.73979167]),\n",
       " 'split3_test_score': array([0.741875  , 0.745     , 0.74208333, 0.745     , 0.74208333,\n",
       "        0.744375  , 0.74208333, 0.744375  , 0.74208333, 0.74229167,\n",
       "        0.74208333, 0.74229167, 0.74125   , 0.7425    , 0.74125   ,\n",
       "        0.7425    , 0.741875  , 0.74166667, 0.741875  , 0.74166667,\n",
       "        0.74208333, 0.74208333, 0.74208333, 0.74208333, 0.74208333,\n",
       "        0.741875  , 0.74208333, 0.741875  , 0.74208333, 0.74208333,\n",
       "        0.74208333, 0.74208333, 0.74208333, 0.74208333, 0.74208333,\n",
       "        0.74208333, 0.74208333, 0.74208333, 0.74208333, 0.74208333]),\n",
       " 'split4_test_score': array([0.75229167, 0.755625  , 0.75229167, 0.755625  , 0.75333333,\n",
       "        0.75645833, 0.75333333, 0.75645833, 0.75541667, 0.75458333,\n",
       "        0.755625  , 0.75458333, 0.75520833, 0.75458333, 0.75520833,\n",
       "        0.75458333, 0.75458333, 0.75458333, 0.75458333, 0.75458333,\n",
       "        0.75458333, 0.75479167, 0.75458333, 0.75479167, 0.75458333,\n",
       "        0.75458333, 0.75458333, 0.75458333, 0.754375  , 0.75458333,\n",
       "        0.75458333, 0.75458333, 0.754375  , 0.754375  , 0.754375  ,\n",
       "        0.754375  , 0.754375  , 0.754375  , 0.754375  , 0.754375  ]),\n",
       " 'mean_test_score': array([0.746875  , 0.7475    , 0.74691667, 0.7475    , 0.74645833,\n",
       "        0.74770833, 0.7465    , 0.74770833, 0.74704167, 0.74729167,\n",
       "        0.747125  , 0.74729167, 0.74708333, 0.74745833, 0.74704167,\n",
       "        0.74745833, 0.74691667, 0.747125  , 0.74691667, 0.747125  ,\n",
       "        0.74691667, 0.747     , 0.746875  , 0.747     , 0.74691667,\n",
       "        0.74695833, 0.74691667, 0.74695833, 0.74691667, 0.74691667,\n",
       "        0.74695833, 0.74691667, 0.74691667, 0.74691667, 0.74691667,\n",
       "        0.74691667, 0.74691667, 0.74691667, 0.74691667, 0.74691667]),\n",
       " 'std_test_score': array([0.00438788, 0.00613788, 0.00434094, 0.00613788, 0.0049529 ,\n",
       "        0.00600781, 0.00489721, 0.00600781, 0.00565256, 0.00550095,\n",
       "        0.00566483, 0.00550095, 0.00577049, 0.00529577, 0.00582052,\n",
       "        0.00529577, 0.00566023, 0.00558302, 0.00566023, 0.00558302,\n",
       "        0.00565102, 0.00574124, 0.00565041, 0.00574124, 0.00559545,\n",
       "        0.00575634, 0.00559545, 0.00575634, 0.00548419, 0.00559545,\n",
       "        0.0055412 , 0.00559545, 0.00548419, 0.00548419, 0.00548419,\n",
       "        0.00548419, 0.00548419, 0.00548419, 0.00548419, 0.00548419]),\n",
       " 'rank_test_score': array([37,  3, 20,  3, 40,  1, 39,  1, 13,  7,  9,  7, 12,  5, 13,  5, 20,\n",
       "         9, 20,  9, 20, 15, 37, 15, 20, 18, 20, 18, 20, 20, 17, 20, 20, 20,\n",
       "        20, 20, 20, 20, 20, 20], dtype=int32)}"
      ]
     },
     "execution_count": 42,
     "metadata": {},
     "output_type": "execute_result"
    }
   ],
   "source": [
    "best_grid.cv_results_"
   ]
  },
  {
   "cell_type": "code",
   "execution_count": 43,
   "id": "1eeb8d39",
   "metadata": {
    "scrolled": true
   },
   "outputs": [
    {
     "data": {
      "text/plain": [
       "array([0.746875  , 0.7475    , 0.74691667, 0.7475    , 0.74645833,\n",
       "       0.74770833, 0.7465    , 0.74770833, 0.74704167, 0.74729167,\n",
       "       0.747125  , 0.74729167, 0.74708333, 0.74745833, 0.74704167,\n",
       "       0.74745833, 0.74691667, 0.747125  , 0.74691667, 0.747125  ,\n",
       "       0.74691667, 0.747     , 0.746875  , 0.747     , 0.74691667,\n",
       "       0.74695833, 0.74691667, 0.74695833, 0.74691667, 0.74691667,\n",
       "       0.74695833, 0.74691667, 0.74691667, 0.74691667, 0.74691667,\n",
       "       0.74691667, 0.74691667, 0.74691667, 0.74691667, 0.74691667])"
      ]
     },
     "execution_count": 43,
     "metadata": {},
     "output_type": "execute_result"
    }
   ],
   "source": [
    "best_grid.cv_results_[\"mean_test_score\"]"
   ]
  },
  {
   "cell_type": "code",
   "execution_count": 44,
   "id": "b33a10c5",
   "metadata": {
    "scrolled": true
   },
   "outputs": [
    {
     "data": {
      "text/plain": [
       "[{'C': 1.0, 'max_iter': 100, 'penalty': 'l1'},\n",
       " {'C': 1.0, 'max_iter': 100, 'penalty': 'l2'},\n",
       " {'C': 1.0, 'max_iter': 500, 'penalty': 'l1'},\n",
       " {'C': 1.0, 'max_iter': 500, 'penalty': 'l2'},\n",
       " {'C': 2.7825594022071245, 'max_iter': 100, 'penalty': 'l1'},\n",
       " {'C': 2.7825594022071245, 'max_iter': 100, 'penalty': 'l2'},\n",
       " {'C': 2.7825594022071245, 'max_iter': 500, 'penalty': 'l1'},\n",
       " {'C': 2.7825594022071245, 'max_iter': 500, 'penalty': 'l2'},\n",
       " {'C': 7.742636826811269, 'max_iter': 100, 'penalty': 'l1'},\n",
       " {'C': 7.742636826811269, 'max_iter': 100, 'penalty': 'l2'},\n",
       " {'C': 7.742636826811269, 'max_iter': 500, 'penalty': 'l1'},\n",
       " {'C': 7.742636826811269, 'max_iter': 500, 'penalty': 'l2'},\n",
       " {'C': 21.544346900318832, 'max_iter': 100, 'penalty': 'l1'},\n",
       " {'C': 21.544346900318832, 'max_iter': 100, 'penalty': 'l2'},\n",
       " {'C': 21.544346900318832, 'max_iter': 500, 'penalty': 'l1'},\n",
       " {'C': 21.544346900318832, 'max_iter': 500, 'penalty': 'l2'},\n",
       " {'C': 59.94842503189409, 'max_iter': 100, 'penalty': 'l1'},\n",
       " {'C': 59.94842503189409, 'max_iter': 100, 'penalty': 'l2'},\n",
       " {'C': 59.94842503189409, 'max_iter': 500, 'penalty': 'l1'},\n",
       " {'C': 59.94842503189409, 'max_iter': 500, 'penalty': 'l2'},\n",
       " {'C': 166.81005372000593, 'max_iter': 100, 'penalty': 'l1'},\n",
       " {'C': 166.81005372000593, 'max_iter': 100, 'penalty': 'l2'},\n",
       " {'C': 166.81005372000593, 'max_iter': 500, 'penalty': 'l1'},\n",
       " {'C': 166.81005372000593, 'max_iter': 500, 'penalty': 'l2'},\n",
       " {'C': 464.15888336127773, 'max_iter': 100, 'penalty': 'l1'},\n",
       " {'C': 464.15888336127773, 'max_iter': 100, 'penalty': 'l2'},\n",
       " {'C': 464.15888336127773, 'max_iter': 500, 'penalty': 'l1'},\n",
       " {'C': 464.15888336127773, 'max_iter': 500, 'penalty': 'l2'},\n",
       " {'C': 1291.5496650148827, 'max_iter': 100, 'penalty': 'l1'},\n",
       " {'C': 1291.5496650148827, 'max_iter': 100, 'penalty': 'l2'},\n",
       " {'C': 1291.5496650148827, 'max_iter': 500, 'penalty': 'l1'},\n",
       " {'C': 1291.5496650148827, 'max_iter': 500, 'penalty': 'l2'},\n",
       " {'C': 3593.813663804626, 'max_iter': 100, 'penalty': 'l1'},\n",
       " {'C': 3593.813663804626, 'max_iter': 100, 'penalty': 'l2'},\n",
       " {'C': 3593.813663804626, 'max_iter': 500, 'penalty': 'l1'},\n",
       " {'C': 3593.813663804626, 'max_iter': 500, 'penalty': 'l2'},\n",
       " {'C': 10000.0, 'max_iter': 100, 'penalty': 'l1'},\n",
       " {'C': 10000.0, 'max_iter': 100, 'penalty': 'l2'},\n",
       " {'C': 10000.0, 'max_iter': 500, 'penalty': 'l1'},\n",
       " {'C': 10000.0, 'max_iter': 500, 'penalty': 'l2'}]"
      ]
     },
     "execution_count": 44,
     "metadata": {},
     "output_type": "execute_result"
    }
   ],
   "source": [
    "best_grid.cv_results_[\"params\"]"
   ]
  },
  {
   "cell_type": "markdown",
   "id": "75c57270",
   "metadata": {},
   "source": [
    "## GridSearch For SVM HyperParameters Tuning"
   ]
  },
  {
   "cell_type": "code",
   "execution_count": 45,
   "id": "28a3681e",
   "metadata": {},
   "outputs": [],
   "source": [
    "from sklearn.svm import SVC"
   ]
  },
  {
   "cell_type": "code",
   "execution_count": 46,
   "id": "db72ee48",
   "metadata": {},
   "outputs": [],
   "source": [
    "hyperparameters = [ \n",
    "     {\"kernel\" : [\"rbf\"],\n",
    "      \"gamma\" : [1e-1,1e-2,1e-3,1e-4,1e-5],\n",
    "      \"C\" : [1, 10, 100, 500, 1000],\n",
    "      \"degree\" : [2,3,4,5]},\n",
    "\n",
    "     {\"kernel\" : [\"linear\"],\n",
    "      \"C\" : [1, 10, 100, 500, 1000]}]"
   ]
  },
  {
   "cell_type": "code",
   "execution_count": 47,
   "id": "337b937f",
   "metadata": {},
   "outputs": [
    {
     "data": {
      "text/plain": [
       "[{'kernel': ['rbf'],\n",
       "  'gamma': [0.1, 0.01, 0.001, 0.0001, 1e-05],\n",
       "  'C': [1, 10, 100, 500, 1000],\n",
       "  'degree': [2, 3, 4, 5]},\n",
       " {'kernel': ['linear'], 'C': [1, 10, 100, 500, 1000]}]"
      ]
     },
     "execution_count": 47,
     "metadata": {},
     "output_type": "execute_result"
    }
   ],
   "source": [
    "hyperparameters"
   ]
  },
  {
   "cell_type": "code",
   "execution_count": 48,
   "id": "6ad5320e",
   "metadata": {},
   "outputs": [],
   "source": [
    "from sklearn import datasets\n",
    "\n",
    "\n",
    "iris= datasets.load_iris()\n",
    "X = iris.data\n",
    "y = iris.target"
   ]
  },
  {
   "cell_type": "code",
   "execution_count": 49,
   "id": "e7f9e502",
   "metadata": {},
   "outputs": [],
   "source": [
    "X_train,X_test,y_train,y_test = train_test_split(X,y , random_state=0,stratify=y,test_size=0.2)"
   ]
  },
  {
   "cell_type": "code",
   "execution_count": 50,
   "id": "165502bc",
   "metadata": {},
   "outputs": [],
   "source": [
    "scores = [\"precision\",\"recall\"]\n",
    "\n",
    "def run_tuning(model,X_train,X_test,y_train,y_test, hyperparameters, scores, cv = 5):\n",
    "    \n",
    "    for score in scores:\n",
    "        \n",
    "        print(\"Tuning HyperParamters For %s\" % score.upper())\n",
    "        print()\n",
    "        \n",
    "        best_grid = GridSearchCV(estimator=model, \n",
    "                                 param_grid=hyperparameters, \n",
    "                                 n_jobs=-1,\n",
    "                                 verbose=0,\n",
    "                                 cv = cv,\n",
    "                                 scoring=\"%s_macro\" % score).fit(X_train,y_train)\n",
    "        \n",
    "        print(\"Best Parameters Set Found: \",end = \"\\n\\n\" )\n",
    "        print(best_grid.best_params_)\n",
    "        \n",
    "        print(\"Grid Scores In Process : \",end = \"\\n\\n\")\n",
    "        means = best_grid.cv_results_[\"mean_test_score\"]\n",
    "        \n",
    "        for mean, params in zip(means,best_grid.cv_results_[\"params\"]):\n",
    "            print(\"%0.3f for %r\" % (mean,params))\n",
    "        \n",
    "        print(\"\",end = \"\\n\\n\")\n",
    "            \n",
    "        print(\"Detailed Classification Report\")\n",
    "        y_pred = best_grid.predict(X_test)\n",
    "        print(classification_report(y_test,y_pred))"
   ]
  },
  {
   "cell_type": "code",
   "execution_count": 51,
   "id": "427cc8bc",
   "metadata": {},
   "outputs": [
    {
     "name": "stdout",
     "output_type": "stream",
     "text": [
      "Tuning HyperParamters For PRECISION\n",
      "\n",
      "Best Parameters Set Found: \n",
      "\n",
      "{'C': 1, 'kernel': 'linear'}\n",
      "Grid Scores In Process : \n",
      "\n",
      "0.957 for {'C': 1, 'degree': 2, 'gamma': 0.1, 'kernel': 'rbf'}\n",
      "0.920 for {'C': 1, 'degree': 2, 'gamma': 0.01, 'kernel': 'rbf'}\n",
      "0.925 for {'C': 1, 'degree': 2, 'gamma': 0.001, 'kernel': 'rbf'}\n",
      "0.925 for {'C': 1, 'degree': 2, 'gamma': 0.0001, 'kernel': 'rbf'}\n",
      "0.925 for {'C': 1, 'degree': 2, 'gamma': 1e-05, 'kernel': 'rbf'}\n",
      "0.957 for {'C': 1, 'degree': 3, 'gamma': 0.1, 'kernel': 'rbf'}\n",
      "0.920 for {'C': 1, 'degree': 3, 'gamma': 0.01, 'kernel': 'rbf'}\n",
      "0.925 for {'C': 1, 'degree': 3, 'gamma': 0.001, 'kernel': 'rbf'}\n",
      "0.925 for {'C': 1, 'degree': 3, 'gamma': 0.0001, 'kernel': 'rbf'}\n",
      "0.925 for {'C': 1, 'degree': 3, 'gamma': 1e-05, 'kernel': 'rbf'}\n",
      "0.957 for {'C': 1, 'degree': 4, 'gamma': 0.1, 'kernel': 'rbf'}\n",
      "0.920 for {'C': 1, 'degree': 4, 'gamma': 0.01, 'kernel': 'rbf'}\n",
      "0.925 for {'C': 1, 'degree': 4, 'gamma': 0.001, 'kernel': 'rbf'}\n",
      "0.925 for {'C': 1, 'degree': 4, 'gamma': 0.0001, 'kernel': 'rbf'}\n",
      "0.925 for {'C': 1, 'degree': 4, 'gamma': 1e-05, 'kernel': 'rbf'}\n",
      "0.957 for {'C': 1, 'degree': 5, 'gamma': 0.1, 'kernel': 'rbf'}\n",
      "0.920 for {'C': 1, 'degree': 5, 'gamma': 0.01, 'kernel': 'rbf'}\n",
      "0.925 for {'C': 1, 'degree': 5, 'gamma': 0.001, 'kernel': 'rbf'}\n",
      "0.925 for {'C': 1, 'degree': 5, 'gamma': 0.0001, 'kernel': 'rbf'}\n",
      "0.925 for {'C': 1, 'degree': 5, 'gamma': 1e-05, 'kernel': 'rbf'}\n",
      "0.970 for {'C': 10, 'degree': 2, 'gamma': 0.1, 'kernel': 'rbf'}\n",
      "0.957 for {'C': 10, 'degree': 2, 'gamma': 0.01, 'kernel': 'rbf'}\n",
      "0.920 for {'C': 10, 'degree': 2, 'gamma': 0.001, 'kernel': 'rbf'}\n",
      "0.925 for {'C': 10, 'degree': 2, 'gamma': 0.0001, 'kernel': 'rbf'}\n",
      "0.925 for {'C': 10, 'degree': 2, 'gamma': 1e-05, 'kernel': 'rbf'}\n",
      "0.970 for {'C': 10, 'degree': 3, 'gamma': 0.1, 'kernel': 'rbf'}\n",
      "0.957 for {'C': 10, 'degree': 3, 'gamma': 0.01, 'kernel': 'rbf'}\n",
      "0.920 for {'C': 10, 'degree': 3, 'gamma': 0.001, 'kernel': 'rbf'}\n",
      "0.925 for {'C': 10, 'degree': 3, 'gamma': 0.0001, 'kernel': 'rbf'}\n",
      "0.925 for {'C': 10, 'degree': 3, 'gamma': 1e-05, 'kernel': 'rbf'}\n",
      "0.970 for {'C': 10, 'degree': 4, 'gamma': 0.1, 'kernel': 'rbf'}\n",
      "0.957 for {'C': 10, 'degree': 4, 'gamma': 0.01, 'kernel': 'rbf'}\n",
      "0.920 for {'C': 10, 'degree': 4, 'gamma': 0.001, 'kernel': 'rbf'}\n",
      "0.925 for {'C': 10, 'degree': 4, 'gamma': 0.0001, 'kernel': 'rbf'}\n",
      "0.925 for {'C': 10, 'degree': 4, 'gamma': 1e-05, 'kernel': 'rbf'}\n",
      "0.970 for {'C': 10, 'degree': 5, 'gamma': 0.1, 'kernel': 'rbf'}\n",
      "0.957 for {'C': 10, 'degree': 5, 'gamma': 0.01, 'kernel': 'rbf'}\n",
      "0.920 for {'C': 10, 'degree': 5, 'gamma': 0.001, 'kernel': 'rbf'}\n",
      "0.925 for {'C': 10, 'degree': 5, 'gamma': 0.0001, 'kernel': 'rbf'}\n",
      "0.925 for {'C': 10, 'degree': 5, 'gamma': 1e-05, 'kernel': 'rbf'}\n",
      "0.961 for {'C': 100, 'degree': 2, 'gamma': 0.1, 'kernel': 'rbf'}\n",
      "0.970 for {'C': 100, 'degree': 2, 'gamma': 0.01, 'kernel': 'rbf'}\n",
      "0.957 for {'C': 100, 'degree': 2, 'gamma': 0.001, 'kernel': 'rbf'}\n",
      "0.920 for {'C': 100, 'degree': 2, 'gamma': 0.0001, 'kernel': 'rbf'}\n",
      "0.925 for {'C': 100, 'degree': 2, 'gamma': 1e-05, 'kernel': 'rbf'}\n",
      "0.961 for {'C': 100, 'degree': 3, 'gamma': 0.1, 'kernel': 'rbf'}\n",
      "0.970 for {'C': 100, 'degree': 3, 'gamma': 0.01, 'kernel': 'rbf'}\n",
      "0.957 for {'C': 100, 'degree': 3, 'gamma': 0.001, 'kernel': 'rbf'}\n",
      "0.920 for {'C': 100, 'degree': 3, 'gamma': 0.0001, 'kernel': 'rbf'}\n",
      "0.925 for {'C': 100, 'degree': 3, 'gamma': 1e-05, 'kernel': 'rbf'}\n",
      "0.961 for {'C': 100, 'degree': 4, 'gamma': 0.1, 'kernel': 'rbf'}\n",
      "0.970 for {'C': 100, 'degree': 4, 'gamma': 0.01, 'kernel': 'rbf'}\n",
      "0.957 for {'C': 100, 'degree': 4, 'gamma': 0.001, 'kernel': 'rbf'}\n",
      "0.920 for {'C': 100, 'degree': 4, 'gamma': 0.0001, 'kernel': 'rbf'}\n",
      "0.925 for {'C': 100, 'degree': 4, 'gamma': 1e-05, 'kernel': 'rbf'}\n",
      "0.961 for {'C': 100, 'degree': 5, 'gamma': 0.1, 'kernel': 'rbf'}\n",
      "0.970 for {'C': 100, 'degree': 5, 'gamma': 0.01, 'kernel': 'rbf'}\n",
      "0.957 for {'C': 100, 'degree': 5, 'gamma': 0.001, 'kernel': 'rbf'}\n",
      "0.920 for {'C': 100, 'degree': 5, 'gamma': 0.0001, 'kernel': 'rbf'}\n",
      "0.925 for {'C': 100, 'degree': 5, 'gamma': 1e-05, 'kernel': 'rbf'}\n",
      "0.961 for {'C': 500, 'degree': 2, 'gamma': 0.1, 'kernel': 'rbf'}\n",
      "0.970 for {'C': 500, 'degree': 2, 'gamma': 0.01, 'kernel': 'rbf'}\n",
      "0.970 for {'C': 500, 'degree': 2, 'gamma': 0.001, 'kernel': 'rbf'}\n",
      "0.939 for {'C': 500, 'degree': 2, 'gamma': 0.0001, 'kernel': 'rbf'}\n",
      "0.922 for {'C': 500, 'degree': 2, 'gamma': 1e-05, 'kernel': 'rbf'}\n",
      "0.961 for {'C': 500, 'degree': 3, 'gamma': 0.1, 'kernel': 'rbf'}\n",
      "0.970 for {'C': 500, 'degree': 3, 'gamma': 0.01, 'kernel': 'rbf'}\n",
      "0.970 for {'C': 500, 'degree': 3, 'gamma': 0.001, 'kernel': 'rbf'}\n",
      "0.939 for {'C': 500, 'degree': 3, 'gamma': 0.0001, 'kernel': 'rbf'}\n",
      "0.922 for {'C': 500, 'degree': 3, 'gamma': 1e-05, 'kernel': 'rbf'}\n",
      "0.961 for {'C': 500, 'degree': 4, 'gamma': 0.1, 'kernel': 'rbf'}\n",
      "0.970 for {'C': 500, 'degree': 4, 'gamma': 0.01, 'kernel': 'rbf'}\n",
      "0.970 for {'C': 500, 'degree': 4, 'gamma': 0.001, 'kernel': 'rbf'}\n",
      "0.939 for {'C': 500, 'degree': 4, 'gamma': 0.0001, 'kernel': 'rbf'}\n",
      "0.922 for {'C': 500, 'degree': 4, 'gamma': 1e-05, 'kernel': 'rbf'}\n",
      "0.961 for {'C': 500, 'degree': 5, 'gamma': 0.1, 'kernel': 'rbf'}\n",
      "0.970 for {'C': 500, 'degree': 5, 'gamma': 0.01, 'kernel': 'rbf'}\n",
      "0.970 for {'C': 500, 'degree': 5, 'gamma': 0.001, 'kernel': 'rbf'}\n",
      "0.939 for {'C': 500, 'degree': 5, 'gamma': 0.0001, 'kernel': 'rbf'}\n",
      "0.922 for {'C': 500, 'degree': 5, 'gamma': 1e-05, 'kernel': 'rbf'}\n",
      "0.961 for {'C': 1000, 'degree': 2, 'gamma': 0.1, 'kernel': 'rbf'}\n",
      "0.961 for {'C': 1000, 'degree': 2, 'gamma': 0.01, 'kernel': 'rbf'}\n",
      "0.970 for {'C': 1000, 'degree': 2, 'gamma': 0.001, 'kernel': 'rbf'}\n",
      "0.957 for {'C': 1000, 'degree': 2, 'gamma': 0.0001, 'kernel': 'rbf'}\n",
      "0.920 for {'C': 1000, 'degree': 2, 'gamma': 1e-05, 'kernel': 'rbf'}\n",
      "0.961 for {'C': 1000, 'degree': 3, 'gamma': 0.1, 'kernel': 'rbf'}\n",
      "0.961 for {'C': 1000, 'degree': 3, 'gamma': 0.01, 'kernel': 'rbf'}\n",
      "0.970 for {'C': 1000, 'degree': 3, 'gamma': 0.001, 'kernel': 'rbf'}\n",
      "0.957 for {'C': 1000, 'degree': 3, 'gamma': 0.0001, 'kernel': 'rbf'}\n",
      "0.920 for {'C': 1000, 'degree': 3, 'gamma': 1e-05, 'kernel': 'rbf'}\n",
      "0.961 for {'C': 1000, 'degree': 4, 'gamma': 0.1, 'kernel': 'rbf'}\n",
      "0.961 for {'C': 1000, 'degree': 4, 'gamma': 0.01, 'kernel': 'rbf'}\n",
      "0.970 for {'C': 1000, 'degree': 4, 'gamma': 0.001, 'kernel': 'rbf'}\n",
      "0.957 for {'C': 1000, 'degree': 4, 'gamma': 0.0001, 'kernel': 'rbf'}\n",
      "0.920 for {'C': 1000, 'degree': 4, 'gamma': 1e-05, 'kernel': 'rbf'}\n",
      "0.961 for {'C': 1000, 'degree': 5, 'gamma': 0.1, 'kernel': 'rbf'}\n",
      "0.961 for {'C': 1000, 'degree': 5, 'gamma': 0.01, 'kernel': 'rbf'}\n",
      "0.970 for {'C': 1000, 'degree': 5, 'gamma': 0.001, 'kernel': 'rbf'}\n",
      "0.957 for {'C': 1000, 'degree': 5, 'gamma': 0.0001, 'kernel': 'rbf'}\n",
      "0.920 for {'C': 1000, 'degree': 5, 'gamma': 1e-05, 'kernel': 'rbf'}\n",
      "0.978 for {'C': 1, 'kernel': 'linear'}\n",
      "0.970 for {'C': 10, 'kernel': 'linear'}\n",
      "0.961 for {'C': 100, 'kernel': 'linear'}\n",
      "0.970 for {'C': 500, 'kernel': 'linear'}\n",
      "0.970 for {'C': 1000, 'kernel': 'linear'}\n",
      "\n",
      "\n",
      "Detailed Classification Report\n",
      "              precision    recall  f1-score   support\n",
      "\n",
      "           0       1.00      1.00      1.00        10\n",
      "           1       1.00      1.00      1.00        10\n",
      "           2       1.00      1.00      1.00        10\n",
      "\n",
      "    accuracy                           1.00        30\n",
      "   macro avg       1.00      1.00      1.00        30\n",
      "weighted avg       1.00      1.00      1.00        30\n",
      "\n",
      "Tuning HyperParamters For RECALL\n",
      "\n",
      "Best Parameters Set Found: \n",
      "\n",
      "{'C': 1, 'kernel': 'linear'}\n",
      "Grid Scores In Process : \n",
      "\n",
      "0.950 for {'C': 1, 'degree': 2, 'gamma': 0.1, 'kernel': 'rbf'}\n",
      "0.908 for {'C': 1, 'degree': 2, 'gamma': 0.01, 'kernel': 'rbf'}\n",
      "0.917 for {'C': 1, 'degree': 2, 'gamma': 0.001, 'kernel': 'rbf'}\n",
      "0.917 for {'C': 1, 'degree': 2, 'gamma': 0.0001, 'kernel': 'rbf'}\n",
      "0.917 for {'C': 1, 'degree': 2, 'gamma': 1e-05, 'kernel': 'rbf'}\n",
      "0.950 for {'C': 1, 'degree': 3, 'gamma': 0.1, 'kernel': 'rbf'}\n",
      "0.908 for {'C': 1, 'degree': 3, 'gamma': 0.01, 'kernel': 'rbf'}\n",
      "0.917 for {'C': 1, 'degree': 3, 'gamma': 0.001, 'kernel': 'rbf'}\n",
      "0.917 for {'C': 1, 'degree': 3, 'gamma': 0.0001, 'kernel': 'rbf'}\n",
      "0.917 for {'C': 1, 'degree': 3, 'gamma': 1e-05, 'kernel': 'rbf'}\n",
      "0.950 for {'C': 1, 'degree': 4, 'gamma': 0.1, 'kernel': 'rbf'}\n",
      "0.908 for {'C': 1, 'degree': 4, 'gamma': 0.01, 'kernel': 'rbf'}\n",
      "0.917 for {'C': 1, 'degree': 4, 'gamma': 0.001, 'kernel': 'rbf'}\n",
      "0.917 for {'C': 1, 'degree': 4, 'gamma': 0.0001, 'kernel': 'rbf'}\n",
      "0.917 for {'C': 1, 'degree': 4, 'gamma': 1e-05, 'kernel': 'rbf'}\n",
      "0.950 for {'C': 1, 'degree': 5, 'gamma': 0.1, 'kernel': 'rbf'}\n",
      "0.908 for {'C': 1, 'degree': 5, 'gamma': 0.01, 'kernel': 'rbf'}\n",
      "0.917 for {'C': 1, 'degree': 5, 'gamma': 0.001, 'kernel': 'rbf'}\n",
      "0.917 for {'C': 1, 'degree': 5, 'gamma': 0.0001, 'kernel': 'rbf'}\n",
      "0.917 for {'C': 1, 'degree': 5, 'gamma': 1e-05, 'kernel': 'rbf'}\n",
      "0.967 for {'C': 10, 'degree': 2, 'gamma': 0.1, 'kernel': 'rbf'}\n",
      "0.950 for {'C': 10, 'degree': 2, 'gamma': 0.01, 'kernel': 'rbf'}\n",
      "0.908 for {'C': 10, 'degree': 2, 'gamma': 0.001, 'kernel': 'rbf'}\n",
      "0.917 for {'C': 10, 'degree': 2, 'gamma': 0.0001, 'kernel': 'rbf'}\n",
      "0.917 for {'C': 10, 'degree': 2, 'gamma': 1e-05, 'kernel': 'rbf'}\n",
      "0.967 for {'C': 10, 'degree': 3, 'gamma': 0.1, 'kernel': 'rbf'}\n",
      "0.950 for {'C': 10, 'degree': 3, 'gamma': 0.01, 'kernel': 'rbf'}\n",
      "0.908 for {'C': 10, 'degree': 3, 'gamma': 0.001, 'kernel': 'rbf'}\n",
      "0.917 for {'C': 10, 'degree': 3, 'gamma': 0.0001, 'kernel': 'rbf'}\n",
      "0.917 for {'C': 10, 'degree': 3, 'gamma': 1e-05, 'kernel': 'rbf'}\n",
      "0.967 for {'C': 10, 'degree': 4, 'gamma': 0.1, 'kernel': 'rbf'}\n",
      "0.950 for {'C': 10, 'degree': 4, 'gamma': 0.01, 'kernel': 'rbf'}\n",
      "0.908 for {'C': 10, 'degree': 4, 'gamma': 0.001, 'kernel': 'rbf'}\n",
      "0.917 for {'C': 10, 'degree': 4, 'gamma': 0.0001, 'kernel': 'rbf'}\n",
      "0.917 for {'C': 10, 'degree': 4, 'gamma': 1e-05, 'kernel': 'rbf'}\n",
      "0.967 for {'C': 10, 'degree': 5, 'gamma': 0.1, 'kernel': 'rbf'}\n",
      "0.950 for {'C': 10, 'degree': 5, 'gamma': 0.01, 'kernel': 'rbf'}\n",
      "0.908 for {'C': 10, 'degree': 5, 'gamma': 0.001, 'kernel': 'rbf'}\n",
      "0.917 for {'C': 10, 'degree': 5, 'gamma': 0.0001, 'kernel': 'rbf'}\n",
      "0.917 for {'C': 10, 'degree': 5, 'gamma': 1e-05, 'kernel': 'rbf'}\n",
      "0.958 for {'C': 100, 'degree': 2, 'gamma': 0.1, 'kernel': 'rbf'}\n",
      "0.967 for {'C': 100, 'degree': 2, 'gamma': 0.01, 'kernel': 'rbf'}\n",
      "0.950 for {'C': 100, 'degree': 2, 'gamma': 0.001, 'kernel': 'rbf'}\n",
      "0.908 for {'C': 100, 'degree': 2, 'gamma': 0.0001, 'kernel': 'rbf'}\n",
      "0.917 for {'C': 100, 'degree': 2, 'gamma': 1e-05, 'kernel': 'rbf'}\n",
      "0.958 for {'C': 100, 'degree': 3, 'gamma': 0.1, 'kernel': 'rbf'}\n",
      "0.967 for {'C': 100, 'degree': 3, 'gamma': 0.01, 'kernel': 'rbf'}\n",
      "0.950 for {'C': 100, 'degree': 3, 'gamma': 0.001, 'kernel': 'rbf'}\n",
      "0.908 for {'C': 100, 'degree': 3, 'gamma': 0.0001, 'kernel': 'rbf'}\n",
      "0.917 for {'C': 100, 'degree': 3, 'gamma': 1e-05, 'kernel': 'rbf'}\n",
      "0.958 for {'C': 100, 'degree': 4, 'gamma': 0.1, 'kernel': 'rbf'}\n",
      "0.967 for {'C': 100, 'degree': 4, 'gamma': 0.01, 'kernel': 'rbf'}\n",
      "0.950 for {'C': 100, 'degree': 4, 'gamma': 0.001, 'kernel': 'rbf'}\n",
      "0.908 for {'C': 100, 'degree': 4, 'gamma': 0.0001, 'kernel': 'rbf'}\n",
      "0.917 for {'C': 100, 'degree': 4, 'gamma': 1e-05, 'kernel': 'rbf'}\n",
      "0.958 for {'C': 100, 'degree': 5, 'gamma': 0.1, 'kernel': 'rbf'}\n",
      "0.967 for {'C': 100, 'degree': 5, 'gamma': 0.01, 'kernel': 'rbf'}\n",
      "0.950 for {'C': 100, 'degree': 5, 'gamma': 0.001, 'kernel': 'rbf'}\n",
      "0.908 for {'C': 100, 'degree': 5, 'gamma': 0.0001, 'kernel': 'rbf'}\n",
      "0.917 for {'C': 100, 'degree': 5, 'gamma': 1e-05, 'kernel': 'rbf'}\n",
      "0.958 for {'C': 500, 'degree': 2, 'gamma': 0.1, 'kernel': 'rbf'}\n",
      "0.967 for {'C': 500, 'degree': 2, 'gamma': 0.01, 'kernel': 'rbf'}\n",
      "0.967 for {'C': 500, 'degree': 2, 'gamma': 0.001, 'kernel': 'rbf'}\n",
      "0.933 for {'C': 500, 'degree': 2, 'gamma': 0.0001, 'kernel': 'rbf'}\n",
      "0.917 for {'C': 500, 'degree': 2, 'gamma': 1e-05, 'kernel': 'rbf'}\n",
      "0.958 for {'C': 500, 'degree': 3, 'gamma': 0.1, 'kernel': 'rbf'}\n",
      "0.967 for {'C': 500, 'degree': 3, 'gamma': 0.01, 'kernel': 'rbf'}\n",
      "0.967 for {'C': 500, 'degree': 3, 'gamma': 0.001, 'kernel': 'rbf'}\n",
      "0.933 for {'C': 500, 'degree': 3, 'gamma': 0.0001, 'kernel': 'rbf'}\n",
      "0.917 for {'C': 500, 'degree': 3, 'gamma': 1e-05, 'kernel': 'rbf'}\n",
      "0.958 for {'C': 500, 'degree': 4, 'gamma': 0.1, 'kernel': 'rbf'}\n",
      "0.967 for {'C': 500, 'degree': 4, 'gamma': 0.01, 'kernel': 'rbf'}\n",
      "0.967 for {'C': 500, 'degree': 4, 'gamma': 0.001, 'kernel': 'rbf'}\n",
      "0.933 for {'C': 500, 'degree': 4, 'gamma': 0.0001, 'kernel': 'rbf'}\n",
      "0.917 for {'C': 500, 'degree': 4, 'gamma': 1e-05, 'kernel': 'rbf'}\n",
      "0.958 for {'C': 500, 'degree': 5, 'gamma': 0.1, 'kernel': 'rbf'}\n",
      "0.967 for {'C': 500, 'degree': 5, 'gamma': 0.01, 'kernel': 'rbf'}\n",
      "0.967 for {'C': 500, 'degree': 5, 'gamma': 0.001, 'kernel': 'rbf'}\n",
      "0.933 for {'C': 500, 'degree': 5, 'gamma': 0.0001, 'kernel': 'rbf'}\n",
      "0.917 for {'C': 500, 'degree': 5, 'gamma': 1e-05, 'kernel': 'rbf'}\n",
      "0.958 for {'C': 1000, 'degree': 2, 'gamma': 0.1, 'kernel': 'rbf'}\n",
      "0.958 for {'C': 1000, 'degree': 2, 'gamma': 0.01, 'kernel': 'rbf'}\n",
      "0.967 for {'C': 1000, 'degree': 2, 'gamma': 0.001, 'kernel': 'rbf'}\n",
      "0.950 for {'C': 1000, 'degree': 2, 'gamma': 0.0001, 'kernel': 'rbf'}\n",
      "0.908 for {'C': 1000, 'degree': 2, 'gamma': 1e-05, 'kernel': 'rbf'}\n",
      "0.958 for {'C': 1000, 'degree': 3, 'gamma': 0.1, 'kernel': 'rbf'}\n",
      "0.958 for {'C': 1000, 'degree': 3, 'gamma': 0.01, 'kernel': 'rbf'}\n",
      "0.967 for {'C': 1000, 'degree': 3, 'gamma': 0.001, 'kernel': 'rbf'}\n",
      "0.950 for {'C': 1000, 'degree': 3, 'gamma': 0.0001, 'kernel': 'rbf'}\n",
      "0.908 for {'C': 1000, 'degree': 3, 'gamma': 1e-05, 'kernel': 'rbf'}\n",
      "0.958 for {'C': 1000, 'degree': 4, 'gamma': 0.1, 'kernel': 'rbf'}\n",
      "0.958 for {'C': 1000, 'degree': 4, 'gamma': 0.01, 'kernel': 'rbf'}\n",
      "0.967 for {'C': 1000, 'degree': 4, 'gamma': 0.001, 'kernel': 'rbf'}\n",
      "0.950 for {'C': 1000, 'degree': 4, 'gamma': 0.0001, 'kernel': 'rbf'}\n",
      "0.908 for {'C': 1000, 'degree': 4, 'gamma': 1e-05, 'kernel': 'rbf'}\n",
      "0.958 for {'C': 1000, 'degree': 5, 'gamma': 0.1, 'kernel': 'rbf'}\n",
      "0.958 for {'C': 1000, 'degree': 5, 'gamma': 0.01, 'kernel': 'rbf'}\n",
      "0.967 for {'C': 1000, 'degree': 5, 'gamma': 0.001, 'kernel': 'rbf'}\n",
      "0.950 for {'C': 1000, 'degree': 5, 'gamma': 0.0001, 'kernel': 'rbf'}\n",
      "0.908 for {'C': 1000, 'degree': 5, 'gamma': 1e-05, 'kernel': 'rbf'}\n",
      "0.975 for {'C': 1, 'kernel': 'linear'}\n",
      "0.967 for {'C': 10, 'kernel': 'linear'}\n",
      "0.958 for {'C': 100, 'kernel': 'linear'}\n",
      "0.967 for {'C': 500, 'kernel': 'linear'}\n",
      "0.967 for {'C': 1000, 'kernel': 'linear'}\n",
      "\n",
      "\n",
      "Detailed Classification Report\n",
      "              precision    recall  f1-score   support\n",
      "\n",
      "           0       1.00      1.00      1.00        10\n",
      "           1       1.00      1.00      1.00        10\n",
      "           2       1.00      1.00      1.00        10\n",
      "\n",
      "    accuracy                           1.00        30\n",
      "   macro avg       1.00      1.00      1.00        30\n",
      "weighted avg       1.00      1.00      1.00        30\n",
      "\n"
     ]
    }
   ],
   "source": [
    "run_tuning(SVC(), X_train,X_test,y_train,y_test,hyperparameters,scores,cv= 5)"
   ]
  },
  {
   "cell_type": "markdown",
   "id": "f0b48739",
   "metadata": {},
   "source": [
    "## GridSearch For RandomForesClassifier  HyperParameters Tuning "
   ]
  },
  {
   "cell_type": "code",
   "execution_count": 52,
   "id": "3008e7fd",
   "metadata": {},
   "outputs": [],
   "source": [
    "from sklearn.ensemble import RandomForestClassifier\n",
    "\n",
    "hyperparameters = {\n",
    "    \"bootstrap\" : [True],\n",
    "    \"max_depth\" : [10,100],\n",
    "    \"max_features\" : [2,3, X.shape[1]],\n",
    "    \"min_samples_leaf\" : [2,5],\n",
    "    \"min_samples_split\" : [1, 5, 10],\n",
    "    \"n_estimators\" : [10, 100, 200] \n",
    "    \n",
    "}"
   ]
  },
  {
   "cell_type": "code",
   "execution_count": 53,
   "id": "22520b7c",
   "metadata": {},
   "outputs": [
    {
     "name": "stdout",
     "output_type": "stream",
     "text": [
      "Tuning HyperParamters For PRECISION\n",
      "\n",
      "Best Parameters Set Found: \n",
      "\n",
      "{'bootstrap': True, 'max_depth': 10, 'max_features': 2, 'min_samples_leaf': 2, 'min_samples_split': 10, 'n_estimators': 10}\n",
      "Grid Scores In Process : \n",
      "\n",
      "nan for {'bootstrap': True, 'max_depth': 10, 'max_features': 2, 'min_samples_leaf': 2, 'min_samples_split': 1, 'n_estimators': 10}\n",
      "nan for {'bootstrap': True, 'max_depth': 10, 'max_features': 2, 'min_samples_leaf': 2, 'min_samples_split': 1, 'n_estimators': 100}\n",
      "nan for {'bootstrap': True, 'max_depth': 10, 'max_features': 2, 'min_samples_leaf': 2, 'min_samples_split': 1, 'n_estimators': 200}\n",
      "0.944 for {'bootstrap': True, 'max_depth': 10, 'max_features': 2, 'min_samples_leaf': 2, 'min_samples_split': 5, 'n_estimators': 10}\n",
      "0.952 for {'bootstrap': True, 'max_depth': 10, 'max_features': 2, 'min_samples_leaf': 2, 'min_samples_split': 5, 'n_estimators': 100}\n",
      "0.952 for {'bootstrap': True, 'max_depth': 10, 'max_features': 2, 'min_samples_leaf': 2, 'min_samples_split': 5, 'n_estimators': 200}\n",
      "0.959 for {'bootstrap': True, 'max_depth': 10, 'max_features': 2, 'min_samples_leaf': 2, 'min_samples_split': 10, 'n_estimators': 10}\n",
      "0.952 for {'bootstrap': True, 'max_depth': 10, 'max_features': 2, 'min_samples_leaf': 2, 'min_samples_split': 10, 'n_estimators': 100}\n",
      "0.952 for {'bootstrap': True, 'max_depth': 10, 'max_features': 2, 'min_samples_leaf': 2, 'min_samples_split': 10, 'n_estimators': 200}\n",
      "nan for {'bootstrap': True, 'max_depth': 10, 'max_features': 2, 'min_samples_leaf': 5, 'min_samples_split': 1, 'n_estimators': 10}\n",
      "nan for {'bootstrap': True, 'max_depth': 10, 'max_features': 2, 'min_samples_leaf': 5, 'min_samples_split': 1, 'n_estimators': 100}\n",
      "nan for {'bootstrap': True, 'max_depth': 10, 'max_features': 2, 'min_samples_leaf': 5, 'min_samples_split': 1, 'n_estimators': 200}\n",
      "0.944 for {'bootstrap': True, 'max_depth': 10, 'max_features': 2, 'min_samples_leaf': 5, 'min_samples_split': 5, 'n_estimators': 10}\n",
      "0.952 for {'bootstrap': True, 'max_depth': 10, 'max_features': 2, 'min_samples_leaf': 5, 'min_samples_split': 5, 'n_estimators': 100}\n",
      "0.952 for {'bootstrap': True, 'max_depth': 10, 'max_features': 2, 'min_samples_leaf': 5, 'min_samples_split': 5, 'n_estimators': 200}\n",
      "0.959 for {'bootstrap': True, 'max_depth': 10, 'max_features': 2, 'min_samples_leaf': 5, 'min_samples_split': 10, 'n_estimators': 10}\n",
      "0.952 for {'bootstrap': True, 'max_depth': 10, 'max_features': 2, 'min_samples_leaf': 5, 'min_samples_split': 10, 'n_estimators': 100}\n",
      "0.952 for {'bootstrap': True, 'max_depth': 10, 'max_features': 2, 'min_samples_leaf': 5, 'min_samples_split': 10, 'n_estimators': 200}\n",
      "nan for {'bootstrap': True, 'max_depth': 10, 'max_features': 3, 'min_samples_leaf': 2, 'min_samples_split': 1, 'n_estimators': 10}\n",
      "nan for {'bootstrap': True, 'max_depth': 10, 'max_features': 3, 'min_samples_leaf': 2, 'min_samples_split': 1, 'n_estimators': 100}\n",
      "nan for {'bootstrap': True, 'max_depth': 10, 'max_features': 3, 'min_samples_leaf': 2, 'min_samples_split': 1, 'n_estimators': 200}\n",
      "0.952 for {'bootstrap': True, 'max_depth': 10, 'max_features': 3, 'min_samples_leaf': 2, 'min_samples_split': 5, 'n_estimators': 10}\n",
      "0.952 for {'bootstrap': True, 'max_depth': 10, 'max_features': 3, 'min_samples_leaf': 2, 'min_samples_split': 5, 'n_estimators': 100}\n",
      "0.952 for {'bootstrap': True, 'max_depth': 10, 'max_features': 3, 'min_samples_leaf': 2, 'min_samples_split': 5, 'n_estimators': 200}\n",
      "0.952 for {'bootstrap': True, 'max_depth': 10, 'max_features': 3, 'min_samples_leaf': 2, 'min_samples_split': 10, 'n_estimators': 10}\n",
      "0.952 for {'bootstrap': True, 'max_depth': 10, 'max_features': 3, 'min_samples_leaf': 2, 'min_samples_split': 10, 'n_estimators': 100}\n",
      "0.952 for {'bootstrap': True, 'max_depth': 10, 'max_features': 3, 'min_samples_leaf': 2, 'min_samples_split': 10, 'n_estimators': 200}\n",
      "nan for {'bootstrap': True, 'max_depth': 10, 'max_features': 3, 'min_samples_leaf': 5, 'min_samples_split': 1, 'n_estimators': 10}\n",
      "nan for {'bootstrap': True, 'max_depth': 10, 'max_features': 3, 'min_samples_leaf': 5, 'min_samples_split': 1, 'n_estimators': 100}\n",
      "nan for {'bootstrap': True, 'max_depth': 10, 'max_features': 3, 'min_samples_leaf': 5, 'min_samples_split': 1, 'n_estimators': 200}\n",
      "0.952 for {'bootstrap': True, 'max_depth': 10, 'max_features': 3, 'min_samples_leaf': 5, 'min_samples_split': 5, 'n_estimators': 10}\n",
      "0.959 for {'bootstrap': True, 'max_depth': 10, 'max_features': 3, 'min_samples_leaf': 5, 'min_samples_split': 5, 'n_estimators': 100}\n",
      "0.952 for {'bootstrap': True, 'max_depth': 10, 'max_features': 3, 'min_samples_leaf': 5, 'min_samples_split': 5, 'n_estimators': 200}\n",
      "0.952 for {'bootstrap': True, 'max_depth': 10, 'max_features': 3, 'min_samples_leaf': 5, 'min_samples_split': 10, 'n_estimators': 10}\n",
      "0.952 for {'bootstrap': True, 'max_depth': 10, 'max_features': 3, 'min_samples_leaf': 5, 'min_samples_split': 10, 'n_estimators': 100}\n",
      "0.952 for {'bootstrap': True, 'max_depth': 10, 'max_features': 3, 'min_samples_leaf': 5, 'min_samples_split': 10, 'n_estimators': 200}\n",
      "nan for {'bootstrap': True, 'max_depth': 10, 'max_features': 4, 'min_samples_leaf': 2, 'min_samples_split': 1, 'n_estimators': 10}\n",
      "nan for {'bootstrap': True, 'max_depth': 10, 'max_features': 4, 'min_samples_leaf': 2, 'min_samples_split': 1, 'n_estimators': 100}\n",
      "nan for {'bootstrap': True, 'max_depth': 10, 'max_features': 4, 'min_samples_leaf': 2, 'min_samples_split': 1, 'n_estimators': 200}\n",
      "0.959 for {'bootstrap': True, 'max_depth': 10, 'max_features': 4, 'min_samples_leaf': 2, 'min_samples_split': 5, 'n_estimators': 10}\n",
      "0.952 for {'bootstrap': True, 'max_depth': 10, 'max_features': 4, 'min_samples_leaf': 2, 'min_samples_split': 5, 'n_estimators': 100}\n",
      "0.952 for {'bootstrap': True, 'max_depth': 10, 'max_features': 4, 'min_samples_leaf': 2, 'min_samples_split': 5, 'n_estimators': 200}\n",
      "0.952 for {'bootstrap': True, 'max_depth': 10, 'max_features': 4, 'min_samples_leaf': 2, 'min_samples_split': 10, 'n_estimators': 10}\n",
      "0.952 for {'bootstrap': True, 'max_depth': 10, 'max_features': 4, 'min_samples_leaf': 2, 'min_samples_split': 10, 'n_estimators': 100}\n",
      "0.952 for {'bootstrap': True, 'max_depth': 10, 'max_features': 4, 'min_samples_leaf': 2, 'min_samples_split': 10, 'n_estimators': 200}\n",
      "nan for {'bootstrap': True, 'max_depth': 10, 'max_features': 4, 'min_samples_leaf': 5, 'min_samples_split': 1, 'n_estimators': 10}\n",
      "nan for {'bootstrap': True, 'max_depth': 10, 'max_features': 4, 'min_samples_leaf': 5, 'min_samples_split': 1, 'n_estimators': 100}\n",
      "nan for {'bootstrap': True, 'max_depth': 10, 'max_features': 4, 'min_samples_leaf': 5, 'min_samples_split': 1, 'n_estimators': 200}\n",
      "0.959 for {'bootstrap': True, 'max_depth': 10, 'max_features': 4, 'min_samples_leaf': 5, 'min_samples_split': 5, 'n_estimators': 10}\n",
      "0.952 for {'bootstrap': True, 'max_depth': 10, 'max_features': 4, 'min_samples_leaf': 5, 'min_samples_split': 5, 'n_estimators': 100}\n",
      "0.952 for {'bootstrap': True, 'max_depth': 10, 'max_features': 4, 'min_samples_leaf': 5, 'min_samples_split': 5, 'n_estimators': 200}\n",
      "0.952 for {'bootstrap': True, 'max_depth': 10, 'max_features': 4, 'min_samples_leaf': 5, 'min_samples_split': 10, 'n_estimators': 10}\n",
      "0.959 for {'bootstrap': True, 'max_depth': 10, 'max_features': 4, 'min_samples_leaf': 5, 'min_samples_split': 10, 'n_estimators': 100}\n",
      "0.959 for {'bootstrap': True, 'max_depth': 10, 'max_features': 4, 'min_samples_leaf': 5, 'min_samples_split': 10, 'n_estimators': 200}\n",
      "nan for {'bootstrap': True, 'max_depth': 100, 'max_features': 2, 'min_samples_leaf': 2, 'min_samples_split': 1, 'n_estimators': 10}\n",
      "nan for {'bootstrap': True, 'max_depth': 100, 'max_features': 2, 'min_samples_leaf': 2, 'min_samples_split': 1, 'n_estimators': 100}\n",
      "nan for {'bootstrap': True, 'max_depth': 100, 'max_features': 2, 'min_samples_leaf': 2, 'min_samples_split': 1, 'n_estimators': 200}\n",
      "0.943 for {'bootstrap': True, 'max_depth': 100, 'max_features': 2, 'min_samples_leaf': 2, 'min_samples_split': 5, 'n_estimators': 10}\n",
      "0.952 for {'bootstrap': True, 'max_depth': 100, 'max_features': 2, 'min_samples_leaf': 2, 'min_samples_split': 5, 'n_estimators': 100}\n",
      "0.952 for {'bootstrap': True, 'max_depth': 100, 'max_features': 2, 'min_samples_leaf': 2, 'min_samples_split': 5, 'n_estimators': 200}\n",
      "0.959 for {'bootstrap': True, 'max_depth': 100, 'max_features': 2, 'min_samples_leaf': 2, 'min_samples_split': 10, 'n_estimators': 10}\n",
      "0.952 for {'bootstrap': True, 'max_depth': 100, 'max_features': 2, 'min_samples_leaf': 2, 'min_samples_split': 10, 'n_estimators': 100}\n",
      "0.952 for {'bootstrap': True, 'max_depth': 100, 'max_features': 2, 'min_samples_leaf': 2, 'min_samples_split': 10, 'n_estimators': 200}\n",
      "nan for {'bootstrap': True, 'max_depth': 100, 'max_features': 2, 'min_samples_leaf': 5, 'min_samples_split': 1, 'n_estimators': 10}\n",
      "nan for {'bootstrap': True, 'max_depth': 100, 'max_features': 2, 'min_samples_leaf': 5, 'min_samples_split': 1, 'n_estimators': 100}\n",
      "nan for {'bootstrap': True, 'max_depth': 100, 'max_features': 2, 'min_samples_leaf': 5, 'min_samples_split': 1, 'n_estimators': 200}\n",
      "0.944 for {'bootstrap': True, 'max_depth': 100, 'max_features': 2, 'min_samples_leaf': 5, 'min_samples_split': 5, 'n_estimators': 10}\n",
      "0.952 for {'bootstrap': True, 'max_depth': 100, 'max_features': 2, 'min_samples_leaf': 5, 'min_samples_split': 5, 'n_estimators': 100}\n",
      "0.952 for {'bootstrap': True, 'max_depth': 100, 'max_features': 2, 'min_samples_leaf': 5, 'min_samples_split': 5, 'n_estimators': 200}\n",
      "0.952 for {'bootstrap': True, 'max_depth': 100, 'max_features': 2, 'min_samples_leaf': 5, 'min_samples_split': 10, 'n_estimators': 10}\n",
      "0.952 for {'bootstrap': True, 'max_depth': 100, 'max_features': 2, 'min_samples_leaf': 5, 'min_samples_split': 10, 'n_estimators': 100}\n",
      "0.952 for {'bootstrap': True, 'max_depth': 100, 'max_features': 2, 'min_samples_leaf': 5, 'min_samples_split': 10, 'n_estimators': 200}\n",
      "nan for {'bootstrap': True, 'max_depth': 100, 'max_features': 3, 'min_samples_leaf': 2, 'min_samples_split': 1, 'n_estimators': 10}\n",
      "nan for {'bootstrap': True, 'max_depth': 100, 'max_features': 3, 'min_samples_leaf': 2, 'min_samples_split': 1, 'n_estimators': 100}\n",
      "nan for {'bootstrap': True, 'max_depth': 100, 'max_features': 3, 'min_samples_leaf': 2, 'min_samples_split': 1, 'n_estimators': 200}\n",
      "0.952 for {'bootstrap': True, 'max_depth': 100, 'max_features': 3, 'min_samples_leaf': 2, 'min_samples_split': 5, 'n_estimators': 10}\n",
      "0.952 for {'bootstrap': True, 'max_depth': 100, 'max_features': 3, 'min_samples_leaf': 2, 'min_samples_split': 5, 'n_estimators': 100}\n",
      "0.952 for {'bootstrap': True, 'max_depth': 100, 'max_features': 3, 'min_samples_leaf': 2, 'min_samples_split': 5, 'n_estimators': 200}\n",
      "0.952 for {'bootstrap': True, 'max_depth': 100, 'max_features': 3, 'min_samples_leaf': 2, 'min_samples_split': 10, 'n_estimators': 10}\n",
      "0.952 for {'bootstrap': True, 'max_depth': 100, 'max_features': 3, 'min_samples_leaf': 2, 'min_samples_split': 10, 'n_estimators': 100}\n",
      "0.952 for {'bootstrap': True, 'max_depth': 100, 'max_features': 3, 'min_samples_leaf': 2, 'min_samples_split': 10, 'n_estimators': 200}\n",
      "nan for {'bootstrap': True, 'max_depth': 100, 'max_features': 3, 'min_samples_leaf': 5, 'min_samples_split': 1, 'n_estimators': 10}\n",
      "nan for {'bootstrap': True, 'max_depth': 100, 'max_features': 3, 'min_samples_leaf': 5, 'min_samples_split': 1, 'n_estimators': 100}\n",
      "nan for {'bootstrap': True, 'max_depth': 100, 'max_features': 3, 'min_samples_leaf': 5, 'min_samples_split': 1, 'n_estimators': 200}\n",
      "0.952 for {'bootstrap': True, 'max_depth': 100, 'max_features': 3, 'min_samples_leaf': 5, 'min_samples_split': 5, 'n_estimators': 10}\n",
      "0.952 for {'bootstrap': True, 'max_depth': 100, 'max_features': 3, 'min_samples_leaf': 5, 'min_samples_split': 5, 'n_estimators': 100}\n",
      "0.952 for {'bootstrap': True, 'max_depth': 100, 'max_features': 3, 'min_samples_leaf': 5, 'min_samples_split': 5, 'n_estimators': 200}\n",
      "0.959 for {'bootstrap': True, 'max_depth': 100, 'max_features': 3, 'min_samples_leaf': 5, 'min_samples_split': 10, 'n_estimators': 10}\n",
      "0.952 for {'bootstrap': True, 'max_depth': 100, 'max_features': 3, 'min_samples_leaf': 5, 'min_samples_split': 10, 'n_estimators': 100}\n",
      "0.952 for {'bootstrap': True, 'max_depth': 100, 'max_features': 3, 'min_samples_leaf': 5, 'min_samples_split': 10, 'n_estimators': 200}\n",
      "nan for {'bootstrap': True, 'max_depth': 100, 'max_features': 4, 'min_samples_leaf': 2, 'min_samples_split': 1, 'n_estimators': 10}\n",
      "nan for {'bootstrap': True, 'max_depth': 100, 'max_features': 4, 'min_samples_leaf': 2, 'min_samples_split': 1, 'n_estimators': 100}\n",
      "nan for {'bootstrap': True, 'max_depth': 100, 'max_features': 4, 'min_samples_leaf': 2, 'min_samples_split': 1, 'n_estimators': 200}\n",
      "0.952 for {'bootstrap': True, 'max_depth': 100, 'max_features': 4, 'min_samples_leaf': 2, 'min_samples_split': 5, 'n_estimators': 10}\n",
      "0.952 for {'bootstrap': True, 'max_depth': 100, 'max_features': 4, 'min_samples_leaf': 2, 'min_samples_split': 5, 'n_estimators': 100}\n",
      "0.952 for {'bootstrap': True, 'max_depth': 100, 'max_features': 4, 'min_samples_leaf': 2, 'min_samples_split': 5, 'n_estimators': 200}\n",
      "0.952 for {'bootstrap': True, 'max_depth': 100, 'max_features': 4, 'min_samples_leaf': 2, 'min_samples_split': 10, 'n_estimators': 10}\n",
      "0.952 for {'bootstrap': True, 'max_depth': 100, 'max_features': 4, 'min_samples_leaf': 2, 'min_samples_split': 10, 'n_estimators': 100}\n",
      "0.952 for {'bootstrap': True, 'max_depth': 100, 'max_features': 4, 'min_samples_leaf': 2, 'min_samples_split': 10, 'n_estimators': 200}\n",
      "nan for {'bootstrap': True, 'max_depth': 100, 'max_features': 4, 'min_samples_leaf': 5, 'min_samples_split': 1, 'n_estimators': 10}\n",
      "nan for {'bootstrap': True, 'max_depth': 100, 'max_features': 4, 'min_samples_leaf': 5, 'min_samples_split': 1, 'n_estimators': 100}\n",
      "nan for {'bootstrap': True, 'max_depth': 100, 'max_features': 4, 'min_samples_leaf': 5, 'min_samples_split': 1, 'n_estimators': 200}\n",
      "0.959 for {'bootstrap': True, 'max_depth': 100, 'max_features': 4, 'min_samples_leaf': 5, 'min_samples_split': 5, 'n_estimators': 10}\n",
      "0.952 for {'bootstrap': True, 'max_depth': 100, 'max_features': 4, 'min_samples_leaf': 5, 'min_samples_split': 5, 'n_estimators': 100}\n",
      "0.959 for {'bootstrap': True, 'max_depth': 100, 'max_features': 4, 'min_samples_leaf': 5, 'min_samples_split': 5, 'n_estimators': 200}\n",
      "0.952 for {'bootstrap': True, 'max_depth': 100, 'max_features': 4, 'min_samples_leaf': 5, 'min_samples_split': 10, 'n_estimators': 10}\n",
      "0.959 for {'bootstrap': True, 'max_depth': 100, 'max_features': 4, 'min_samples_leaf': 5, 'min_samples_split': 10, 'n_estimators': 100}\n",
      "0.959 for {'bootstrap': True, 'max_depth': 100, 'max_features': 4, 'min_samples_leaf': 5, 'min_samples_split': 10, 'n_estimators': 200}\n",
      "\n",
      "\n",
      "Detailed Classification Report\n",
      "              precision    recall  f1-score   support\n",
      "\n",
      "           0       1.00      1.00      1.00        10\n",
      "           1       1.00      1.00      1.00        10\n",
      "           2       1.00      1.00      1.00        10\n",
      "\n",
      "    accuracy                           1.00        30\n",
      "   macro avg       1.00      1.00      1.00        30\n",
      "weighted avg       1.00      1.00      1.00        30\n",
      "\n",
      "Tuning HyperParamters For RECALL\n",
      "\n"
     ]
    },
    {
     "name": "stdout",
     "output_type": "stream",
     "text": [
      "Best Parameters Set Found: \n",
      "\n",
      "{'bootstrap': True, 'max_depth': 10, 'max_features': 2, 'min_samples_leaf': 2, 'min_samples_split': 10, 'n_estimators': 10}\n",
      "Grid Scores In Process : \n",
      "\n",
      "nan for {'bootstrap': True, 'max_depth': 10, 'max_features': 2, 'min_samples_leaf': 2, 'min_samples_split': 1, 'n_estimators': 10}\n",
      "nan for {'bootstrap': True, 'max_depth': 10, 'max_features': 2, 'min_samples_leaf': 2, 'min_samples_split': 1, 'n_estimators': 100}\n",
      "nan for {'bootstrap': True, 'max_depth': 10, 'max_features': 2, 'min_samples_leaf': 2, 'min_samples_split': 1, 'n_estimators': 200}\n",
      "0.950 for {'bootstrap': True, 'max_depth': 10, 'max_features': 2, 'min_samples_leaf': 2, 'min_samples_split': 5, 'n_estimators': 10}\n",
      "0.950 for {'bootstrap': True, 'max_depth': 10, 'max_features': 2, 'min_samples_leaf': 2, 'min_samples_split': 5, 'n_estimators': 100}\n",
      "0.950 for {'bootstrap': True, 'max_depth': 10, 'max_features': 2, 'min_samples_leaf': 2, 'min_samples_split': 5, 'n_estimators': 200}\n",
      "0.958 for {'bootstrap': True, 'max_depth': 10, 'max_features': 2, 'min_samples_leaf': 2, 'min_samples_split': 10, 'n_estimators': 10}\n",
      "0.950 for {'bootstrap': True, 'max_depth': 10, 'max_features': 2, 'min_samples_leaf': 2, 'min_samples_split': 10, 'n_estimators': 100}\n",
      "0.950 for {'bootstrap': True, 'max_depth': 10, 'max_features': 2, 'min_samples_leaf': 2, 'min_samples_split': 10, 'n_estimators': 200}\n",
      "nan for {'bootstrap': True, 'max_depth': 10, 'max_features': 2, 'min_samples_leaf': 5, 'min_samples_split': 1, 'n_estimators': 10}\n",
      "nan for {'bootstrap': True, 'max_depth': 10, 'max_features': 2, 'min_samples_leaf': 5, 'min_samples_split': 1, 'n_estimators': 100}\n",
      "nan for {'bootstrap': True, 'max_depth': 10, 'max_features': 2, 'min_samples_leaf': 5, 'min_samples_split': 1, 'n_estimators': 200}\n",
      "0.933 for {'bootstrap': True, 'max_depth': 10, 'max_features': 2, 'min_samples_leaf': 5, 'min_samples_split': 5, 'n_estimators': 10}\n",
      "0.950 for {'bootstrap': True, 'max_depth': 10, 'max_features': 2, 'min_samples_leaf': 5, 'min_samples_split': 5, 'n_estimators': 100}\n",
      "0.950 for {'bootstrap': True, 'max_depth': 10, 'max_features': 2, 'min_samples_leaf': 5, 'min_samples_split': 5, 'n_estimators': 200}\n",
      "0.950 for {'bootstrap': True, 'max_depth': 10, 'max_features': 2, 'min_samples_leaf': 5, 'min_samples_split': 10, 'n_estimators': 10}\n",
      "0.950 for {'bootstrap': True, 'max_depth': 10, 'max_features': 2, 'min_samples_leaf': 5, 'min_samples_split': 10, 'n_estimators': 100}\n",
      "0.950 for {'bootstrap': True, 'max_depth': 10, 'max_features': 2, 'min_samples_leaf': 5, 'min_samples_split': 10, 'n_estimators': 200}\n",
      "nan for {'bootstrap': True, 'max_depth': 10, 'max_features': 3, 'min_samples_leaf': 2, 'min_samples_split': 1, 'n_estimators': 10}\n",
      "nan for {'bootstrap': True, 'max_depth': 10, 'max_features': 3, 'min_samples_leaf': 2, 'min_samples_split': 1, 'n_estimators': 100}\n",
      "nan for {'bootstrap': True, 'max_depth': 10, 'max_features': 3, 'min_samples_leaf': 2, 'min_samples_split': 1, 'n_estimators': 200}\n",
      "0.950 for {'bootstrap': True, 'max_depth': 10, 'max_features': 3, 'min_samples_leaf': 2, 'min_samples_split': 5, 'n_estimators': 10}\n",
      "0.950 for {'bootstrap': True, 'max_depth': 10, 'max_features': 3, 'min_samples_leaf': 2, 'min_samples_split': 5, 'n_estimators': 100}\n",
      "0.950 for {'bootstrap': True, 'max_depth': 10, 'max_features': 3, 'min_samples_leaf': 2, 'min_samples_split': 5, 'n_estimators': 200}\n",
      "0.942 for {'bootstrap': True, 'max_depth': 10, 'max_features': 3, 'min_samples_leaf': 2, 'min_samples_split': 10, 'n_estimators': 10}\n",
      "0.950 for {'bootstrap': True, 'max_depth': 10, 'max_features': 3, 'min_samples_leaf': 2, 'min_samples_split': 10, 'n_estimators': 100}\n",
      "0.950 for {'bootstrap': True, 'max_depth': 10, 'max_features': 3, 'min_samples_leaf': 2, 'min_samples_split': 10, 'n_estimators': 200}\n",
      "nan for {'bootstrap': True, 'max_depth': 10, 'max_features': 3, 'min_samples_leaf': 5, 'min_samples_split': 1, 'n_estimators': 10}\n",
      "nan for {'bootstrap': True, 'max_depth': 10, 'max_features': 3, 'min_samples_leaf': 5, 'min_samples_split': 1, 'n_estimators': 100}\n",
      "nan for {'bootstrap': True, 'max_depth': 10, 'max_features': 3, 'min_samples_leaf': 5, 'min_samples_split': 1, 'n_estimators': 200}\n",
      "0.933 for {'bootstrap': True, 'max_depth': 10, 'max_features': 3, 'min_samples_leaf': 5, 'min_samples_split': 5, 'n_estimators': 10}\n",
      "0.950 for {'bootstrap': True, 'max_depth': 10, 'max_features': 3, 'min_samples_leaf': 5, 'min_samples_split': 5, 'n_estimators': 100}\n",
      "0.950 for {'bootstrap': True, 'max_depth': 10, 'max_features': 3, 'min_samples_leaf': 5, 'min_samples_split': 5, 'n_estimators': 200}\n",
      "0.942 for {'bootstrap': True, 'max_depth': 10, 'max_features': 3, 'min_samples_leaf': 5, 'min_samples_split': 10, 'n_estimators': 10}\n",
      "0.950 for {'bootstrap': True, 'max_depth': 10, 'max_features': 3, 'min_samples_leaf': 5, 'min_samples_split': 10, 'n_estimators': 100}\n",
      "0.950 for {'bootstrap': True, 'max_depth': 10, 'max_features': 3, 'min_samples_leaf': 5, 'min_samples_split': 10, 'n_estimators': 200}\n",
      "nan for {'bootstrap': True, 'max_depth': 10, 'max_features': 4, 'min_samples_leaf': 2, 'min_samples_split': 1, 'n_estimators': 10}\n",
      "nan for {'bootstrap': True, 'max_depth': 10, 'max_features': 4, 'min_samples_leaf': 2, 'min_samples_split': 1, 'n_estimators': 100}\n",
      "nan for {'bootstrap': True, 'max_depth': 10, 'max_features': 4, 'min_samples_leaf': 2, 'min_samples_split': 1, 'n_estimators': 200}\n",
      "0.958 for {'bootstrap': True, 'max_depth': 10, 'max_features': 4, 'min_samples_leaf': 2, 'min_samples_split': 5, 'n_estimators': 10}\n",
      "0.950 for {'bootstrap': True, 'max_depth': 10, 'max_features': 4, 'min_samples_leaf': 2, 'min_samples_split': 5, 'n_estimators': 100}\n",
      "0.950 for {'bootstrap': True, 'max_depth': 10, 'max_features': 4, 'min_samples_leaf': 2, 'min_samples_split': 5, 'n_estimators': 200}\n",
      "0.958 for {'bootstrap': True, 'max_depth': 10, 'max_features': 4, 'min_samples_leaf': 2, 'min_samples_split': 10, 'n_estimators': 10}\n",
      "0.950 for {'bootstrap': True, 'max_depth': 10, 'max_features': 4, 'min_samples_leaf': 2, 'min_samples_split': 10, 'n_estimators': 100}\n",
      "0.950 for {'bootstrap': True, 'max_depth': 10, 'max_features': 4, 'min_samples_leaf': 2, 'min_samples_split': 10, 'n_estimators': 200}\n",
      "nan for {'bootstrap': True, 'max_depth': 10, 'max_features': 4, 'min_samples_leaf': 5, 'min_samples_split': 1, 'n_estimators': 10}\n",
      "nan for {'bootstrap': True, 'max_depth': 10, 'max_features': 4, 'min_samples_leaf': 5, 'min_samples_split': 1, 'n_estimators': 100}\n",
      "nan for {'bootstrap': True, 'max_depth': 10, 'max_features': 4, 'min_samples_leaf': 5, 'min_samples_split': 1, 'n_estimators': 200}\n",
      "0.958 for {'bootstrap': True, 'max_depth': 10, 'max_features': 4, 'min_samples_leaf': 5, 'min_samples_split': 5, 'n_estimators': 10}\n",
      "0.958 for {'bootstrap': True, 'max_depth': 10, 'max_features': 4, 'min_samples_leaf': 5, 'min_samples_split': 5, 'n_estimators': 100}\n",
      "0.958 for {'bootstrap': True, 'max_depth': 10, 'max_features': 4, 'min_samples_leaf': 5, 'min_samples_split': 5, 'n_estimators': 200}\n",
      "0.950 for {'bootstrap': True, 'max_depth': 10, 'max_features': 4, 'min_samples_leaf': 5, 'min_samples_split': 10, 'n_estimators': 10}\n",
      "0.950 for {'bootstrap': True, 'max_depth': 10, 'max_features': 4, 'min_samples_leaf': 5, 'min_samples_split': 10, 'n_estimators': 100}\n",
      "0.950 for {'bootstrap': True, 'max_depth': 10, 'max_features': 4, 'min_samples_leaf': 5, 'min_samples_split': 10, 'n_estimators': 200}\n",
      "nan for {'bootstrap': True, 'max_depth': 100, 'max_features': 2, 'min_samples_leaf': 2, 'min_samples_split': 1, 'n_estimators': 10}\n",
      "nan for {'bootstrap': True, 'max_depth': 100, 'max_features': 2, 'min_samples_leaf': 2, 'min_samples_split': 1, 'n_estimators': 100}\n",
      "nan for {'bootstrap': True, 'max_depth': 100, 'max_features': 2, 'min_samples_leaf': 2, 'min_samples_split': 1, 'n_estimators': 200}\n",
      "0.950 for {'bootstrap': True, 'max_depth': 100, 'max_features': 2, 'min_samples_leaf': 2, 'min_samples_split': 5, 'n_estimators': 10}\n",
      "0.950 for {'bootstrap': True, 'max_depth': 100, 'max_features': 2, 'min_samples_leaf': 2, 'min_samples_split': 5, 'n_estimators': 100}\n",
      "0.950 for {'bootstrap': True, 'max_depth': 100, 'max_features': 2, 'min_samples_leaf': 2, 'min_samples_split': 5, 'n_estimators': 200}\n",
      "0.950 for {'bootstrap': True, 'max_depth': 100, 'max_features': 2, 'min_samples_leaf': 2, 'min_samples_split': 10, 'n_estimators': 10}\n",
      "0.950 for {'bootstrap': True, 'max_depth': 100, 'max_features': 2, 'min_samples_leaf': 2, 'min_samples_split': 10, 'n_estimators': 100}\n",
      "0.950 for {'bootstrap': True, 'max_depth': 100, 'max_features': 2, 'min_samples_leaf': 2, 'min_samples_split': 10, 'n_estimators': 200}\n",
      "nan for {'bootstrap': True, 'max_depth': 100, 'max_features': 2, 'min_samples_leaf': 5, 'min_samples_split': 1, 'n_estimators': 10}\n",
      "nan for {'bootstrap': True, 'max_depth': 100, 'max_features': 2, 'min_samples_leaf': 5, 'min_samples_split': 1, 'n_estimators': 100}\n",
      "nan for {'bootstrap': True, 'max_depth': 100, 'max_features': 2, 'min_samples_leaf': 5, 'min_samples_split': 1, 'n_estimators': 200}\n",
      "0.950 for {'bootstrap': True, 'max_depth': 100, 'max_features': 2, 'min_samples_leaf': 5, 'min_samples_split': 5, 'n_estimators': 10}\n",
      "0.950 for {'bootstrap': True, 'max_depth': 100, 'max_features': 2, 'min_samples_leaf': 5, 'min_samples_split': 5, 'n_estimators': 100}\n",
      "0.958 for {'bootstrap': True, 'max_depth': 100, 'max_features': 2, 'min_samples_leaf': 5, 'min_samples_split': 5, 'n_estimators': 200}\n",
      "0.933 for {'bootstrap': True, 'max_depth': 100, 'max_features': 2, 'min_samples_leaf': 5, 'min_samples_split': 10, 'n_estimators': 10}\n",
      "0.950 for {'bootstrap': True, 'max_depth': 100, 'max_features': 2, 'min_samples_leaf': 5, 'min_samples_split': 10, 'n_estimators': 100}\n",
      "0.950 for {'bootstrap': True, 'max_depth': 100, 'max_features': 2, 'min_samples_leaf': 5, 'min_samples_split': 10, 'n_estimators': 200}\n",
      "nan for {'bootstrap': True, 'max_depth': 100, 'max_features': 3, 'min_samples_leaf': 2, 'min_samples_split': 1, 'n_estimators': 10}\n",
      "nan for {'bootstrap': True, 'max_depth': 100, 'max_features': 3, 'min_samples_leaf': 2, 'min_samples_split': 1, 'n_estimators': 100}\n",
      "nan for {'bootstrap': True, 'max_depth': 100, 'max_features': 3, 'min_samples_leaf': 2, 'min_samples_split': 1, 'n_estimators': 200}\n",
      "0.950 for {'bootstrap': True, 'max_depth': 100, 'max_features': 3, 'min_samples_leaf': 2, 'min_samples_split': 5, 'n_estimators': 10}\n",
      "0.950 for {'bootstrap': True, 'max_depth': 100, 'max_features': 3, 'min_samples_leaf': 2, 'min_samples_split': 5, 'n_estimators': 100}\n",
      "0.950 for {'bootstrap': True, 'max_depth': 100, 'max_features': 3, 'min_samples_leaf': 2, 'min_samples_split': 5, 'n_estimators': 200}\n",
      "0.950 for {'bootstrap': True, 'max_depth': 100, 'max_features': 3, 'min_samples_leaf': 2, 'min_samples_split': 10, 'n_estimators': 10}\n",
      "0.950 for {'bootstrap': True, 'max_depth': 100, 'max_features': 3, 'min_samples_leaf': 2, 'min_samples_split': 10, 'n_estimators': 100}\n",
      "0.950 for {'bootstrap': True, 'max_depth': 100, 'max_features': 3, 'min_samples_leaf': 2, 'min_samples_split': 10, 'n_estimators': 200}\n",
      "nan for {'bootstrap': True, 'max_depth': 100, 'max_features': 3, 'min_samples_leaf': 5, 'min_samples_split': 1, 'n_estimators': 10}\n",
      "nan for {'bootstrap': True, 'max_depth': 100, 'max_features': 3, 'min_samples_leaf': 5, 'min_samples_split': 1, 'n_estimators': 100}\n",
      "nan for {'bootstrap': True, 'max_depth': 100, 'max_features': 3, 'min_samples_leaf': 5, 'min_samples_split': 1, 'n_estimators': 200}\n",
      "0.950 for {'bootstrap': True, 'max_depth': 100, 'max_features': 3, 'min_samples_leaf': 5, 'min_samples_split': 5, 'n_estimators': 10}\n",
      "0.950 for {'bootstrap': True, 'max_depth': 100, 'max_features': 3, 'min_samples_leaf': 5, 'min_samples_split': 5, 'n_estimators': 100}\n",
      "0.950 for {'bootstrap': True, 'max_depth': 100, 'max_features': 3, 'min_samples_leaf': 5, 'min_samples_split': 5, 'n_estimators': 200}\n",
      "0.958 for {'bootstrap': True, 'max_depth': 100, 'max_features': 3, 'min_samples_leaf': 5, 'min_samples_split': 10, 'n_estimators': 10}\n",
      "0.950 for {'bootstrap': True, 'max_depth': 100, 'max_features': 3, 'min_samples_leaf': 5, 'min_samples_split': 10, 'n_estimators': 100}\n",
      "0.950 for {'bootstrap': True, 'max_depth': 100, 'max_features': 3, 'min_samples_leaf': 5, 'min_samples_split': 10, 'n_estimators': 200}\n",
      "nan for {'bootstrap': True, 'max_depth': 100, 'max_features': 4, 'min_samples_leaf': 2, 'min_samples_split': 1, 'n_estimators': 10}\n",
      "nan for {'bootstrap': True, 'max_depth': 100, 'max_features': 4, 'min_samples_leaf': 2, 'min_samples_split': 1, 'n_estimators': 100}\n",
      "nan for {'bootstrap': True, 'max_depth': 100, 'max_features': 4, 'min_samples_leaf': 2, 'min_samples_split': 1, 'n_estimators': 200}\n",
      "0.958 for {'bootstrap': True, 'max_depth': 100, 'max_features': 4, 'min_samples_leaf': 2, 'min_samples_split': 5, 'n_estimators': 10}\n",
      "0.950 for {'bootstrap': True, 'max_depth': 100, 'max_features': 4, 'min_samples_leaf': 2, 'min_samples_split': 5, 'n_estimators': 100}\n",
      "0.950 for {'bootstrap': True, 'max_depth': 100, 'max_features': 4, 'min_samples_leaf': 2, 'min_samples_split': 5, 'n_estimators': 200}\n",
      "0.950 for {'bootstrap': True, 'max_depth': 100, 'max_features': 4, 'min_samples_leaf': 2, 'min_samples_split': 10, 'n_estimators': 10}\n",
      "0.950 for {'bootstrap': True, 'max_depth': 100, 'max_features': 4, 'min_samples_leaf': 2, 'min_samples_split': 10, 'n_estimators': 100}\n",
      "0.950 for {'bootstrap': True, 'max_depth': 100, 'max_features': 4, 'min_samples_leaf': 2, 'min_samples_split': 10, 'n_estimators': 200}\n",
      "nan for {'bootstrap': True, 'max_depth': 100, 'max_features': 4, 'min_samples_leaf': 5, 'min_samples_split': 1, 'n_estimators': 10}\n",
      "nan for {'bootstrap': True, 'max_depth': 100, 'max_features': 4, 'min_samples_leaf': 5, 'min_samples_split': 1, 'n_estimators': 100}\n",
      "nan for {'bootstrap': True, 'max_depth': 100, 'max_features': 4, 'min_samples_leaf': 5, 'min_samples_split': 1, 'n_estimators': 200}\n",
      "0.958 for {'bootstrap': True, 'max_depth': 100, 'max_features': 4, 'min_samples_leaf': 5, 'min_samples_split': 5, 'n_estimators': 10}\n",
      "0.958 for {'bootstrap': True, 'max_depth': 100, 'max_features': 4, 'min_samples_leaf': 5, 'min_samples_split': 5, 'n_estimators': 100}\n",
      "0.950 for {'bootstrap': True, 'max_depth': 100, 'max_features': 4, 'min_samples_leaf': 5, 'min_samples_split': 5, 'n_estimators': 200}\n",
      "0.958 for {'bootstrap': True, 'max_depth': 100, 'max_features': 4, 'min_samples_leaf': 5, 'min_samples_split': 10, 'n_estimators': 10}\n",
      "0.958 for {'bootstrap': True, 'max_depth': 100, 'max_features': 4, 'min_samples_leaf': 5, 'min_samples_split': 10, 'n_estimators': 100}\n",
      "0.958 for {'bootstrap': True, 'max_depth': 100, 'max_features': 4, 'min_samples_leaf': 5, 'min_samples_split': 10, 'n_estimators': 200}\n",
      "\n",
      "\n",
      "Detailed Classification Report\n",
      "              precision    recall  f1-score   support\n",
      "\n",
      "           0       1.00      1.00      1.00        10\n",
      "           1       0.83      1.00      0.91        10\n",
      "           2       1.00      0.80      0.89        10\n",
      "\n",
      "    accuracy                           0.93        30\n",
      "   macro avg       0.94      0.93      0.93        30\n",
      "weighted avg       0.94      0.93      0.93        30\n",
      "\n"
     ]
    }
   ],
   "source": [
    "run_tuning(RandomForestClassifier(), X_train,X_test,y_train,y_test,hyperparameters,scores,cv= 5)"
   ]
  },
  {
   "cell_type": "markdown",
   "id": "0c39e794",
   "metadata": {},
   "source": [
    "## Random Search For Best Parameter Selection"
   ]
  },
  {
   "cell_type": "code",
   "execution_count": 54,
   "id": "64d70d23",
   "metadata": {},
   "outputs": [],
   "source": [
    "from scipy.stats import uniform, loguniform\n",
    "from sklearn.model_selection import RandomizedSearchCV"
   ]
  },
  {
   "cell_type": "code",
   "execution_count": 55,
   "id": "a92f129b",
   "metadata": {},
   "outputs": [
    {
     "data": {
      "text/plain": [
       "{'C': <scipy.stats._distn_infrastructure.rv_frozen at 0x7fb4a8f5ed10>,\n",
       " 'gamma': <scipy.stats._distn_infrastructure.rv_frozen at 0x7fb4a8f5e0d0>}"
      ]
     },
     "execution_count": 55,
     "metadata": {},
     "output_type": "execute_result"
    }
   ],
   "source": [
    "C = uniform(loc=0, scale = 4)\n",
    "gamma = loguniform(1e-5,1e-1)\n",
    "\n",
    "hyperparameters = dict( C = C, gamma = gamma)\n",
    "hyperparameters"
   ]
  },
  {
   "cell_type": "code",
   "execution_count": 56,
   "id": "6c0da694",
   "metadata": {},
   "outputs": [],
   "source": [
    "clf = RandomizedSearchCV(SVC(), hyperparameters, cv = 5, n_jobs=-1).fit(X_train,y_train)"
   ]
  },
  {
   "cell_type": "code",
   "execution_count": 57,
   "id": "954b8950",
   "metadata": {},
   "outputs": [
    {
     "data": {
      "text/plain": [
       "{'C': 3.1817000481656224, 'gamma': 0.03900862190184619}"
      ]
     },
     "execution_count": 57,
     "metadata": {},
     "output_type": "execute_result"
    }
   ],
   "source": [
    "clf.best_params_"
   ]
  },
  {
   "cell_type": "code",
   "execution_count": 58,
   "id": "0d37bc5b",
   "metadata": {},
   "outputs": [
    {
     "data": {
      "text/plain": [
       "0.95"
      ]
     },
     "execution_count": 58,
     "metadata": {},
     "output_type": "execute_result"
    }
   ],
   "source": [
    "clf.best_score_"
   ]
  },
  {
   "cell_type": "code",
   "execution_count": 59,
   "id": "b47e33d0",
   "metadata": {},
   "outputs": [
    {
     "name": "stdout",
     "output_type": "stream",
     "text": [
      "              precision    recall  f1-score   support\n",
      "\n",
      "           0       1.00      1.00      1.00        10\n",
      "           1       1.00      1.00      1.00        10\n",
      "           2       1.00      1.00      1.00        10\n",
      "\n",
      "    accuracy                           1.00        30\n",
      "   macro avg       1.00      1.00      1.00        30\n",
      "weighted avg       1.00      1.00      1.00        30\n",
      "\n"
     ]
    }
   ],
   "source": [
    "y_pred = clf.predict(X_test)\n",
    "print(classification_report(y_test,y_pred))"
   ]
  },
  {
   "cell_type": "markdown",
   "id": "cf277edd",
   "metadata": {},
   "source": [
    "## Selecting Best Models From Multiple ML Algorithms"
   ]
  },
  {
   "cell_type": "code",
   "execution_count": 60,
   "id": "585ec8b4",
   "metadata": {},
   "outputs": [],
   "source": [
    "import numpy as np\n",
    "from sklearn.linear_model import LogisticRegression\n",
    "from sklearn.ensemble import RandomForestClassifier\n",
    "from sklearn.svm import SVC\n",
    "from sklearn.model_selection import GridSearchCV\n",
    "from sklearn.pipeline import Pipeline"
   ]
  },
  {
   "cell_type": "code",
   "execution_count": 61,
   "id": "0c337d73",
   "metadata": {},
   "outputs": [],
   "source": [
    "np.random.seed(0)"
   ]
  },
  {
   "cell_type": "code",
   "execution_count": 62,
   "id": "4cef98ab",
   "metadata": {},
   "outputs": [
    {
     "data": {
      "text/plain": [
       "Pipeline(steps=[('classifier', RandomForestClassifier())])"
      ]
     },
     "execution_count": 62,
     "metadata": {},
     "output_type": "execute_result"
    }
   ],
   "source": [
    "pipe = Pipeline([(\"classifier\",RandomForestClassifier())])\n",
    "pipe"
   ]
  },
  {
   "cell_type": "code",
   "execution_count": 63,
   "id": "7bb6b650",
   "metadata": {},
   "outputs": [],
   "source": [
    "search_space = [{\"classifier\" : [LogisticRegression(solver = \"liblinear\")],\n",
    "                 \"classifier__penalty\" : [\"l1\",\"l2\"],\n",
    "                 \"classifier__C\" : np.logspace(0,4,10)},\n",
    "                 \n",
    "                {\"classifier\" : [RandomForestClassifier(n_jobs=-1)],\n",
    "                 \"classifier__n_estimators\" : [10,100],\n",
    "                 \"classifier__max_features\" : [1,3]},\n",
    "                \n",
    "               \n",
    "                {\"classifier\" : [SVC()],\n",
    "                 \"classifier__C\" : [1,5],\n",
    "                 \"classifier__gamma\" : [1e-1, 1e-2]}]"
   ]
  },
  {
   "cell_type": "code",
   "execution_count": 64,
   "id": "e4bd9f4c",
   "metadata": {},
   "outputs": [],
   "source": [
    "best_grid = GridSearchCV(pipe, search_space,cv = 5, n_jobs=-1, verbose=0).fit(X_train,y_train)"
   ]
  },
  {
   "cell_type": "code",
   "execution_count": 65,
   "id": "777e3ad5",
   "metadata": {},
   "outputs": [
    {
     "data": {
      "text/plain": [
       "Pipeline(steps=[('classifier', SVC(C=5, gamma=0.1))])"
      ]
     },
     "execution_count": 65,
     "metadata": {},
     "output_type": "execute_result"
    }
   ],
   "source": [
    "best_grid.best_estimator_"
   ]
  },
  {
   "cell_type": "code",
   "execution_count": 66,
   "id": "2bdd781c",
   "metadata": {},
   "outputs": [
    {
     "data": {
      "text/plain": [
       "{'classifier': SVC(C=5, gamma=0.1),\n",
       " 'classifier__C': 5,\n",
       " 'classifier__gamma': 0.1}"
      ]
     },
     "execution_count": 66,
     "metadata": {},
     "output_type": "execute_result"
    }
   ],
   "source": [
    "best_grid.best_params_"
   ]
  },
  {
   "cell_type": "code",
   "execution_count": 67,
   "id": "dbca01a8",
   "metadata": {},
   "outputs": [
    {
     "data": {
      "text/plain": [
       "Pipeline(steps=[('classifier', RandomForestClassifier())])"
      ]
     },
     "execution_count": 67,
     "metadata": {},
     "output_type": "execute_result"
    }
   ],
   "source": [
    "pipe"
   ]
  },
  {
   "cell_type": "code",
   "execution_count": null,
   "id": "fe16f8a2",
   "metadata": {},
   "outputs": [],
   "source": []
  }
 ],
 "metadata": {
  "kernelspec": {
   "display_name": "Python 3",
   "language": "python",
   "name": "python3"
  },
  "language_info": {
   "codemirror_mode": {
    "name": "ipython",
    "version": 3
   },
   "file_extension": ".py",
   "mimetype": "text/x-python",
   "name": "python",
   "nbconvert_exporter": "python",
   "pygments_lexer": "ipython3",
   "version": "3.7.7"
  }
 },
 "nbformat": 4,
 "nbformat_minor": 5
}
